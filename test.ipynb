{
 "metadata": {
  "orig_nbformat": 2,
  "kernelspec": {
   "name": "python3",
   "display_name": "Python 3",
   "language": "python"
  }
 },
 "nbformat": 4,
 "nbformat_minor": 2,
 "cells": [
  {
   "source": [
    "# Modules: Datasets and Graphs"
   ],
   "cell_type": "markdown",
   "metadata": {}
  },
  {
   "cell_type": "code",
   "execution_count": 104,
   "metadata": {},
   "outputs": [
    {
     "output_type": "stream",
     "name": "stdout",
     "text": [
      "The autoreload extension is already loaded. To reload it, use:\n  %reload_ext autoreload\n"
     ]
    }
   ],
   "source": [
    "import tensorflow as tf\n",
    "from msp.datasets import make_data, load_sample_data, make_sparse_data\n",
    "from msp.graphs import MSPGraph\n",
    "\n",
    "%load_ext autoreload\n",
    "%autoreload 2"
   ]
  },
  {
   "cell_type": "code",
   "execution_count": 31,
   "metadata": {},
   "outputs": [],
   "source": [
    "dataset = make_data(500, msp_rand_size=(2,30), random_state=2021)\n",
    "tf.data.experimental.save(dataset, 'msp/datasets/data/sample_tf_rand_2021')"
   ]
  },
  {
   "cell_type": "code",
   "execution_count": 34,
   "metadata": {},
   "outputs": [],
   "source": [
    "dataset = load_sample_data()"
   ]
  },
  {
   "cell_type": "code",
   "execution_count": 35,
   "metadata": {},
   "outputs": [
    {
     "output_type": "stream",
     "name": "stdout",
     "text": [
      "MSPGraph(45_759)\n",
      "MSPGraph(42_690)\n",
      "MSPGraph(33_150)\n",
      "MSPGraph(20_172)\n",
      "MSPGraph(35_364)\n",
      "MSPGraph(37_413)\n",
      "MSPGraph(10_44)\n",
      "MSPGraph(14_46)\n",
      "MSPGraph(28_287)\n",
      "MSPGraph(12_54)\n",
      "MSPGraph(42_483)\n",
      "MSPGraph(26_295)\n",
      "MSPGraph(47_675)\n",
      "MSPGraph(22_140)\n",
      "MSPGraph(20_37)\n",
      "MSPGraph(21_39)\n",
      "MSPGraph(37_495)\n",
      "MSPGraph(48_875)\n",
      "MSPGraph(34_483)\n",
      "MSPGraph(25_222)\n",
      "MSPGraph(24_242)\n",
      "MSPGraph(22_191)\n",
      "MSPGraph(18_132)\n",
      "MSPGraph(35_516)\n",
      "MSPGraph(24_156)\n",
      "MSPGraph(40_429)\n",
      "MSPGraph(34_523)\n",
      "MSPGraph(32_435)\n",
      "MSPGraph(42_770)\n",
      "MSPGraph(24_234)\n",
      "MSPGraph(42_455)\n",
      "MSPGraph(22_176)\n",
      "MSPGraph(34_183)\n",
      "MSPGraph(37_456)\n",
      "MSPGraph(23_198)\n",
      "MSPGraph(31_114)\n",
      "MSPGraph(31_59)\n",
      "MSPGraph(34_308)\n",
      "MSPGraph(43_552)\n",
      "MSPGraph(47_756)\n",
      "MSPGraph(24_230)\n",
      "MSPGraph(41_649)\n",
      "MSPGraph(27_180)\n",
      "MSPGraph(21_193)\n",
      "MSPGraph(29_378)\n",
      "MSPGraph(18_62)\n",
      "MSPGraph(23_133)\n",
      "MSPGraph(38_493)\n",
      "MSPGraph(40_627)\n",
      "MSPGraph(30_393)\n",
      "MSPGraph(29_367)\n",
      "MSPGraph(40_609)\n",
      "MSPGraph(31_406)\n",
      "MSPGraph(37_621)\n",
      "MSPGraph(19_80)\n",
      "MSPGraph(31_416)\n",
      "MSPGraph(42_741)\n",
      "MSPGraph(46_864)\n",
      "MSPGraph(41_752)\n",
      "MSPGraph(47_850)\n",
      "MSPGraph(41_544)\n",
      "MSPGraph(37_513)\n",
      "MSPGraph(17_114)\n",
      "MSPGraph(33_297)\n",
      "MSPGraph(24_220)\n",
      "MSPGraph(20_112)\n",
      "MSPGraph(33_490)\n",
      "MSPGraph(45_870)\n",
      "MSPGraph(25_234)\n",
      "MSPGraph(26_289)\n",
      "MSPGraph(52_1073)\n",
      "MSPGraph(23_231)\n",
      "MSPGraph(27_308)\n",
      "MSPGraph(12_60)\n",
      "MSPGraph(49_876)\n",
      "MSPGraph(31_417)\n",
      "MSPGraph(35_385)\n",
      "MSPGraph(36_585)\n",
      "MSPGraph(44_825)\n",
      "MSPGraph(12_56)\n",
      "MSPGraph(34_470)\n",
      "MSPGraph(46_629)\n",
      "MSPGraph(31_405)\n",
      "MSPGraph(20_124)\n",
      "MSPGraph(28_287)\n",
      "MSPGraph(11_42)\n",
      "MSPGraph(13_73)\n",
      "MSPGraph(41_729)\n",
      "MSPGraph(20_183)\n",
      "MSPGraph(12_45)\n",
      "MSPGraph(50_819)\n",
      "MSPGraph(40_570)\n",
      "MSPGraph(23_229)\n",
      "MSPGraph(39_441)\n",
      "MSPGraph(30_282)\n",
      "MSPGraph(19_35)\n",
      "MSPGraph(40_527)\n",
      "MSPGraph(29_301)\n",
      "MSPGraph(30_57)\n",
      "MSPGraph(10_17)\n",
      "MSPGraph(30_392)\n",
      "MSPGraph(19_165)\n",
      "MSPGraph(31_390)\n",
      "MSPGraph(33_318)\n",
      "MSPGraph(32_343)\n",
      "MSPGraph(40_480)\n",
      "MSPGraph(51_1022)\n",
      "MSPGraph(47_910)\n",
      "MSPGraph(25_222)\n",
      "MSPGraph(39_693)\n",
      "MSPGraph(16_75)\n",
      "MSPGraph(6_12)\n",
      "MSPGraph(32_118)\n",
      "MSPGraph(36_354)\n",
      "MSPGraph(46_825)\n",
      "MSPGraph(15_77)\n",
      "MSPGraph(30_330)\n",
      "MSPGraph(21_90)\n",
      "MSPGraph(47_928)\n",
      "MSPGraph(33_177)\n",
      "MSPGraph(35_504)\n",
      "MSPGraph(37_546)\n",
      "MSPGraph(42_510)\n",
      "MSPGraph(43_783)\n",
      "MSPGraph(48_750)\n",
      "MSPGraph(32_265)\n",
      "MSPGraph(22_140)\n",
      "MSPGraph(42_510)\n",
      "MSPGraph(20_153)\n",
      "MSPGraph(26_205)\n",
      "MSPGraph(47_805)\n",
      "MSPGraph(28_330)\n",
      "MSPGraph(22_184)\n",
      "MSPGraph(7_18)\n",
      "MSPGraph(21_74)\n",
      "MSPGraph(18_48)\n",
      "MSPGraph(27_306)\n",
      "MSPGraph(35_552)\n",
      "MSPGraph(15_93)\n",
      "MSPGraph(28_272)\n",
      "MSPGraph(23_228)\n",
      "MSPGraph(25_284)\n",
      "MSPGraph(43_732)\n",
      "MSPGraph(29_153)\n",
      "MSPGraph(45_780)\n",
      "MSPGraph(35_342)\n",
      "MSPGraph(19_143)\n",
      "MSPGraph(21_191)\n",
      "MSPGraph(17_70)\n",
      "MSPGraph(43_732)\n",
      "MSPGraph(31_428)\n",
      "MSPGraph(21_74)\n",
      "MSPGraph(13_23)\n",
      "MSPGraph(25_236)\n",
      "MSPGraph(46_684)\n",
      "MSPGraph(6_14)\n",
      "MSPGraph(53_1102)\n",
      "MSPGraph(36_525)\n",
      "MSPGraph(42_770)\n",
      "MSPGraph(29_253)\n",
      "MSPGraph(39_570)\n",
      "MSPGraph(32_343)\n",
      "MSPGraph(18_124)\n",
      "MSPGraph(10_41)\n",
      "MSPGraph(44_670)\n",
      "MSPGraph(46_710)\n",
      "MSPGraph(32_220)\n",
      "MSPGraph(22_140)\n",
      "MSPGraph(31_410)\n",
      "MSPGraph(25_278)\n",
      "MSPGraph(12_58)\n",
      "MSPGraph(49_798)\n",
      "MSPGraph(37_341)\n",
      "MSPGraph(58_1247)\n",
      "MSPGraph(48_957)\n",
      "MSPGraph(46_710)\n",
      "MSPGraph(29_253)\n",
      "MSPGraph(35_217)\n",
      "MSPGraph(18_62)\n",
      "MSPGraph(19_135)\n",
      "MSPGraph(32_220)\n",
      "MSPGraph(45_690)\n",
      "MSPGraph(31_87)\n",
      "MSPGraph(31_212)\n",
      "MSPGraph(47_675)\n",
      "MSPGraph(39_551)\n",
      "MSPGraph(18_130)\n",
      "MSPGraph(20_176)\n",
      "MSPGraph(32_306)\n",
      "MSPGraph(21_189)\n",
      "MSPGraph(35_527)\n",
      "MSPGraph(14_36)\n",
      "MSPGraph(34_261)\n",
      "MSPGraph(47_928)\n",
      "MSPGraph(27_285)\n",
      "MSPGraph(22_126)\n",
      "MSPGraph(26_285)\n",
      "MSPGraph(47_891)\n",
      "MSPGraph(20_85)\n",
      "MSPGraph(35_364)\n",
      "MSPGraph(31_430)\n",
      "MSPGraph(4_5)\n",
      "MSPGraph(35_517)\n",
      "MSPGraph(30_393)\n",
      "MSPGraph(27_51)\n",
      "MSPGraph(19_66)\n",
      "MSPGraph(17_100)\n",
      "MSPGraph(39_648)\n",
      "MSPGraph(34_499)\n",
      "MSPGraph(35_295)\n",
      "MSPGraph(9_30)\n",
      "MSPGraph(33_437)\n",
      "MSPGraph(35_555)\n",
      "MSPGraph(26_135)\n",
      "MSPGraph(33_318)\n",
      "MSPGraph(44_826)\n",
      "MSPGraph(45_690)\n",
      "MSPGraph(28_207)\n",
      "MSPGraph(14_70)\n",
      "MSPGraph(53_972)\n",
      "MSPGraph(25_262)\n",
      "MSPGraph(34_371)\n",
      "MSPGraph(14_36)\n",
      "MSPGraph(28_273)\n",
      "MSPGraph(19_162)\n",
      "MSPGraph(29_373)\n",
      "MSPGraph(36_573)\n",
      "MSPGraph(27_313)\n",
      "MSPGraph(28_168)\n",
      "MSPGraph(35_424)\n",
      "MSPGraph(33_487)\n",
      "MSPGraph(26_205)\n",
      "MSPGraph(25_209)\n",
      "MSPGraph(35_424)\n",
      "MSPGraph(45_665)\n",
      "MSPGraph(13_42)\n",
      "MSPGraph(30_110)\n",
      "MSPGraph(49_900)\n",
      "MSPGraph(33_501)\n",
      "MSPGraph(16_42)\n",
      "MSPGraph(21_194)\n",
      "MSPGraph(52_1026)\n",
      "MSPGraph(15_50)\n",
      "MSPGraph(16_112)\n",
      "MSPGraph(9_21)\n",
      "MSPGraph(45_819)\n",
      "MSPGraph(22_218)\n",
      "MSPGraph(34_261)\n",
      "MSPGraph(33_497)\n",
      "MSPGraph(37_390)\n",
      "MSPGraph(27_231)\n",
      "MSPGraph(29_55)\n",
      "MSPGraph(5_9)\n",
      "MSPGraph(28_353)\n",
      "MSPGraph(16_109)\n",
      "MSPGraph(17_107)\n",
      "MSPGraph(19_51)\n",
      "MSPGraph(48_938)\n",
      "MSPGraph(20_135)\n",
      "MSPGraph(23_162)\n",
      "MSPGraph(30_391)\n",
      "MSPGraph(42_770)\n",
      "MSPGraph(26_247)\n",
      "MSPGraph(38_612)\n",
      "MSPGraph(40_644)\n",
      "MSPGraph(48_875)\n",
      "MSPGraph(12_63)\n",
      "MSPGraph(45_737)\n",
      "MSPGraph(18_138)\n",
      "MSPGraph(36_573)\n",
      "MSPGraph(46_657)\n",
      "MSPGraph(36_563)\n",
      "MSPGraph(43_713)\n",
      "MSPGraph(26_269)\n",
      "MSPGraph(20_37)\n",
      "MSPGraph(36_224)\n",
      "MSPGraph(36_539)\n",
      "MSPGraph(19_135)\n",
      "MSPGraph(24_140)\n",
      "MSPGraph(43_650)\n",
      "MSPGraph(45_759)\n",
      "MSPGraph(32_376)\n",
      "MSPGraph(13_23)\n",
      "MSPGraph(31_387)\n",
      "MSPGraph(25_69)\n",
      "MSPGraph(33_228)\n",
      "MSPGraph(7_11)\n",
      "MSPGraph(10_29)\n",
      "MSPGraph(44_775)\n",
      "MSPGraph(19_126)\n",
      "MSPGraph(38_567)\n",
      "MSPGraph(5_7)\n",
      "MSPGraph(22_198)\n",
      "MSPGraph(37_435)\n",
      "MSPGraph(40_570)\n",
      "MSPGraph(55_1160)\n",
      "MSPGraph(6_14)\n",
      "MSPGraph(56_1134)\n",
      "MSPGraph(21_174)\n",
      "MSPGraph(27_141)\n",
      "MSPGraph(24_237)\n",
      "MSPGraph(30_375)\n",
      "MSPGraph(49_798)\n",
      "MSPGraph(11_43)\n",
      "MSPGraph(43_650)\n",
      "MSPGraph(33_484)\n",
      "MSPGraph(23_224)\n",
      "MSPGraph(39_551)\n",
      "MSPGraph(10_23)\n",
      "MSPGraph(14_25)\n",
      "MSPGraph(27_75)\n",
      "MSPGraph(32_360)\n",
      "MSPGraph(24_244)\n",
      "MSPGraph(44_810)\n",
      "MSPGraph(27_273)\n",
      "MSPGraph(25_263)\n",
      "MSPGraph(31_437)\n",
      "MSPGraph(24_156)\n",
      "MSPGraph(21_90)\n",
      "MSPGraph(39_621)\n",
      "MSPGraph(28_273)\n",
      "MSPGraph(43_497)\n",
      "MSPGraph(7_18)\n",
      "MSPGraph(35_217)\n",
      "MSPGraph(34_529)\n",
      "MSPGraph(30_356)\n",
      "MSPGraph(37_611)\n",
      "MSPGraph(29_355)\n",
      "MSPGraph(32_439)\n",
      "MSPGraph(44_568)\n",
      "MSPGraph(22_214)\n",
      "MSPGraph(6_14)\n",
      "MSPGraph(41_752)\n",
      "MSPGraph(31_395)\n",
      "MSPGraph(21_192)\n",
      "MSPGraph(40_455)\n",
      "MSPGraph(50_949)\n",
      "MSPGraph(47_871)\n",
      "MSPGraph(27_285)\n",
      "MSPGraph(29_301)\n",
      "MSPGraph(52_920)\n",
      "MSPGraph(43_767)\n",
      "MSPGraph(30_110)\n",
      "MSPGraph(36_586)\n",
      "MSPGraph(52_975)\n",
      "MSPGraph(34_183)\n",
      "MSPGraph(30_330)\n",
      "MSPGraph(38_403)\n",
      "MSPGraph(18_137)\n",
      "MSPGraph(40_455)\n",
      "MSPGraph(36_509)\n",
      "MSPGraph(23_148)\n",
      "MSPGraph(47_928)\n",
      "MSPGraph(47_703)\n",
      "MSPGraph(13_23)\n",
      "MSPGraph(32_398)\n",
      "MSPGraph(11_27)\n",
      "MSPGraph(25_90)\n",
      "MSPGraph(37_627)\n",
      "MSPGraph(13_50)\n",
      "MSPGraph(19_105)\n",
      "MSPGraph(6_9)\n",
      "MSPGraph(26_247)\n",
      "MSPGraph(52_1050)\n",
      "MSPGraph(42_585)\n",
      "MSPGraph(29_81)\n",
      "MSPGraph(36_420)\n",
      "MSPGraph(26_115)\n",
      "MSPGraph(42_630)\n",
      "MSPGraph(17_91)\n",
      "MSPGraph(28_287)\n",
      "MSPGraph(33_423)\n",
      "MSPGraph(35_490)\n",
      "MSPGraph(45_759)\n",
      "MSPGraph(31_212)\n",
      "MSPGraph(31_275)\n",
      "MSPGraph(45_584)\n",
      "MSPGraph(27_313)\n",
      "MSPGraph(10_41)\n",
      "MSPGraph(27_98)\n",
      "MSPGraph(32_404)\n",
      "MSPGraph(21_57)\n",
      "MSPGraph(30_264)\n",
      "MSPGraph(19_66)\n",
      "MSPGraph(20_37)\n",
      "MSPGraph(29_301)\n",
      "MSPGraph(8_24)\n",
      "MSPGraph(39_510)\n",
      "MSPGraph(18_33)\n",
      "MSPGraph(19_35)\n",
      "MSPGraph(51_950)\n",
      "MSPGraph(41_649)\n",
      "MSPGraph(48_722)\n",
      "MSPGraph(29_175)\n",
      "MSPGraph(25_275)\n",
      "MSPGraph(29_364)\n",
      "MSPGraph(36_330)\n",
      "MSPGraph(46_710)\n",
      "MSPGraph(28_342)\n",
      "MSPGraph(25_90)\n",
      "MSPGraph(29_328)\n",
      "MSPGraph(33_318)\n",
      "MSPGraph(42_536)\n",
      "MSPGraph(41_728)\n",
      "MSPGraph(29_384)\n",
      "MSPGraph(12_56)\n",
      "MSPGraph(29_339)\n",
      "MSPGraph(24_45)\n",
      "MSPGraph(55_1160)\n",
      "MSPGraph(24_156)\n",
      "MSPGraph(25_233)\n",
      "MSPGraph(36_224)\n",
      "MSPGraph(15_84)\n",
      "MSPGraph(38_645)\n",
      "MSPGraph(37_546)\n",
      "MSPGraph(22_213)\n",
      "MSPGraph(29_235)\n",
      "MSPGraph(26_287)\n",
      "MSPGraph(12_49)\n",
      "MSPGraph(28_353)\n",
      "MSPGraph(34_390)\n",
      "MSPGraph(22_200)\n",
      "MSPGraph(37_288)\n",
      "MSPGraph(31_426)\n",
      "MSPGraph(15_84)\n",
      "MSPGraph(33_483)\n",
      "MSPGraph(48_956)\n",
      "MSPGraph(55_1107)\n",
      "MSPGraph(31_374)\n",
      "MSPGraph(24_252)\n",
      "MSPGraph(7_11)\n",
      "MSPGraph(20_168)\n",
      "MSPGraph(41_544)\n",
      "MSPGraph(19_66)\n",
      "MSPGraph(20_147)\n",
      "MSPGraph(47_703)\n",
      "MSPGraph(39_441)\n",
      "MSPGraph(39_682)\n",
      "MSPGraph(41_667)\n",
      "MSPGraph(38_637)\n",
      "MSPGraph(31_294)\n",
      "MSPGraph(29_175)\n",
      "MSPGraph(45_819)\n",
      "MSPGraph(37_513)\n",
      "MSPGraph(31_294)\n",
      "MSPGraph(28_273)\n",
      "MSPGraph(46_657)\n",
      "MSPGraph(42_630)\n",
      "MSPGraph(24_239)\n",
      "MSPGraph(22_60)\n",
      "MSPGraph(18_130)\n",
      "MSPGraph(10_41)\n",
      "MSPGraph(40_697)\n",
      "MSPGraph(42_690)\n",
      "MSPGraph(44_693)\n",
      "MSPGraph(33_177)\n",
      "MSPGraph(25_164)\n",
      "MSPGraph(8_23)\n",
      "MSPGraph(39_390)\n",
      "MSPGraph(40_570)\n",
      "MSPGraph(23_117)\n",
      "MSPGraph(51_869)\n",
      "MSPGraph(32_286)\n",
      "MSPGraph(42_510)\n",
      "MSPGraph(21_179)\n",
      "MSPGraph(22_202)\n",
      "MSPGraph(27_180)\n",
      "MSPGraph(37_574)\n",
      "MSPGraph(31_255)\n",
      "MSPGraph(35_558)\n",
      "MSPGraph(33_436)\n",
      "MSPGraph(17_81)\n",
      "MSPGraph(15_88)\n",
      "MSPGraph(27_295)\n",
      "MSPGraph(36_279)\n",
      "MSPGraph(23_213)\n",
      "MSPGraph(41_610)\n",
      "MSPGraph(30_357)\n",
      "MSPGraph(34_390)\n",
      "MSPGraph(46_899)\n",
      "MSPGraph(21_74)\n",
      "MSPGraph(48_777)\n",
      "MSPGraph(28_225)\n",
      "MSPGraph(40_549)\n",
      "MSPGraph(25_47)\n",
      "MSPGraph(37_559)\n",
      "MSPGraph(30_204)\n",
      "MSPGraph(34_425)\n",
      "MSPGraph(44_809)\n",
      "MSPGraph(40_674)\n",
      "MSPGraph(39_636)\n",
      "MSPGraph(23_187)\n",
      "MSPGraph(6_9)\n",
      "MSPGraph(13_41)\n",
      "MSPGraph(41_520)\n",
      "MSPGraph(42_690)\n",
      "MSPGraph(56_1134)\n",
      "MSPGraph(13_42)\n",
      "MSPGraph(32_429)\n",
      "MSPGraph(36_224)\n"
     ]
    }
   ],
   "source": [
    "for sample in dataset:\n",
    "    G = MSPGraph.from_dict(sample)\n",
    "    file_name = \"MSPGraph({}_{})\".format(G.number_of_nodes(),G.number_of_edges())\n",
    "    G.writeAs('msp/datasets/data/sample_graphml_rand_2021/{}.graphml'.format(file_name), 'graphml')"
   ]
  },
  {
   "source": [
    "# Modules: Layers"
   ],
   "cell_type": "markdown",
   "metadata": {}
  },
  {
   "cell_type": "code",
   "execution_count": 5,
   "metadata": {},
   "outputs": [],
   "source": [
    "from typing import NamedTuple"
   ]
  },
  {
   "cell_type": "code",
   "execution_count": null,
   "metadata": {},
   "outputs": [],
   "source": []
  },
  {
   "cell_type": "code",
   "execution_count": 11,
   "metadata": {},
   "outputs": [],
   "source": [
    "class Test(NamedTuple):\n",
    "    node: tf.TensorSpec"
   ]
  },
  {
   "cell_type": "code",
   "execution_count": 75,
   "metadata": {},
   "outputs": [],
   "source": [
    "from typing import NamedTuple\n",
    "\n",
    "from tensorflow import Tensor\n",
    "\n",
    "class GG:\n",
    "    pass\n",
    "\n",
    "class MSPSparseGraph(NamedTuple):\n",
    "    \"\"\" \"\"\"\n",
    "    node_features: Tensor\n",
    "    edge_features: Tensor\n",
    "    # alpha: Tensor\n",
    "\n",
    "    @property\n",
    "    def num_node(self):\n",
    "        return self.alpha.shape[0]\n",
    "        #print('asdfjkas;df')\n",
    "\n",
    " "
   ]
  },
  {
   "cell_type": "code",
   "execution_count": 81,
   "metadata": {},
   "outputs": [],
   "source": [
    "def _generator(n_samples):\n",
    "    for i in range(n_samples):\n",
    "        yield MSPSparseGraph(tf.ones((2,3)), tf.ones((5,2)))"
   ]
  },
  {
   "cell_type": "code",
   "execution_count": 87,
   "metadata": {},
   "outputs": [
    {
     "output_type": "execute_result",
     "data": {
      "text/plain": [
       "MSPSparseGraph(node_features=TensorSpec(shape=<unknown>, dtype=tf.float64, name=None), edge_features=TensorSpec(shape=<unknown>, dtype=tf.float64, name=None))"
      ]
     },
     "metadata": {},
     "execution_count": 87
    }
   ],
   "source": [
    "# output_signature = {\n",
    "# 'node_features': tf.TensorSpec(shape=None, dtype=tf.float64),\n",
    "# 'edge_features': tf.TensorSpec(shape=None, dtype=tf.float64),\n",
    "# 'edge_index': tf.TensorSpec(shape=None, dtype=tf.float64),\n",
    "# 'alpha': tf.TensorSpec(shape=None, dtype=tf.float64)\n",
    "# }\n",
    "\n",
    "output_signature = MSPSparseGraph(tf.TensorSpec(shape=None, dtype=tf.float64), \n",
    "tf.TensorSpec(shape=None, dtype=tf.float64))\n",
    "dataset = tf.data.Dataset.from_generator(_generator, args=(2,),\n",
    "                                   output_signature=output_signature)\n",
    "dataset.element_spec"
   ]
  },
  {
   "cell_type": "code",
   "execution_count": 88,
   "metadata": {},
   "outputs": [
    {
     "output_type": "execute_result",
     "data": {
      "text/plain": [
       "MSPSparseGraph(node_features=<tf.Tensor: shape=(2, 3), dtype=float64, numpy=\n",
       "array([[1., 1., 1.],\n",
       "       [1., 1., 1.]])>, edge_features=<tf.Tensor: shape=(5, 2), dtype=float64, numpy=\n",
       "array([[1., 1.],\n",
       "       [1., 1.],\n",
       "       [1., 1.],\n",
       "       [1., 1.],\n",
       "       [1., 1.]])>)"
      ]
     },
     "metadata": {},
     "execution_count": 88
    }
   ],
   "source": [
    "list(dataset.take(1))[0]"
   ]
  },
  {
   "cell_type": "code",
   "execution_count": 89,
   "metadata": {},
   "outputs": [
    {
     "output_type": "execute_result",
     "data": {
      "text/plain": [
       "OrderedDict([('node_features', <tf.Tensor: shape=(2, 3), dtype=float32, numpy=\n",
       "              array([[1., 1., 1.],\n",
       "                     [1., 1., 1.]], dtype=float32)>)])"
      ]
     },
     "metadata": {},
     "execution_count": 89
    }
   ],
   "source": [
    "Graph(tf.ones((2,3)))._asdict()"
   ]
  },
  {
   "cell_type": "code",
   "execution_count": 1,
   "metadata": {},
   "outputs": [],
   "source": [
    "import tensorflow as tf\n",
    "from tensorflow.keras.layers import Layer"
   ]
  },
  {
   "cell_type": "code",
   "execution_count": 2,
   "metadata": {},
   "outputs": [
    {
     "output_type": "execute_result",
     "data": {
      "text/plain": [
       "True"
      ]
     },
     "metadata": {},
     "execution_count": 2
    }
   ],
   "source": [
    "# tf.compat.v1.disable_eager_execution()\n",
    "# tf.compat.v1.enable_eager_execution()\n",
    "tf.executing_eagerly()"
   ]
  },
  {
   "cell_type": "code",
   "execution_count": 3,
   "metadata": {},
   "outputs": [],
   "source": [
    "class GGCNLayer(Layer):\n",
    "\n",
    "    def __init__(self, \n",
    "                 units, \n",
    "                 *args, \n",
    "                 activation=None, \n",
    "                 use_bias=True, \n",
    "                 normalization='batch',\n",
    "                 **kwargs):\n",
    "        \"\"\" \"\"\"\n",
    "        super(GGCNLayer, self).__init__(*args, **kwargs)\n",
    "        self.units = units\n",
    "        self.activation = tf.keras.activations.get(activation)\n",
    "        self.use_bias = use_bias\n",
    "        self.normalization= normalization\n",
    "\n",
    "    def build(self, input_shape):\n",
    "        \"\"\"Create the state of the layer (weights)\"\"\"\n",
    "        print('Build')\n",
    "        node_features_shape = input_shape  \n",
    "        embedded_shape = tf.TensorShape((None, self.units))\n",
    "        # _initial_projection_layer (think on it)\n",
    "\n",
    "        with tf.name_scope('node'):\n",
    "            with tf.name_scope('U'):\n",
    "                self.U = tf.keras.layers.Dense(self.units, use_bias=self.use_bias)\n",
    "                self.U.build(node_features_shape)\n",
    "\n",
    "            with tf.name_scope('V'):\n",
    "                self.V = tf.keras.layers.Dense(self.units, use_bias=self.use_bias)\n",
    "                self.V.build(node_features_shape)\n",
    "\n",
    "        with tf.name_scope('edge'):\n",
    "            with tf.name_scope('A'):\n",
    "                self.A = tf.keras.layers.Dense(self.units, use_bias=self.use_bias)\n",
    "                self.A.build(tf.TensorShape((None, node_features_shape[-1])))\n",
    "            \n",
    "            with tf.name_scope('B'):\n",
    "                self.B = tf.keras.layers.Dense(self.units, use_bias=self.use_bias)\n",
    "                self.B.build(node_features_shape)\n",
    "\n",
    "            with tf.name_scope('C'):\n",
    "                self.C = tf.keras.layers.Dense(self.units, use_bias=self.use_bias)\n",
    "                self.C.build(node_features_shape)\n",
    "\n",
    "        with tf.name_scope('norm'):\n",
    "            with tf.name_scope('node'):\n",
    "                self.norm_h = {\n",
    "                    \"layer\": tf.keras.layers.BatchNormalization(),\n",
    "                    \"batch\": tf.keras.layers.LayerNormalization(),\n",
    "                }.get(self.normalization)\n",
    "                self.norm_h.build(embedded_shape)\n",
    "\n",
    "            with tf.name_scope('edge'):\n",
    "                self.norm_e = {\n",
    "                    \"layer\": tf.keras.layers.BatchNormalization(),\n",
    "                    \"batch\": tf.keras.layers.LayerNormalization(),\n",
    "                }.get(self.normalization)\n",
    "                self.norm_e.build(embedded_shape)\n",
    "        \n",
    "        super().build(input_shape)\n",
    " \n",
    "    def call(self, inputs):\n",
    "        \"\"\" \"\"\"\n",
    "        print('call')\n",
    "        h = inputs\n",
    "\n",
    "        Ah = self.A(h)\n",
    "        Bh = self.B(h)\n",
    "\n",
    "\n",
    "\n",
    "\n",
    "\n",
    "        return Ah\n",
    "\n",
    "\n",
    "    def _convert_to_adjMatrix()\n",
    "\n",
    "\n",
    "    # def _message_passing():\n",
    "\n",
    "    #     def message_func():\n",
    "    #         pass \n",
    "\n",
    "    #     def aggregate_func():\n",
    "    #         pass \n",
    "\n",
    "    #     def update_func():\n",
    "    #         pass\n",
    "\n",
    "    #     # edge-wise\n",
    "        \n",
    "    #     update_func(\n",
    "    #         aggregate_func(\n",
    "    #             message_func(\n",
    "\n",
    "    #             )\n",
    "    #         )\n",
    "    #     )\n",
    "\n",
    "    "
   ]
  },
  {
   "cell_type": "code",
   "execution_count": 4,
   "metadata": {},
   "outputs": [],
   "source": [
    "units = 4\n",
    "B, V, H = 1, 3, 2\n",
    "h = tf.ones((B, V, H))"
   ]
  },
  {
   "cell_type": "code",
   "execution_count": 5,
   "metadata": {},
   "outputs": [
    {
     "output_type": "stream",
     "name": "stdout",
     "text": [
      "Build\ncall\n"
     ]
    }
   ],
   "source": [
    "ggcn = GGCNLayer(units=units, use_bias=True, name='GGCN_Layer')\n",
    "output = ggcn(h)"
   ]
  },
  {
   "cell_type": "code",
   "execution_count": 105,
   "metadata": {},
   "outputs": [],
   "source": [
    "dataset = make_sparse_data(4, msp_size=(1,2), random_state=2021)"
   ]
  },
  {
   "cell_type": "code",
   "execution_count": 106,
   "metadata": {},
   "outputs": [
    {
     "output_type": "stream",
     "name": "stdout",
     "text": [
      "\n"
     ]
    },
    {
     "output_type": "error",
     "ename": "InvalidArgumentError",
     "evalue": "TypeError: tile() missing 1 required positional argument: 'multiples'\nTraceback (most recent call last):\n\n  File \"/usr/local/lib/python3.7/dist-packages/tensorflow/python/ops/script_ops.py\", line 249, in __call__\n    ret = func(*args)\n\n  File \"/usr/local/lib/python3.7/dist-packages/tensorflow/python/autograph/impl/api.py\", line 645, in wrapper\n    return func(*args, **kwargs)\n\n  File \"/usr/local/lib/python3.7/dist-packages/tensorflow/python/data/ops/dataset_ops.py\", line 961, in generator_py_func\n    values = next(generator_state.get_iterator(iterator_id))\n\n  File \"/content/drive/.shortcut-targets-by-id/1EYB6iJMFd35F7-IGCXdQBftrx1PpYRrJ/HSE_Thesis/msp/msp/datasets/_samples_generator.py\", line 198, in _generator\n    edge_features = sparse_repr(msp.to_dict())\n\n  File \"/content/drive/.shortcut-targets-by-id/1EYB6iJMFd35F7-IGCXdQBftrx1PpYRrJ/HSE_Thesis/msp/msp/datasets/_samples_generator.py\", line 133, in sparse_repr\n    tf.tile(graph['edge_features'], tf.constant([2,1], tf.int32))\n\nTypeError: tile() missing 1 required positional argument: 'multiples'\n\n\n\t [[{{node PyFunc}}]] [Op:IteratorGetNext]",
     "traceback": [
      "\u001b[0;31m---------------------------------------------------------------------------\u001b[0m",
      "\u001b[0;31mInvalidArgumentError\u001b[0m                      Traceback (most recent call last)",
      "\u001b[0;32m<ipython-input-106-8d62e52281a8>\u001b[0m in \u001b[0;36m<module>\u001b[0;34m()\u001b[0m\n\u001b[0;32m----> 1\u001b[0;31m \u001b[0mlist\u001b[0m\u001b[0;34m(\u001b[0m\u001b[0mdataset\u001b[0m\u001b[0;34m.\u001b[0m\u001b[0mtake\u001b[0m\u001b[0;34m(\u001b[0m\u001b[0;36m1\u001b[0m\u001b[0;34m)\u001b[0m\u001b[0;34m)\u001b[0m\u001b[0;34m\u001b[0m\u001b[0;34m\u001b[0m\u001b[0m\n\u001b[0m",
      "\u001b[0;32m/usr/local/lib/python3.7/dist-packages/tensorflow/python/data/ops/iterator_ops.py\u001b[0m in \u001b[0;36m__next__\u001b[0;34m(self)\u001b[0m\n\u001b[1;32m    759\u001b[0m   \u001b[0;32mdef\u001b[0m \u001b[0m__next__\u001b[0m\u001b[0;34m(\u001b[0m\u001b[0mself\u001b[0m\u001b[0;34m)\u001b[0m\u001b[0;34m:\u001b[0m\u001b[0;34m\u001b[0m\u001b[0;34m\u001b[0m\u001b[0m\n\u001b[1;32m    760\u001b[0m     \u001b[0;32mtry\u001b[0m\u001b[0;34m:\u001b[0m\u001b[0;34m\u001b[0m\u001b[0;34m\u001b[0m\u001b[0m\n\u001b[0;32m--> 761\u001b[0;31m       \u001b[0;32mreturn\u001b[0m \u001b[0mself\u001b[0m\u001b[0;34m.\u001b[0m\u001b[0m_next_internal\u001b[0m\u001b[0;34m(\u001b[0m\u001b[0;34m)\u001b[0m\u001b[0;34m\u001b[0m\u001b[0;34m\u001b[0m\u001b[0m\n\u001b[0m\u001b[1;32m    762\u001b[0m     \u001b[0;32mexcept\u001b[0m \u001b[0merrors\u001b[0m\u001b[0;34m.\u001b[0m\u001b[0mOutOfRangeError\u001b[0m\u001b[0;34m:\u001b[0m\u001b[0;34m\u001b[0m\u001b[0;34m\u001b[0m\u001b[0m\n\u001b[1;32m    763\u001b[0m       \u001b[0;32mraise\u001b[0m \u001b[0mStopIteration\u001b[0m\u001b[0;34m\u001b[0m\u001b[0;34m\u001b[0m\u001b[0m\n",
      "\u001b[0;32m/usr/local/lib/python3.7/dist-packages/tensorflow/python/data/ops/iterator_ops.py\u001b[0m in \u001b[0;36m_next_internal\u001b[0;34m(self)\u001b[0m\n\u001b[1;32m    745\u001b[0m           \u001b[0mself\u001b[0m\u001b[0;34m.\u001b[0m\u001b[0m_iterator_resource\u001b[0m\u001b[0;34m,\u001b[0m\u001b[0;34m\u001b[0m\u001b[0;34m\u001b[0m\u001b[0m\n\u001b[1;32m    746\u001b[0m           \u001b[0moutput_types\u001b[0m\u001b[0;34m=\u001b[0m\u001b[0mself\u001b[0m\u001b[0;34m.\u001b[0m\u001b[0m_flat_output_types\u001b[0m\u001b[0;34m,\u001b[0m\u001b[0;34m\u001b[0m\u001b[0;34m\u001b[0m\u001b[0m\n\u001b[0;32m--> 747\u001b[0;31m           output_shapes=self._flat_output_shapes)\n\u001b[0m\u001b[1;32m    748\u001b[0m \u001b[0;34m\u001b[0m\u001b[0m\n\u001b[1;32m    749\u001b[0m       \u001b[0;32mtry\u001b[0m\u001b[0;34m:\u001b[0m\u001b[0;34m\u001b[0m\u001b[0;34m\u001b[0m\u001b[0m\n",
      "\u001b[0;32m/usr/local/lib/python3.7/dist-packages/tensorflow/python/ops/gen_dataset_ops.py\u001b[0m in \u001b[0;36miterator_get_next\u001b[0;34m(iterator, output_types, output_shapes, name)\u001b[0m\n\u001b[1;32m   2726\u001b[0m       \u001b[0;32mreturn\u001b[0m \u001b[0m_result\u001b[0m\u001b[0;34m\u001b[0m\u001b[0;34m\u001b[0m\u001b[0m\n\u001b[1;32m   2727\u001b[0m     \u001b[0;32mexcept\u001b[0m \u001b[0m_core\u001b[0m\u001b[0;34m.\u001b[0m\u001b[0m_NotOkStatusException\u001b[0m \u001b[0;32mas\u001b[0m \u001b[0me\u001b[0m\u001b[0;34m:\u001b[0m\u001b[0;34m\u001b[0m\u001b[0;34m\u001b[0m\u001b[0m\n\u001b[0;32m-> 2728\u001b[0;31m       \u001b[0m_ops\u001b[0m\u001b[0;34m.\u001b[0m\u001b[0mraise_from_not_ok_status\u001b[0m\u001b[0;34m(\u001b[0m\u001b[0me\u001b[0m\u001b[0;34m,\u001b[0m \u001b[0mname\u001b[0m\u001b[0;34m)\u001b[0m\u001b[0;34m\u001b[0m\u001b[0;34m\u001b[0m\u001b[0m\n\u001b[0m\u001b[1;32m   2729\u001b[0m     \u001b[0;32mexcept\u001b[0m \u001b[0m_core\u001b[0m\u001b[0;34m.\u001b[0m\u001b[0m_FallbackException\u001b[0m\u001b[0;34m:\u001b[0m\u001b[0;34m\u001b[0m\u001b[0;34m\u001b[0m\u001b[0m\n\u001b[1;32m   2730\u001b[0m       \u001b[0;32mpass\u001b[0m\u001b[0;34m\u001b[0m\u001b[0;34m\u001b[0m\u001b[0m\n",
      "\u001b[0;32m/usr/local/lib/python3.7/dist-packages/tensorflow/python/framework/ops.py\u001b[0m in \u001b[0;36mraise_from_not_ok_status\u001b[0;34m(e, name)\u001b[0m\n\u001b[1;32m   6895\u001b[0m   \u001b[0mmessage\u001b[0m \u001b[0;34m=\u001b[0m \u001b[0me\u001b[0m\u001b[0;34m.\u001b[0m\u001b[0mmessage\u001b[0m \u001b[0;34m+\u001b[0m \u001b[0;34m(\u001b[0m\u001b[0;34m\" name: \"\u001b[0m \u001b[0;34m+\u001b[0m \u001b[0mname\u001b[0m \u001b[0;32mif\u001b[0m \u001b[0mname\u001b[0m \u001b[0;32mis\u001b[0m \u001b[0;32mnot\u001b[0m \u001b[0;32mNone\u001b[0m \u001b[0;32melse\u001b[0m \u001b[0;34m\"\"\u001b[0m\u001b[0;34m)\u001b[0m\u001b[0;34m\u001b[0m\u001b[0;34m\u001b[0m\u001b[0m\n\u001b[1;32m   6896\u001b[0m   \u001b[0;31m# pylint: disable=protected-access\u001b[0m\u001b[0;34m\u001b[0m\u001b[0;34m\u001b[0m\u001b[0;34m\u001b[0m\u001b[0m\n\u001b[0;32m-> 6897\u001b[0;31m   \u001b[0msix\u001b[0m\u001b[0;34m.\u001b[0m\u001b[0mraise_from\u001b[0m\u001b[0;34m(\u001b[0m\u001b[0mcore\u001b[0m\u001b[0;34m.\u001b[0m\u001b[0m_status_to_exception\u001b[0m\u001b[0;34m(\u001b[0m\u001b[0me\u001b[0m\u001b[0;34m.\u001b[0m\u001b[0mcode\u001b[0m\u001b[0;34m,\u001b[0m \u001b[0mmessage\u001b[0m\u001b[0;34m)\u001b[0m\u001b[0;34m,\u001b[0m \u001b[0;32mNone\u001b[0m\u001b[0;34m)\u001b[0m\u001b[0;34m\u001b[0m\u001b[0;34m\u001b[0m\u001b[0m\n\u001b[0m\u001b[1;32m   6898\u001b[0m   \u001b[0;31m# pylint: enable=protected-access\u001b[0m\u001b[0;34m\u001b[0m\u001b[0;34m\u001b[0m\u001b[0;34m\u001b[0m\u001b[0m\n\u001b[1;32m   6899\u001b[0m \u001b[0;34m\u001b[0m\u001b[0m\n",
      "\u001b[0;32m/usr/local/lib/python3.7/dist-packages/six.py\u001b[0m in \u001b[0;36mraise_from\u001b[0;34m(value, from_value)\u001b[0m\n",
      "\u001b[0;31mInvalidArgumentError\u001b[0m: TypeError: tile() missing 1 required positional argument: 'multiples'\nTraceback (most recent call last):\n\n  File \"/usr/local/lib/python3.7/dist-packages/tensorflow/python/ops/script_ops.py\", line 249, in __call__\n    ret = func(*args)\n\n  File \"/usr/local/lib/python3.7/dist-packages/tensorflow/python/autograph/impl/api.py\", line 645, in wrapper\n    return func(*args, **kwargs)\n\n  File \"/usr/local/lib/python3.7/dist-packages/tensorflow/python/data/ops/dataset_ops.py\", line 961, in generator_py_func\n    values = next(generator_state.get_iterator(iterator_id))\n\n  File \"/content/drive/.shortcut-targets-by-id/1EYB6iJMFd35F7-IGCXdQBftrx1PpYRrJ/HSE_Thesis/msp/msp/datasets/_samples_generator.py\", line 198, in _generator\n    edge_features = sparse_repr(msp.to_dict())\n\n  File \"/content/drive/.shortcut-targets-by-id/1EYB6iJMFd35F7-IGCXdQBftrx1PpYRrJ/HSE_Thesis/msp/msp/datasets/_samples_generator.py\", line 133, in sparse_repr\n    tf.tile(graph['edge_features'], tf.constant([2,1], tf.int32))\n\nTypeError: tile() missing 1 required positional argument: 'multiples'\n\n\n\t [[{{node PyFunc}}]] [Op:IteratorGetNext]"
     ]
    }
   ],
   "source": [
    "list(dataset.take(1))"
   ]
  },
  {
   "cell_type": "code",
   "execution_count": 47,
   "metadata": {},
   "outputs": [
    {
     "output_type": "execute_result",
     "data": {
      "text/plain": [
       "array([[[0., 0., 0., 0.],\n",
       "        [0., 0., 0., 0.],\n",
       "        [1., 1., 1., 1.]],\n",
       "\n",
       "       [[0., 0., 0., 0.],\n",
       "        [0., 0., 0., 0.],\n",
       "        [0., 0., 0., 0.]],\n",
       "\n",
       "       [[1., 1., 1., 1.],\n",
       "        [0., 0., 0., 0.],\n",
       "        [0., 0., 0., 0.]]], dtype=float32)"
      ]
     },
     "metadata": {},
     "execution_count": 47
    }
   ],
   "source": [
    "tensor = tf.zeros((3,3,4))\n",
    "\n",
    "updates = tf.ones((2,4))\n",
    "\n",
    "indices = [[0, 2], [2,0]]\n",
    "\n",
    "tf.tensor_scatter_nd_update(tensor, indices, updates).numpy()"
   ]
  },
  {
   "cell_type": "code",
   "execution_count": 52,
   "metadata": {},
   "outputs": [],
   "source": [
    "def _convert_to_adjMatrix(graphs):\n",
    "    \"\"\" \"\"\"\n",
    "\n",
    "    num_nodes = 3 #graphs['alpha'].shape[0]\n",
    "    num_edge_features = 3 #edge_features.shape[-1]\n",
    "    adjMatrix_shape = (num_nodes, num_nodes, num_edge_features)\n",
    "    print(adjMatrix_shape)\n",
    "    adjMatrix = tf.tensor_scatter_nd_update(\n",
    "        tf.zeros(adjMatrix_shape),\n",
    "        edge_index,\n",
    "        edge_features\n",
    "        #tf.transpose(tf.cast(graph['edge_index'], tf.int32)),\n",
    "        #tf.cast(graph['edge_features'], tf.float32)\n",
    "    )\n",
    "    return adjMatrix"
   ]
  },
  {
   "cell_type": "code",
   "execution_count": 53,
   "metadata": {},
   "outputs": [
    {
     "output_type": "execute_result",
     "data": {
      "text/plain": [
       "{'alpha': <tf.Tensor: shape=(3, 1), dtype=float64, numpy=\n",
       " array([[1.],\n",
       "        [1.],\n",
       "        [0.]])>,\n",
       " 'edge_features': <tf.Tensor: shape=(3, 3), dtype=float64, numpy=\n",
       " array([[0.83727638, 0.07281021, 0.        ],\n",
       "        [0.        , 0.        , 1.        ],\n",
       "        [0.        , 0.        , 1.        ]])>,\n",
       " 'edge_index': <tf.Tensor: shape=(2, 3), dtype=float64, numpy=\n",
       " array([[0., 0., 1.],\n",
       "        [1., 2., 2.]])>,\n",
       " 'node_features': <tf.Tensor: shape=(3, 3), dtype=float64, numpy=\n",
       " array([[0.13867598, 0.53071164, 0.31222526],\n",
       "        [0.18790457, 0.94799318, 0.31926521],\n",
       "        [0.        , 0.        , 0.        ]])>}"
      ]
     },
     "metadata": {},
     "execution_count": 53
    }
   ],
   "source": [
    "g = list(dataset.take(1))[0]\n",
    "g"
   ]
  },
  {
   "cell_type": "code",
   "execution_count": 54,
   "metadata": {},
   "outputs": [
    {
     "output_type": "stream",
     "name": "stdout",
     "text": [
      "(3, 3, 3)\n"
     ]
    },
    {
     "output_type": "execute_result",
     "data": {
      "text/plain": [
       "<tf.Tensor: shape=(3, 3, 3), dtype=float32, numpy=\n",
       "array([[[0.        , 0.        , 0.        ],\n",
       "        [0.19747274, 0.80559856, 0.        ],\n",
       "        [0.        , 0.        , 1.        ]],\n",
       "\n",
       "       [[0.19747274, 0.80559856, 0.        ],\n",
       "        [0.        , 0.        , 0.        ],\n",
       "        [0.        , 0.        , 1.        ]],\n",
       "\n",
       "       [[0.        , 0.        , 1.        ],\n",
       "        [0.        , 0.        , 1.        ],\n",
       "        [0.        , 0.        , 0.        ]]], dtype=float32)>"
      ]
     },
     "metadata": {},
     "execution_count": 54
    }
   ],
   "source": [
    "_convert_to_adjMatrix(list(dataset.take(1))[0])"
   ]
  },
  {
   "cell_type": "code",
   "execution_count": null,
   "metadata": {},
   "outputs": [],
   "source": []
  },
  {
   "cell_type": "code",
   "execution_count": null,
   "metadata": {},
   "outputs": [],
   "source": []
  },
  {
   "cell_type": "code",
   "execution_count": null,
   "metadata": {},
   "outputs": [],
   "source": []
  },
  {
   "cell_type": "code",
   "execution_count": 49,
   "metadata": {},
   "outputs": [
    {
     "output_type": "stream",
     "name": "stdout",
     "text": [
      "(1, 1, 3)\n"
     ]
    },
    {
     "output_type": "error",
     "ename": "InvalidArgumentError",
     "evalue": "indices[0] = [0, 1] does not index into shape [1,1,3] [Op:TensorScatterUpdate]",
     "traceback": [
      "\u001b[0;31m---------------------------------------------------------------------------\u001b[0m",
      "\u001b[0;31mInvalidArgumentError\u001b[0m                      Traceback (most recent call last)",
      "\u001b[0;32m<ipython-input-49-176213668201>\u001b[0m in \u001b[0;36m<module>\u001b[0;34m()\u001b[0m\n\u001b[0;32m----> 1\u001b[0;31m \u001b[0m_convert_to_adjMatrix\u001b[0m\u001b[0;34m(\u001b[0m\u001b[0mlist\u001b[0m\u001b[0;34m(\u001b[0m\u001b[0mdataset\u001b[0m\u001b[0;34m.\u001b[0m\u001b[0mtake\u001b[0m\u001b[0;34m(\u001b[0m\u001b[0;36m1\u001b[0m\u001b[0;34m)\u001b[0m\u001b[0;34m)\u001b[0m\u001b[0;34m[\u001b[0m\u001b[0;36m0\u001b[0m\u001b[0;34m]\u001b[0m\u001b[0;34m)\u001b[0m\u001b[0;34m\u001b[0m\u001b[0;34m\u001b[0m\u001b[0m\n\u001b[0m",
      "\u001b[0;32m<ipython-input-48-7c197f085f17>\u001b[0m in \u001b[0;36m_convert_to_adjMatrix\u001b[0;34m(graphs)\u001b[0m\n\u001b[1;32m      9\u001b[0m         \u001b[0mtf\u001b[0m\u001b[0;34m.\u001b[0m\u001b[0mzeros\u001b[0m\u001b[0;34m(\u001b[0m\u001b[0madjMatrix_shape\u001b[0m\u001b[0;34m)\u001b[0m\u001b[0;34m,\u001b[0m\u001b[0;34m\u001b[0m\u001b[0;34m\u001b[0m\u001b[0m\n\u001b[1;32m     10\u001b[0m         \u001b[0medge_index\u001b[0m\u001b[0;34m,\u001b[0m\u001b[0;34m\u001b[0m\u001b[0;34m\u001b[0m\u001b[0m\n\u001b[0;32m---> 11\u001b[0;31m         \u001b[0medge_features\u001b[0m\u001b[0;34m\u001b[0m\u001b[0;34m\u001b[0m\u001b[0m\n\u001b[0m\u001b[1;32m     12\u001b[0m         \u001b[0;31m#tf.transpose(tf.cast(graph['edge_index'], tf.int32)),\u001b[0m\u001b[0;34m\u001b[0m\u001b[0;34m\u001b[0m\u001b[0;34m\u001b[0m\u001b[0m\n\u001b[1;32m     13\u001b[0m         \u001b[0;31m#tf.cast(graph['edge_features'], tf.float32)\u001b[0m\u001b[0;34m\u001b[0m\u001b[0;34m\u001b[0m\u001b[0;34m\u001b[0m\u001b[0m\n",
      "\u001b[0;32m/usr/local/lib/python3.7/dist-packages/tensorflow/python/util/dispatch.py\u001b[0m in \u001b[0;36mwrapper\u001b[0;34m(*args, **kwargs)\u001b[0m\n\u001b[1;32m    204\u001b[0m     \u001b[0;34m\"\"\"Call target, and fall back on dispatchers if there is a TypeError.\"\"\"\u001b[0m\u001b[0;34m\u001b[0m\u001b[0;34m\u001b[0m\u001b[0m\n\u001b[1;32m    205\u001b[0m     \u001b[0;32mtry\u001b[0m\u001b[0;34m:\u001b[0m\u001b[0;34m\u001b[0m\u001b[0;34m\u001b[0m\u001b[0m\n\u001b[0;32m--> 206\u001b[0;31m       \u001b[0;32mreturn\u001b[0m \u001b[0mtarget\u001b[0m\u001b[0;34m(\u001b[0m\u001b[0;34m*\u001b[0m\u001b[0margs\u001b[0m\u001b[0;34m,\u001b[0m \u001b[0;34m**\u001b[0m\u001b[0mkwargs\u001b[0m\u001b[0;34m)\u001b[0m\u001b[0;34m\u001b[0m\u001b[0;34m\u001b[0m\u001b[0m\n\u001b[0m\u001b[1;32m    207\u001b[0m     \u001b[0;32mexcept\u001b[0m \u001b[0;34m(\u001b[0m\u001b[0mTypeError\u001b[0m\u001b[0;34m,\u001b[0m \u001b[0mValueError\u001b[0m\u001b[0;34m)\u001b[0m\u001b[0;34m:\u001b[0m\u001b[0;34m\u001b[0m\u001b[0;34m\u001b[0m\u001b[0m\n\u001b[1;32m    208\u001b[0m       \u001b[0;31m# Note: convert_to_eager_tensor currently raises a ValueError, not a\u001b[0m\u001b[0;34m\u001b[0m\u001b[0;34m\u001b[0m\u001b[0;34m\u001b[0m\u001b[0m\n",
      "\u001b[0;32m/usr/local/lib/python3.7/dist-packages/tensorflow/python/ops/array_ops.py\u001b[0m in \u001b[0;36mtensor_scatter_nd_update\u001b[0;34m(tensor, indices, updates, name)\u001b[0m\n\u001b[1;32m   5727\u001b[0m   \"\"\"\n\u001b[1;32m   5728\u001b[0m   return gen_array_ops.tensor_scatter_update(\n\u001b[0;32m-> 5729\u001b[0;31m       tensor=tensor, indices=indices, updates=updates, name=name)\n\u001b[0m\u001b[1;32m   5730\u001b[0m \u001b[0;34m\u001b[0m\u001b[0m\n\u001b[1;32m   5731\u001b[0m \u001b[0;34m\u001b[0m\u001b[0m\n",
      "\u001b[0;32m/usr/local/lib/python3.7/dist-packages/tensorflow/python/ops/gen_array_ops.py\u001b[0m in \u001b[0;36mtensor_scatter_update\u001b[0;34m(tensor, indices, updates, name)\u001b[0m\n\u001b[1;32m  11292\u001b[0m       \u001b[0;32mreturn\u001b[0m \u001b[0m_result\u001b[0m\u001b[0;34m\u001b[0m\u001b[0;34m\u001b[0m\u001b[0m\n\u001b[1;32m  11293\u001b[0m     \u001b[0;32mexcept\u001b[0m \u001b[0m_core\u001b[0m\u001b[0;34m.\u001b[0m\u001b[0m_NotOkStatusException\u001b[0m \u001b[0;32mas\u001b[0m \u001b[0me\u001b[0m\u001b[0;34m:\u001b[0m\u001b[0;34m\u001b[0m\u001b[0;34m\u001b[0m\u001b[0m\n\u001b[0;32m> 11294\u001b[0;31m       \u001b[0m_ops\u001b[0m\u001b[0;34m.\u001b[0m\u001b[0mraise_from_not_ok_status\u001b[0m\u001b[0;34m(\u001b[0m\u001b[0me\u001b[0m\u001b[0;34m,\u001b[0m \u001b[0mname\u001b[0m\u001b[0;34m)\u001b[0m\u001b[0;34m\u001b[0m\u001b[0;34m\u001b[0m\u001b[0m\n\u001b[0m\u001b[1;32m  11295\u001b[0m     \u001b[0;32mexcept\u001b[0m \u001b[0m_core\u001b[0m\u001b[0;34m.\u001b[0m\u001b[0m_FallbackException\u001b[0m\u001b[0;34m:\u001b[0m\u001b[0;34m\u001b[0m\u001b[0;34m\u001b[0m\u001b[0m\n\u001b[1;32m  11296\u001b[0m       \u001b[0;32mpass\u001b[0m\u001b[0;34m\u001b[0m\u001b[0;34m\u001b[0m\u001b[0m\n",
      "\u001b[0;32m/usr/local/lib/python3.7/dist-packages/tensorflow/python/framework/ops.py\u001b[0m in \u001b[0;36mraise_from_not_ok_status\u001b[0;34m(e, name)\u001b[0m\n\u001b[1;32m   6895\u001b[0m   \u001b[0mmessage\u001b[0m \u001b[0;34m=\u001b[0m \u001b[0me\u001b[0m\u001b[0;34m.\u001b[0m\u001b[0mmessage\u001b[0m \u001b[0;34m+\u001b[0m \u001b[0;34m(\u001b[0m\u001b[0;34m\" name: \"\u001b[0m \u001b[0;34m+\u001b[0m \u001b[0mname\u001b[0m \u001b[0;32mif\u001b[0m \u001b[0mname\u001b[0m \u001b[0;32mis\u001b[0m \u001b[0;32mnot\u001b[0m \u001b[0;32mNone\u001b[0m \u001b[0;32melse\u001b[0m \u001b[0;34m\"\"\u001b[0m\u001b[0;34m)\u001b[0m\u001b[0;34m\u001b[0m\u001b[0;34m\u001b[0m\u001b[0m\n\u001b[1;32m   6896\u001b[0m   \u001b[0;31m# pylint: disable=protected-access\u001b[0m\u001b[0;34m\u001b[0m\u001b[0;34m\u001b[0m\u001b[0;34m\u001b[0m\u001b[0m\n\u001b[0;32m-> 6897\u001b[0;31m   \u001b[0msix\u001b[0m\u001b[0;34m.\u001b[0m\u001b[0mraise_from\u001b[0m\u001b[0;34m(\u001b[0m\u001b[0mcore\u001b[0m\u001b[0;34m.\u001b[0m\u001b[0m_status_to_exception\u001b[0m\u001b[0;34m(\u001b[0m\u001b[0me\u001b[0m\u001b[0;34m.\u001b[0m\u001b[0mcode\u001b[0m\u001b[0;34m,\u001b[0m \u001b[0mmessage\u001b[0m\u001b[0;34m)\u001b[0m\u001b[0;34m,\u001b[0m \u001b[0;32mNone\u001b[0m\u001b[0;34m)\u001b[0m\u001b[0;34m\u001b[0m\u001b[0;34m\u001b[0m\u001b[0m\n\u001b[0m\u001b[1;32m   6898\u001b[0m   \u001b[0;31m# pylint: enable=protected-access\u001b[0m\u001b[0;34m\u001b[0m\u001b[0;34m\u001b[0m\u001b[0;34m\u001b[0m\u001b[0m\n\u001b[1;32m   6899\u001b[0m \u001b[0;34m\u001b[0m\u001b[0m\n",
      "\u001b[0;32m/usr/local/lib/python3.7/dist-packages/six.py\u001b[0m in \u001b[0;36mraise_from\u001b[0;34m(value, from_value)\u001b[0m\n",
      "\u001b[0;31mInvalidArgumentError\u001b[0m: indices[0] = [0, 1] does not index into shape [1,1,3] [Op:TensorScatterUpdate]"
     ]
    }
   ],
   "source": [
    "_convert_to_adjMatrix(list(dataset.take(1))[0])"
   ]
  },
  {
   "cell_type": "code",
   "execution_count": 109,
   "metadata": {},
   "outputs": [
    {
     "output_type": "execute_result",
     "data": {
      "text/plain": [
       "{'alpha': <tf.Tensor: shape=(3, 1), dtype=float64, numpy=\n",
       " array([[1.],\n",
       "        [1.],\n",
       "        [0.]])>,\n",
       " 'edge_features': <tf.Tensor: shape=(3, 3), dtype=float64, numpy=\n",
       " array([[0.57430429, 0.37116085, 0.        ],\n",
       "        [0.        , 0.        , 1.        ],\n",
       "        [0.        , 0.        , 1.        ]])>,\n",
       " 'edge_index': <tf.Tensor: shape=(2, 3), dtype=float64, numpy=\n",
       " array([[0., 0., 1.],\n",
       "        [1., 2., 2.]])>,\n",
       " 'node_features': <tf.Tensor: shape=(3, 3), dtype=float64, numpy=\n",
       " array([[0.60597828, 0.73336936, 0.13894716],\n",
       "        [0.12816238, 0.17899311, 0.75292543],\n",
       "        [0.        , 0.        , 0.        ]])>}"
      ]
     },
     "metadata": {},
     "execution_count": 109
    }
   ],
   "source": [
    "dataset = make_data(4, msp_size=(1,2), random_state=2021)\n",
    "list(dataset.take(1))[0]"
   ]
  },
  {
   "cell_type": "code",
   "execution_count": 110,
   "metadata": {},
   "outputs": [
    {
     "output_type": "execute_result",
     "data": {
      "text/plain": [
       "<tf.Tensor: shape=(3, 3, 3), dtype=float32, numpy=\n",
       "array([[[0.        , 0.        , 0.        ],\n",
       "        [0.70901567, 0.8906554 , 0.        ],\n",
       "        [0.        , 0.        , 1.        ]],\n",
       "\n",
       "       [[0.70901567, 0.8906554 , 0.        ],\n",
       "        [0.        , 0.        , 0.        ],\n",
       "        [0.        , 0.        , 1.        ]],\n",
       "\n",
       "       [[0.        , 0.        , 1.        ],\n",
       "        [0.        , 0.        , 1.        ],\n",
       "        [0.        , 0.        , 0.        ]]], dtype=float32)>"
      ]
     },
     "metadata": {},
     "execution_count": 110
    }
   ],
   "source": [
    "graphs = list(dataset.take(1))[0]\n",
    "\n",
    "edge_index = tf.cast(tf.transpose(\n",
    "        tf.concat([\n",
    "            graphs['edge_index'],\n",
    "            tf.scatter_nd(\n",
    "                tf.constant([[1],[0]]),\n",
    "                graphs['edge_index'],\n",
    "                graphs['edge_index'].shape\n",
    "            )\n",
    "        ], axis=-1)\n",
    "    ), tf.int32)\n",
    "\n",
    "edge_features = tf.cast(\n",
    "        tf.tile(graphs['edge_features'], \n",
    "                tf.constant([2,1], tf.int32)), tf.float32)\n",
    "\n",
    "num_nodes = graphs['alpha'].shape[0]\n",
    "num_edge_features = edge_features.shape[-1]\n",
    "adjMatrix_shape = (num_nodes, num_nodes, num_edge_features)  \n",
    "\n",
    "tf.tensor_scatter_nd_update(\n",
    "        tf.zeros(adjMatrix_shape),\n",
    "         edge_index, # tf.transpose(tf.cast(graphs['edge_index'], tf.int32)),\n",
    "        edge_features #tf.cast(graphs['edge_features'], tf.float32)\n",
    "    \n",
    ")\n",
    "\n"
   ]
  },
  {
   "cell_type": "code",
   "execution_count": 61,
   "metadata": {},
   "outputs": [
    {
     "output_type": "execute_result",
     "data": {
      "text/plain": [
       "<tf.Tensor: shape=(6, 2), dtype=int32, numpy=\n",
       "array([[0, 1],\n",
       "       [0, 2],\n",
       "       [1, 2],\n",
       "       [1, 0],\n",
       "       [2, 0],\n",
       "       [2, 1]], dtype=int32)>"
      ]
     },
     "metadata": {},
     "execution_count": 61
    }
   ],
   "source": [
    "edge_index"
   ]
  },
  {
   "cell_type": "code",
   "execution_count": null,
   "metadata": {},
   "outputs": [],
   "source": [
    "tf.cast(graphs['edge_features'], tf.float32)"
   ]
  },
  {
   "cell_type": "code",
   "execution_count": null,
   "metadata": {},
   "outputs": [],
   "source": []
  },
  {
   "cell_type": "code",
   "execution_count": null,
   "metadata": {},
   "outputs": [],
   "source": []
  },
  {
   "cell_type": "code",
   "execution_count": 34,
   "metadata": {},
   "outputs": [
    {
     "output_type": "execute_result",
     "data": {
      "text/plain": [
       "<function tensorflow.python.ops.array_ops.tensor_scatter_nd_update>"
      ]
     },
     "metadata": {},
     "execution_count": 34
    }
   ],
   "source": [
    "tf.tensor_scatter_nd_update"
   ]
  },
  {
   "cell_type": "code",
   "execution_count": 35,
   "metadata": {},
   "outputs": [
    {
     "output_type": "error",
     "ename": "InvalidArgumentError",
     "evalue": "Value for attr 'Tindices' of double is not in the list of allowed values: int32, int64\n\t; NodeDef: {{node TensorScatterUpdate}}; Op<name=TensorScatterUpdate; signature=tensor:T, indices:Tindices, updates:T -> output:T; attr=T:type; attr=Tindices:type,allowed=[DT_INT32, DT_INT64]> [Op:TensorScatterUpdate]",
     "traceback": [
      "\u001b[0;31m---------------------------------------------------------------------------\u001b[0m",
      "\u001b[0;31mInvalidArgumentError\u001b[0m                      Traceback (most recent call last)",
      "\u001b[0;32m<ipython-input-35-0fcb1e0bec48>\u001b[0m in \u001b[0;36m<module>\u001b[0;34m()\u001b[0m\n\u001b[0;32m----> 1\u001b[0;31m \u001b[0m_convert_to_adjMatrix\u001b[0m\u001b[0;34m(\u001b[0m\u001b[0mlist\u001b[0m\u001b[0;34m(\u001b[0m\u001b[0mdataset\u001b[0m\u001b[0;34m.\u001b[0m\u001b[0mtake\u001b[0m\u001b[0;34m(\u001b[0m\u001b[0;36m1\u001b[0m\u001b[0;34m)\u001b[0m\u001b[0;34m)\u001b[0m\u001b[0;34m[\u001b[0m\u001b[0;36m0\u001b[0m\u001b[0;34m]\u001b[0m\u001b[0;34m)\u001b[0m\u001b[0;34m\u001b[0m\u001b[0;34m\u001b[0m\u001b[0m\n\u001b[0m\u001b[1;32m      2\u001b[0m \u001b[0;31m#tf.tile(list(dataset.take(1))[0]['edge_features'], tf.constant([2,1], tf.int32))\u001b[0m\u001b[0;34m\u001b[0m\u001b[0;34m\u001b[0m\u001b[0;34m\u001b[0m\u001b[0m\n",
      "\u001b[0;32m<ipython-input-33-cbb831deeb38>\u001b[0m in \u001b[0;36m_convert_to_adjMatrix\u001b[0;34m(graphs)\u001b[0m\n\u001b[1;32m     24\u001b[0m         \u001b[0mtf\u001b[0m\u001b[0;34m.\u001b[0m\u001b[0mzeros\u001b[0m\u001b[0;34m(\u001b[0m\u001b[0madjMatrix_shape\u001b[0m\u001b[0;34m)\u001b[0m\u001b[0;34m,\u001b[0m\u001b[0;34m\u001b[0m\u001b[0;34m\u001b[0m\u001b[0m\n\u001b[1;32m     25\u001b[0m         \u001b[0medge_index\u001b[0m\u001b[0;34m,\u001b[0m\u001b[0;34m\u001b[0m\u001b[0;34m\u001b[0m\u001b[0m\n\u001b[0;32m---> 26\u001b[0;31m         \u001b[0medge_features\u001b[0m\u001b[0;34m\u001b[0m\u001b[0;34m\u001b[0m\u001b[0m\n\u001b[0m\u001b[1;32m     27\u001b[0m         \u001b[0;31m#tf.transpose(tf.cast(graph['edge_index'], tf.int32)),\u001b[0m\u001b[0;34m\u001b[0m\u001b[0;34m\u001b[0m\u001b[0;34m\u001b[0m\u001b[0m\n\u001b[1;32m     28\u001b[0m         \u001b[0;31m#tf.cast(graph['edge_features'], tf.float32)\u001b[0m\u001b[0;34m\u001b[0m\u001b[0;34m\u001b[0m\u001b[0;34m\u001b[0m\u001b[0m\n",
      "\u001b[0;32m/usr/local/lib/python3.7/dist-packages/tensorflow/python/util/dispatch.py\u001b[0m in \u001b[0;36mwrapper\u001b[0;34m(*args, **kwargs)\u001b[0m\n\u001b[1;32m    204\u001b[0m     \u001b[0;34m\"\"\"Call target, and fall back on dispatchers if there is a TypeError.\"\"\"\u001b[0m\u001b[0;34m\u001b[0m\u001b[0;34m\u001b[0m\u001b[0m\n\u001b[1;32m    205\u001b[0m     \u001b[0;32mtry\u001b[0m\u001b[0;34m:\u001b[0m\u001b[0;34m\u001b[0m\u001b[0;34m\u001b[0m\u001b[0m\n\u001b[0;32m--> 206\u001b[0;31m       \u001b[0;32mreturn\u001b[0m \u001b[0mtarget\u001b[0m\u001b[0;34m(\u001b[0m\u001b[0;34m*\u001b[0m\u001b[0margs\u001b[0m\u001b[0;34m,\u001b[0m \u001b[0;34m**\u001b[0m\u001b[0mkwargs\u001b[0m\u001b[0;34m)\u001b[0m\u001b[0;34m\u001b[0m\u001b[0;34m\u001b[0m\u001b[0m\n\u001b[0m\u001b[1;32m    207\u001b[0m     \u001b[0;32mexcept\u001b[0m \u001b[0;34m(\u001b[0m\u001b[0mTypeError\u001b[0m\u001b[0;34m,\u001b[0m \u001b[0mValueError\u001b[0m\u001b[0;34m)\u001b[0m\u001b[0;34m:\u001b[0m\u001b[0;34m\u001b[0m\u001b[0;34m\u001b[0m\u001b[0m\n\u001b[1;32m    208\u001b[0m       \u001b[0;31m# Note: convert_to_eager_tensor currently raises a ValueError, not a\u001b[0m\u001b[0;34m\u001b[0m\u001b[0;34m\u001b[0m\u001b[0;34m\u001b[0m\u001b[0m\n",
      "\u001b[0;32m/usr/local/lib/python3.7/dist-packages/tensorflow/python/ops/array_ops.py\u001b[0m in \u001b[0;36mtensor_scatter_nd_update\u001b[0;34m(tensor, indices, updates, name)\u001b[0m\n\u001b[1;32m   5727\u001b[0m   \"\"\"\n\u001b[1;32m   5728\u001b[0m   return gen_array_ops.tensor_scatter_update(\n\u001b[0;32m-> 5729\u001b[0;31m       tensor=tensor, indices=indices, updates=updates, name=name)\n\u001b[0m\u001b[1;32m   5730\u001b[0m \u001b[0;34m\u001b[0m\u001b[0m\n\u001b[1;32m   5731\u001b[0m \u001b[0;34m\u001b[0m\u001b[0m\n",
      "\u001b[0;32m/usr/local/lib/python3.7/dist-packages/tensorflow/python/ops/gen_array_ops.py\u001b[0m in \u001b[0;36mtensor_scatter_update\u001b[0;34m(tensor, indices, updates, name)\u001b[0m\n\u001b[1;32m  11292\u001b[0m       \u001b[0;32mreturn\u001b[0m \u001b[0m_result\u001b[0m\u001b[0;34m\u001b[0m\u001b[0;34m\u001b[0m\u001b[0m\n\u001b[1;32m  11293\u001b[0m     \u001b[0;32mexcept\u001b[0m \u001b[0m_core\u001b[0m\u001b[0;34m.\u001b[0m\u001b[0m_NotOkStatusException\u001b[0m \u001b[0;32mas\u001b[0m \u001b[0me\u001b[0m\u001b[0;34m:\u001b[0m\u001b[0;34m\u001b[0m\u001b[0;34m\u001b[0m\u001b[0m\n\u001b[0;32m> 11294\u001b[0;31m       \u001b[0m_ops\u001b[0m\u001b[0;34m.\u001b[0m\u001b[0mraise_from_not_ok_status\u001b[0m\u001b[0;34m(\u001b[0m\u001b[0me\u001b[0m\u001b[0;34m,\u001b[0m \u001b[0mname\u001b[0m\u001b[0;34m)\u001b[0m\u001b[0;34m\u001b[0m\u001b[0;34m\u001b[0m\u001b[0m\n\u001b[0m\u001b[1;32m  11295\u001b[0m     \u001b[0;32mexcept\u001b[0m \u001b[0m_core\u001b[0m\u001b[0;34m.\u001b[0m\u001b[0m_FallbackException\u001b[0m\u001b[0;34m:\u001b[0m\u001b[0;34m\u001b[0m\u001b[0;34m\u001b[0m\u001b[0m\n\u001b[1;32m  11296\u001b[0m       \u001b[0;32mpass\u001b[0m\u001b[0;34m\u001b[0m\u001b[0;34m\u001b[0m\u001b[0m\n",
      "\u001b[0;32m/usr/local/lib/python3.7/dist-packages/tensorflow/python/framework/ops.py\u001b[0m in \u001b[0;36mraise_from_not_ok_status\u001b[0;34m(e, name)\u001b[0m\n\u001b[1;32m   6895\u001b[0m   \u001b[0mmessage\u001b[0m \u001b[0;34m=\u001b[0m \u001b[0me\u001b[0m\u001b[0;34m.\u001b[0m\u001b[0mmessage\u001b[0m \u001b[0;34m+\u001b[0m \u001b[0;34m(\u001b[0m\u001b[0;34m\" name: \"\u001b[0m \u001b[0;34m+\u001b[0m \u001b[0mname\u001b[0m \u001b[0;32mif\u001b[0m \u001b[0mname\u001b[0m \u001b[0;32mis\u001b[0m \u001b[0;32mnot\u001b[0m \u001b[0;32mNone\u001b[0m \u001b[0;32melse\u001b[0m \u001b[0;34m\"\"\u001b[0m\u001b[0;34m)\u001b[0m\u001b[0;34m\u001b[0m\u001b[0;34m\u001b[0m\u001b[0m\n\u001b[1;32m   6896\u001b[0m   \u001b[0;31m# pylint: disable=protected-access\u001b[0m\u001b[0;34m\u001b[0m\u001b[0;34m\u001b[0m\u001b[0;34m\u001b[0m\u001b[0m\n\u001b[0;32m-> 6897\u001b[0;31m   \u001b[0msix\u001b[0m\u001b[0;34m.\u001b[0m\u001b[0mraise_from\u001b[0m\u001b[0;34m(\u001b[0m\u001b[0mcore\u001b[0m\u001b[0;34m.\u001b[0m\u001b[0m_status_to_exception\u001b[0m\u001b[0;34m(\u001b[0m\u001b[0me\u001b[0m\u001b[0;34m.\u001b[0m\u001b[0mcode\u001b[0m\u001b[0;34m,\u001b[0m \u001b[0mmessage\u001b[0m\u001b[0;34m)\u001b[0m\u001b[0;34m,\u001b[0m \u001b[0;32mNone\u001b[0m\u001b[0;34m)\u001b[0m\u001b[0;34m\u001b[0m\u001b[0;34m\u001b[0m\u001b[0m\n\u001b[0m\u001b[1;32m   6898\u001b[0m   \u001b[0;31m# pylint: enable=protected-access\u001b[0m\u001b[0;34m\u001b[0m\u001b[0;34m\u001b[0m\u001b[0;34m\u001b[0m\u001b[0m\n\u001b[1;32m   6899\u001b[0m \u001b[0;34m\u001b[0m\u001b[0m\n",
      "\u001b[0;32m/usr/local/lib/python3.7/dist-packages/six.py\u001b[0m in \u001b[0;36mraise_from\u001b[0;34m(value, from_value)\u001b[0m\n",
      "\u001b[0;31mInvalidArgumentError\u001b[0m: Value for attr 'Tindices' of double is not in the list of allowed values: int32, int64\n\t; NodeDef: {{node TensorScatterUpdate}}; Op<name=TensorScatterUpdate; signature=tensor:T, indices:Tindices, updates:T -> output:T; attr=T:type; attr=Tindices:type,allowed=[DT_INT32, DT_INT64]> [Op:TensorScatterUpdate]"
     ]
    }
   ],
   "source": [
    "_convert_to_adjMatrix(list(dataset.take(1))[0])\n",
    "#tf.tile(list(dataset.take(1))[0]['edge_features'], tf.constant([2,1], tf.int32))"
   ]
  },
  {
   "cell_type": "code",
   "execution_count": 11,
   "metadata": {},
   "outputs": [
    {
     "output_type": "error",
     "ename": "NameError",
     "evalue": "name 'edge_index' is not defined",
     "traceback": [
      "\u001b[0;31m---------------------------------------------------------------------------\u001b[0m",
      "\u001b[0;31mNameError\u001b[0m                                 Traceback (most recent call last)",
      "\u001b[0;32m<ipython-input-11-024a76d43640>\u001b[0m in \u001b[0;36m<module>\u001b[0;34m()\u001b[0m\n\u001b[1;32m      1\u001b[0m \u001b[0mindices\u001b[0m \u001b[0;34m=\u001b[0m \u001b[0mtf\u001b[0m\u001b[0;34m.\u001b[0m\u001b[0mconstant\u001b[0m\u001b[0;34m(\u001b[0m\u001b[0;34m[\u001b[0m\u001b[0;34m[\u001b[0m\u001b[0;36m1\u001b[0m\u001b[0;34m]\u001b[0m\u001b[0;34m,\u001b[0m\u001b[0;34m[\u001b[0m\u001b[0;36m0\u001b[0m\u001b[0;34m]\u001b[0m\u001b[0;34m]\u001b[0m\u001b[0;34m)\u001b[0m\u001b[0;34m\u001b[0m\u001b[0;34m\u001b[0m\u001b[0m\n\u001b[0;32m----> 2\u001b[0;31m \u001b[0mupdates\u001b[0m \u001b[0;34m=\u001b[0m \u001b[0mtf\u001b[0m\u001b[0;34m.\u001b[0m\u001b[0mtile\u001b[0m\u001b[0;34m(\u001b[0m\u001b[0medge_index\u001b[0m\u001b[0;34m,\u001b[0m \u001b[0mtf\u001b[0m\u001b[0;34m.\u001b[0m\u001b[0mconstant\u001b[0m\u001b[0;34m(\u001b[0m\u001b[0;34m[\u001b[0m\u001b[0;36m2\u001b[0m\u001b[0;34m,\u001b[0m\u001b[0;36m1\u001b[0m\u001b[0;34m]\u001b[0m\u001b[0;34m,\u001b[0m \u001b[0mtf\u001b[0m\u001b[0;34m.\u001b[0m\u001b[0mint32\u001b[0m\u001b[0;34m)\u001b[0m\u001b[0;34m)\u001b[0m\u001b[0;34m\u001b[0m\u001b[0;34m\u001b[0m\u001b[0m\n\u001b[0m\u001b[1;32m      3\u001b[0m \u001b[0;34m\u001b[0m\u001b[0m\n\u001b[1;32m      4\u001b[0m \u001b[0mshape\u001b[0m \u001b[0;34m=\u001b[0m \u001b[0mtf\u001b[0m\u001b[0;34m.\u001b[0m\u001b[0mconstant\u001b[0m\u001b[0;34m(\u001b[0m\u001b[0;34m[\u001b[0m\u001b[0;36m2\u001b[0m\u001b[0;34m,\u001b[0m \u001b[0;36m4\u001b[0m\u001b[0;34m]\u001b[0m\u001b[0;34m)\u001b[0m\u001b[0;34m\u001b[0m\u001b[0;34m\u001b[0m\u001b[0m\n\u001b[1;32m      5\u001b[0m \u001b[0mscatter1\u001b[0m \u001b[0;34m=\u001b[0m \u001b[0mtf\u001b[0m\u001b[0;34m.\u001b[0m\u001b[0mscatter_nd\u001b[0m\u001b[0;34m(\u001b[0m\u001b[0mindices\u001b[0m\u001b[0;34m,\u001b[0m \u001b[0mupdates\u001b[0m\u001b[0;34m,\u001b[0m \u001b[0mupdates\u001b[0m\u001b[0;34m.\u001b[0m\u001b[0mshape\u001b[0m\u001b[0;34m)\u001b[0m\u001b[0;34m\u001b[0m\u001b[0;34m\u001b[0m\u001b[0m\n",
      "\u001b[0;31mNameError\u001b[0m: name 'edge_index' is not defined"
     ]
    }
   ],
   "source": [
    "indices = tf.constant([[1],[0]])\n",
    "updates = tf.tile(edge_index, tf.constant([2,1], tf.int32))\n",
    "\n",
    "shape = tf.constant([2, 4])\n",
    "scatter1 = tf.scatter_nd(indices, updates, updates.shape)"
   ]
  },
  {
   "cell_type": "code",
   "execution_count": null,
   "metadata": {},
   "outputs": [],
   "source": [
    "node_features = Utils.get_node_feature_batch(inputs)\n",
    "edge_features = "
   ]
  },
  {
   "cell_type": "code",
   "execution_count": 293,
   "metadata": {},
   "outputs": [
    {
     "output_type": "execute_result",
     "data": {
      "text/plain": [
       "<tf.Tensor: shape=(6, 2), dtype=float64, numpy=\n",
       "array([[0., 1.],\n",
       "       [0., 2.],\n",
       "       [1., 2.],\n",
       "       [0., 1.],\n",
       "       [0., 2.],\n",
       "       [1., 2.]])>"
      ]
     },
     "metadata": {},
     "execution_count": 293
    }
   ],
   "source": [
    "edge_index = tf.transpose(list(dataset.take(1))[0]['edge_index'])\n",
    "eee = tf.tile(edge_index, tf.constant([2,1], tf.int32))\n",
    "eee"
   ]
  },
  {
   "cell_type": "code",
   "execution_count": 314,
   "metadata": {},
   "outputs": [
    {
     "output_type": "execute_result",
     "data": {
      "text/plain": [
       "<tf.Tensor: shape=(2, 6), dtype=float64, numpy=\n",
       "array([[0., 0., 1., 1., 2., 2.],\n",
       "       [1., 2., 2., 0., 0., 1.]])>"
      ]
     },
     "metadata": {},
     "execution_count": 314
    }
   ],
   "source": [
    "indices = tf.constant([[1],[0]])\n",
    "edge = list(dataset.take(1))[0]['edge_index']\n",
    "\n",
    "tf.concat([\n",
    "    edge,\n",
    "    tf.scatter_nd(indices, edge, edge.shape)\n",
    "], axis=-1)\n"
   ]
  },
  {
   "cell_type": "code",
   "execution_count": 313,
   "metadata": {},
   "outputs": [
    {
     "output_type": "execute_result",
     "data": {
      "text/plain": [
       "<tf.Tensor: shape=(2, 3), dtype=float64, numpy=\n",
       "array([[1., 2., 2.],\n",
       "       [0., 0., 1.]])>"
      ]
     },
     "metadata": {},
     "execution_count": 313
    }
   ],
   "source": [
    "tf.scatter_nd(indices, edge, edge.shape)\n"
   ]
  },
  {
   "cell_type": "code",
   "execution_count": null,
   "metadata": {},
   "outputs": [],
   "source": []
  },
  {
   "cell_type": "code",
   "execution_count": 298,
   "metadata": {},
   "outputs": [
    {
     "output_type": "error",
     "ename": "InvalidArgumentError",
     "evalue": "Dimensions [1,2) of input[shape=[3,2]] must match dimensions [1,2) of updates[shape=[2,3]] [Op:ScatterNd]",
     "traceback": [
      "\u001b[0;31m---------------------------------------------------------------------------\u001b[0m",
      "\u001b[0;31mInvalidArgumentError\u001b[0m                      Traceback (most recent call last)",
      "\u001b[0;32m<ipython-input-298-4c6373fd5f6e>\u001b[0m in \u001b[0;36m<module>\u001b[0;34m()\u001b[0m\n\u001b[0;32m----> 1\u001b[0;31m \u001b[0mtf\u001b[0m\u001b[0;34m.\u001b[0m\u001b[0mscatter_nd\u001b[0m\u001b[0;34m(\u001b[0m\u001b[0mtf\u001b[0m\u001b[0;34m.\u001b[0m\u001b[0mconstant\u001b[0m\u001b[0;34m(\u001b[0m\u001b[0;34m[\u001b[0m\u001b[0;34m[\u001b[0m\u001b[0;36m1\u001b[0m\u001b[0;34m]\u001b[0m\u001b[0;34m,\u001b[0m\u001b[0;34m[\u001b[0m\u001b[0;36m0\u001b[0m\u001b[0;34m]\u001b[0m\u001b[0;34m]\u001b[0m\u001b[0;34m)\u001b[0m\u001b[0;34m,\u001b[0m \u001b[0mtf\u001b[0m\u001b[0;34m.\u001b[0m\u001b[0mtranspose\u001b[0m\u001b[0;34m(\u001b[0m\u001b[0medge_index\u001b[0m\u001b[0;34m)\u001b[0m\u001b[0;34m,\u001b[0m \u001b[0medge_index\u001b[0m\u001b[0;34m.\u001b[0m\u001b[0mshape\u001b[0m\u001b[0;34m)\u001b[0m\u001b[0;34m\u001b[0m\u001b[0;34m\u001b[0m\u001b[0m\n\u001b[0m",
      "\u001b[0;32m/usr/local/lib/python3.7/dist-packages/tensorflow/python/ops/gen_array_ops.py\u001b[0m in \u001b[0;36mscatter_nd\u001b[0;34m(indices, updates, shape, name)\u001b[0m\n\u001b[1;32m   9000\u001b[0m     \u001b[0;32mtry\u001b[0m\u001b[0;34m:\u001b[0m\u001b[0;34m\u001b[0m\u001b[0;34m\u001b[0m\u001b[0m\n\u001b[1;32m   9001\u001b[0m       return scatter_nd_eager_fallback(\n\u001b[0;32m-> 9002\u001b[0;31m           indices, updates, shape, name=name, ctx=_ctx)\n\u001b[0m\u001b[1;32m   9003\u001b[0m     \u001b[0;32mexcept\u001b[0m \u001b[0m_core\u001b[0m\u001b[0;34m.\u001b[0m\u001b[0m_SymbolicException\u001b[0m\u001b[0;34m:\u001b[0m\u001b[0;34m\u001b[0m\u001b[0;34m\u001b[0m\u001b[0m\n\u001b[1;32m   9004\u001b[0m       \u001b[0;32mpass\u001b[0m  \u001b[0;31m# Add nodes to the TensorFlow graph.\u001b[0m\u001b[0;34m\u001b[0m\u001b[0;34m\u001b[0m\u001b[0m\n",
      "\u001b[0;32m/usr/local/lib/python3.7/dist-packages/tensorflow/python/ops/gen_array_ops.py\u001b[0m in \u001b[0;36mscatter_nd_eager_fallback\u001b[0;34m(indices, updates, shape, name, ctx)\u001b[0m\n\u001b[1;32m   9043\u001b[0m   \u001b[0m_attrs\u001b[0m \u001b[0;34m=\u001b[0m \u001b[0;34m(\u001b[0m\u001b[0;34m\"T\"\u001b[0m\u001b[0;34m,\u001b[0m \u001b[0m_attr_T\u001b[0m\u001b[0;34m,\u001b[0m \u001b[0;34m\"Tindices\"\u001b[0m\u001b[0;34m,\u001b[0m \u001b[0m_attr_Tindices\u001b[0m\u001b[0;34m)\u001b[0m\u001b[0;34m\u001b[0m\u001b[0;34m\u001b[0m\u001b[0m\n\u001b[1;32m   9044\u001b[0m   _result = _execute.execute(b\"ScatterNd\", 1, inputs=_inputs_flat,\n\u001b[0;32m-> 9045\u001b[0;31m                              attrs=_attrs, ctx=ctx, name=name)\n\u001b[0m\u001b[1;32m   9046\u001b[0m   \u001b[0;32mif\u001b[0m \u001b[0m_execute\u001b[0m\u001b[0;34m.\u001b[0m\u001b[0mmust_record_gradient\u001b[0m\u001b[0;34m(\u001b[0m\u001b[0;34m)\u001b[0m\u001b[0;34m:\u001b[0m\u001b[0;34m\u001b[0m\u001b[0;34m\u001b[0m\u001b[0m\n\u001b[1;32m   9047\u001b[0m     _execute.record_gradient(\n",
      "\u001b[0;32m/usr/local/lib/python3.7/dist-packages/tensorflow/python/eager/execute.py\u001b[0m in \u001b[0;36mquick_execute\u001b[0;34m(op_name, num_outputs, inputs, attrs, ctx, name)\u001b[0m\n\u001b[1;32m     58\u001b[0m     \u001b[0mctx\u001b[0m\u001b[0;34m.\u001b[0m\u001b[0mensure_initialized\u001b[0m\u001b[0;34m(\u001b[0m\u001b[0;34m)\u001b[0m\u001b[0;34m\u001b[0m\u001b[0;34m\u001b[0m\u001b[0m\n\u001b[1;32m     59\u001b[0m     tensors = pywrap_tfe.TFE_Py_Execute(ctx._handle, device_name, op_name,\n\u001b[0;32m---> 60\u001b[0;31m                                         inputs, attrs, num_outputs)\n\u001b[0m\u001b[1;32m     61\u001b[0m   \u001b[0;32mexcept\u001b[0m \u001b[0mcore\u001b[0m\u001b[0;34m.\u001b[0m\u001b[0m_NotOkStatusException\u001b[0m \u001b[0;32mas\u001b[0m \u001b[0me\u001b[0m\u001b[0;34m:\u001b[0m\u001b[0;34m\u001b[0m\u001b[0;34m\u001b[0m\u001b[0m\n\u001b[1;32m     62\u001b[0m     \u001b[0;32mif\u001b[0m \u001b[0mname\u001b[0m \u001b[0;32mis\u001b[0m \u001b[0;32mnot\u001b[0m \u001b[0;32mNone\u001b[0m\u001b[0;34m:\u001b[0m\u001b[0;34m\u001b[0m\u001b[0;34m\u001b[0m\u001b[0m\n",
      "\u001b[0;31mInvalidArgumentError\u001b[0m: Dimensions [1,2) of input[shape=[3,2]] must match dimensions [1,2) of updates[shape=[2,3]] [Op:ScatterNd]"
     ]
    }
   ],
   "source": [
    "tf.scatter_nd(tf.constant([[1],[0]]), tf.transpose(edge_index), edge_index.shape)"
   ]
  },
  {
   "cell_type": "code",
   "execution_count": 288,
   "metadata": {},
   "outputs": [
    {
     "output_type": "execute_result",
     "data": {
      "text/plain": [
       "<tf.Tensor: shape=(3, 2), dtype=float64, numpy=\n",
       "array([[0., 1.],\n",
       "       [0., 2.],\n",
       "       [1., 2.]])>"
      ]
     },
     "metadata": {},
     "execution_count": 288
    }
   ],
   "source": [
    "edge_index"
   ]
  },
  {
   "cell_type": "code",
   "execution_count": null,
   "metadata": {},
   "outputs": [],
   "source": []
  },
  {
   "cell_type": "code",
   "execution_count": 280,
   "metadata": {},
   "outputs": [
    {
     "output_type": "execute_result",
     "data": {
      "text/plain": [
       "<tf.Tensor: shape=(3, 2), dtype=float64, numpy=\n",
       "array([[0., 1.],\n",
       "       [0., 2.],\n",
       "       [1., 2.]])>"
      ]
     },
     "metadata": {},
     "execution_count": 280
    }
   ],
   "source": [
    "edge_index"
   ]
  },
  {
   "cell_type": "code",
   "execution_count": 263,
   "metadata": {},
   "outputs": [],
   "source": [
    "from collections import namedtuple\n",
    "Data = namedtuple"
   ]
  },
  {
   "cell_type": "code",
   "execution_count": 256,
   "metadata": {},
   "outputs": [
    {
     "output_type": "execute_result",
     "data": {
      "text/plain": [
       "(<tf.Tensor: shape=(3, 3), dtype=float64, numpy=\n",
       " array([[0.37378765, 0.58199336, 0.        ],\n",
       "        [0.        , 0.        , 1.        ],\n",
       "        [0.        , 0.        , 1.        ]])>,\n",
       " <tf.Tensor: shape=(3, 3), dtype=float32, numpy=\n",
       " array([[0.37378764, 0.58199334, 0.        ],\n",
       "        [0.        , 0.        , 1.        ],\n",
       "        [0.        , 0.        , 1.        ]], dtype=float32)>)"
      ]
     },
     "metadata": {},
     "execution_count": 256
    }
   ],
   "source": [
    "graph['edge_features'], tf.cast(graph['edge_features'], tf.float32)"
   ]
  },
  {
   "cell_type": "code",
   "execution_count": 270,
   "metadata": {},
   "outputs": [
    {
     "output_type": "execute_result",
     "data": {
      "text/plain": [
       "<tf.Tensor: shape=(3, 3), dtype=float64, numpy=\n",
       "array([[0.85199873, 0.949953  , 0.53910624],\n",
       "       [0.17274769, 0.25472978, 0.83977326],\n",
       "       [0.        , 0.        , 0.        ]])>"
      ]
     },
     "metadata": {},
     "execution_count": 270
    }
   ],
   "source": [
    "graph = list(dataset.take(2))\n",
    "graph[1]['node_features']\n",
    "# tf.tensor_scatter_nd_update(\n",
    "#     tf.zeros((3,3,3)),\n",
    "#     tf.transpose(tf.cast(graph['edge_index'], tf.int32)),\n",
    "#     tf.cast(graph['edge_features'], tf.float32)\n",
    "# )"
   ]
  },
  {
   "cell_type": "code",
   "execution_count": 246,
   "metadata": {},
   "outputs": [
    {
     "output_type": "execute_result",
     "data": {
      "text/plain": [
       "tf.float64"
      ]
     },
     "metadata": {},
     "execution_count": 246
    }
   ],
   "source": [
    "list(dataset.take(1))[0]['edge_features'].dtype\n",
    "#list(dataset.take(1))[0]['edge_index']"
   ]
  },
  {
   "cell_type": "code",
   "execution_count": 274,
   "metadata": {},
   "outputs": [
    {
     "output_type": "execute_result",
     "data": {
      "text/plain": [
       "[{'alpha': <tf.Tensor: shape=(2, 3, 1), dtype=float64, numpy=\n",
       "  array([[[1.],\n",
       "          [1.],\n",
       "          [0.]],\n",
       "  \n",
       "         [[1.],\n",
       "          [1.],\n",
       "          [0.]]])>,\n",
       "  'edge_features': <tf.Tensor: shape=(2, 3, 3), dtype=float64, numpy=\n",
       "  array([[[0.35314496, 0.68720591, 0.        ],\n",
       "          [0.        , 0.        , 1.        ],\n",
       "          [0.        , 0.        , 1.        ]],\n",
       "  \n",
       "         [[0.23159023, 0.69815466, 0.        ],\n",
       "          [0.        , 0.        , 1.        ],\n",
       "          [0.        , 0.        , 1.        ]]])>,\n",
       "  'edge_index': <tf.Tensor: shape=(2, 2, 3), dtype=float64, numpy=\n",
       "  array([[[0., 0., 1.],\n",
       "          [1., 2., 2.]],\n",
       "  \n",
       "         [[0., 0., 1.],\n",
       "          [1., 2., 2.]]])>,\n",
       "  'node_features': <tf.Tensor: shape=(2, 3, 3), dtype=float64, numpy=\n",
       "  array([[[0.01272153, 0.39134668, 0.40923869],\n",
       "          [0.03470439, 0.92181559, 0.81408223],\n",
       "          [0.        , 0.        , 0.        ]],\n",
       "  \n",
       "         [[0.53559264, 0.15960381, 0.46659951],\n",
       "          [0.32690014, 0.17875289, 0.66596897],\n",
       "          [0.        , 0.        , 0.        ]]])>},\n",
       " {'alpha': <tf.Tensor: shape=(2, 3, 1), dtype=float64, numpy=\n",
       "  array([[[1.],\n",
       "          [1.],\n",
       "          [0.]],\n",
       "  \n",
       "         [[1.],\n",
       "          [1.],\n",
       "          [0.]]])>,\n",
       "  'edge_features': <tf.Tensor: shape=(2, 3, 3), dtype=float64, numpy=\n",
       "  array([[[0.38981   , 0.92470124, 0.        ],\n",
       "          [0.        , 0.        , 1.        ],\n",
       "          [0.        , 0.        , 1.        ]],\n",
       "  \n",
       "         [[0.49707408, 0.34015619, 0.        ],\n",
       "          [0.        , 0.        , 1.        ],\n",
       "          [0.        , 0.        , 1.        ]]])>,\n",
       "  'edge_index': <tf.Tensor: shape=(2, 2, 3), dtype=float64, numpy=\n",
       "  array([[[0., 0., 1.],\n",
       "          [1., 2., 2.]],\n",
       "  \n",
       "         [[0., 0., 1.],\n",
       "          [1., 2., 2.]]])>,\n",
       "  'node_features': <tf.Tensor: shape=(2, 3, 3), dtype=float64, numpy=\n",
       "  array([[[0.18493238, 0.25103233, 0.44425279],\n",
       "          [0.59276277, 0.12411743, 0.13784407],\n",
       "          [0.        , 0.        , 0.        ]],\n",
       "  \n",
       "         [[0.47580423, 0.06914821, 0.07421796],\n",
       "          [0.58946429, 0.27318046, 0.40452418],\n",
       "          [0.        , 0.        , 0.        ]]])>}]"
      ]
     },
     "metadata": {},
     "execution_count": 274
    }
   ],
   "source": [
    "list(dataset.batch(2))"
   ]
  },
  {
   "cell_type": "code",
   "execution_count": 241,
   "metadata": {},
   "outputs": [
    {
     "output_type": "stream",
     "name": "stdout",
     "text": [
      "(3, 3, 3)\n"
     ]
    },
    {
     "output_type": "error",
     "ename": "InvalidArgumentError",
     "evalue": "cannot compute TensorScatterUpdate as input #2(zero-based) was expected to be a float tensor but is a double tensor [Op:TensorScatterUpdate]",
     "traceback": [
      "\u001b[0;31m---------------------------------------------------------------------------\u001b[0m",
      "\u001b[0;31mInvalidArgumentError\u001b[0m                      Traceback (most recent call last)",
      "\u001b[0;32m<ipython-input-241-176213668201>\u001b[0m in \u001b[0;36m<module>\u001b[0;34m()\u001b[0m\n\u001b[0;32m----> 1\u001b[0;31m \u001b[0m_convert_to_adjMatrix\u001b[0m\u001b[0;34m(\u001b[0m\u001b[0mlist\u001b[0m\u001b[0;34m(\u001b[0m\u001b[0mdataset\u001b[0m\u001b[0;34m.\u001b[0m\u001b[0mtake\u001b[0m\u001b[0;34m(\u001b[0m\u001b[0;36m1\u001b[0m\u001b[0;34m)\u001b[0m\u001b[0;34m)\u001b[0m\u001b[0;34m[\u001b[0m\u001b[0;36m0\u001b[0m\u001b[0;34m]\u001b[0m\u001b[0;34m)\u001b[0m\u001b[0;34m\u001b[0m\u001b[0;34m\u001b[0m\u001b[0m\n\u001b[0m",
      "\u001b[0;32m<ipython-input-240-4f1159673fc3>\u001b[0m in \u001b[0;36m_convert_to_adjMatrix\u001b[0;34m(graph)\u001b[0m\n\u001b[1;32m      6\u001b[0m         \u001b[0mtf\u001b[0m\u001b[0;34m.\u001b[0m\u001b[0mzeros\u001b[0m\u001b[0;34m(\u001b[0m\u001b[0madjMatrix_shape\u001b[0m\u001b[0;34m)\u001b[0m\u001b[0;34m,\u001b[0m\u001b[0;34m\u001b[0m\u001b[0;34m\u001b[0m\u001b[0m\n\u001b[1;32m      7\u001b[0m         \u001b[0mtf\u001b[0m\u001b[0;34m.\u001b[0m\u001b[0mtranspose\u001b[0m\u001b[0;34m(\u001b[0m\u001b[0mtf\u001b[0m\u001b[0;34m.\u001b[0m\u001b[0mcast\u001b[0m\u001b[0;34m(\u001b[0m\u001b[0mgraph\u001b[0m\u001b[0;34m[\u001b[0m\u001b[0;34m'edge_index'\u001b[0m\u001b[0;34m]\u001b[0m\u001b[0;34m,\u001b[0m \u001b[0mtf\u001b[0m\u001b[0;34m.\u001b[0m\u001b[0mint32\u001b[0m\u001b[0;34m)\u001b[0m\u001b[0;34m)\u001b[0m\u001b[0;34m,\u001b[0m\u001b[0;34m\u001b[0m\u001b[0;34m\u001b[0m\u001b[0m\n\u001b[0;32m----> 8\u001b[0;31m         \u001b[0mgraph\u001b[0m\u001b[0;34m[\u001b[0m\u001b[0;34m'edge_features'\u001b[0m\u001b[0;34m]\u001b[0m\u001b[0;34m\u001b[0m\u001b[0;34m\u001b[0m\u001b[0m\n\u001b[0m\u001b[1;32m      9\u001b[0m     )\n\u001b[1;32m     10\u001b[0m     \u001b[0;32mreturn\u001b[0m \u001b[0madjMatrix\u001b[0m\u001b[0;34m\u001b[0m\u001b[0;34m\u001b[0m\u001b[0m\n",
      "\u001b[0;32m/usr/local/lib/python3.7/dist-packages/tensorflow/python/util/dispatch.py\u001b[0m in \u001b[0;36mwrapper\u001b[0;34m(*args, **kwargs)\u001b[0m\n\u001b[1;32m    204\u001b[0m     \u001b[0;34m\"\"\"Call target, and fall back on dispatchers if there is a TypeError.\"\"\"\u001b[0m\u001b[0;34m\u001b[0m\u001b[0;34m\u001b[0m\u001b[0m\n\u001b[1;32m    205\u001b[0m     \u001b[0;32mtry\u001b[0m\u001b[0;34m:\u001b[0m\u001b[0;34m\u001b[0m\u001b[0;34m\u001b[0m\u001b[0m\n\u001b[0;32m--> 206\u001b[0;31m       \u001b[0;32mreturn\u001b[0m \u001b[0mtarget\u001b[0m\u001b[0;34m(\u001b[0m\u001b[0;34m*\u001b[0m\u001b[0margs\u001b[0m\u001b[0;34m,\u001b[0m \u001b[0;34m**\u001b[0m\u001b[0mkwargs\u001b[0m\u001b[0;34m)\u001b[0m\u001b[0;34m\u001b[0m\u001b[0;34m\u001b[0m\u001b[0m\n\u001b[0m\u001b[1;32m    207\u001b[0m     \u001b[0;32mexcept\u001b[0m \u001b[0;34m(\u001b[0m\u001b[0mTypeError\u001b[0m\u001b[0;34m,\u001b[0m \u001b[0mValueError\u001b[0m\u001b[0;34m)\u001b[0m\u001b[0;34m:\u001b[0m\u001b[0;34m\u001b[0m\u001b[0;34m\u001b[0m\u001b[0m\n\u001b[1;32m    208\u001b[0m       \u001b[0;31m# Note: convert_to_eager_tensor currently raises a ValueError, not a\u001b[0m\u001b[0;34m\u001b[0m\u001b[0;34m\u001b[0m\u001b[0;34m\u001b[0m\u001b[0m\n",
      "\u001b[0;32m/usr/local/lib/python3.7/dist-packages/tensorflow/python/ops/array_ops.py\u001b[0m in \u001b[0;36mtensor_scatter_nd_update\u001b[0;34m(tensor, indices, updates, name)\u001b[0m\n\u001b[1;32m   5727\u001b[0m   \"\"\"\n\u001b[1;32m   5728\u001b[0m   return gen_array_ops.tensor_scatter_update(\n\u001b[0;32m-> 5729\u001b[0;31m       tensor=tensor, indices=indices, updates=updates, name=name)\n\u001b[0m\u001b[1;32m   5730\u001b[0m \u001b[0;34m\u001b[0m\u001b[0m\n\u001b[1;32m   5731\u001b[0m \u001b[0;34m\u001b[0m\u001b[0m\n",
      "\u001b[0;32m/usr/local/lib/python3.7/dist-packages/tensorflow/python/ops/gen_array_ops.py\u001b[0m in \u001b[0;36mtensor_scatter_update\u001b[0;34m(tensor, indices, updates, name)\u001b[0m\n\u001b[1;32m  11292\u001b[0m       \u001b[0;32mreturn\u001b[0m \u001b[0m_result\u001b[0m\u001b[0;34m\u001b[0m\u001b[0;34m\u001b[0m\u001b[0m\n\u001b[1;32m  11293\u001b[0m     \u001b[0;32mexcept\u001b[0m \u001b[0m_core\u001b[0m\u001b[0;34m.\u001b[0m\u001b[0m_NotOkStatusException\u001b[0m \u001b[0;32mas\u001b[0m \u001b[0me\u001b[0m\u001b[0;34m:\u001b[0m\u001b[0;34m\u001b[0m\u001b[0;34m\u001b[0m\u001b[0m\n\u001b[0;32m> 11294\u001b[0;31m       \u001b[0m_ops\u001b[0m\u001b[0;34m.\u001b[0m\u001b[0mraise_from_not_ok_status\u001b[0m\u001b[0;34m(\u001b[0m\u001b[0me\u001b[0m\u001b[0;34m,\u001b[0m \u001b[0mname\u001b[0m\u001b[0;34m)\u001b[0m\u001b[0;34m\u001b[0m\u001b[0;34m\u001b[0m\u001b[0m\n\u001b[0m\u001b[1;32m  11295\u001b[0m     \u001b[0;32mexcept\u001b[0m \u001b[0m_core\u001b[0m\u001b[0;34m.\u001b[0m\u001b[0m_FallbackException\u001b[0m\u001b[0;34m:\u001b[0m\u001b[0;34m\u001b[0m\u001b[0;34m\u001b[0m\u001b[0m\n\u001b[1;32m  11296\u001b[0m       \u001b[0;32mpass\u001b[0m\u001b[0;34m\u001b[0m\u001b[0;34m\u001b[0m\u001b[0m\n",
      "\u001b[0;32m/usr/local/lib/python3.7/dist-packages/tensorflow/python/framework/ops.py\u001b[0m in \u001b[0;36mraise_from_not_ok_status\u001b[0;34m(e, name)\u001b[0m\n\u001b[1;32m   6895\u001b[0m   \u001b[0mmessage\u001b[0m \u001b[0;34m=\u001b[0m \u001b[0me\u001b[0m\u001b[0;34m.\u001b[0m\u001b[0mmessage\u001b[0m \u001b[0;34m+\u001b[0m \u001b[0;34m(\u001b[0m\u001b[0;34m\" name: \"\u001b[0m \u001b[0;34m+\u001b[0m \u001b[0mname\u001b[0m \u001b[0;32mif\u001b[0m \u001b[0mname\u001b[0m \u001b[0;32mis\u001b[0m \u001b[0;32mnot\u001b[0m \u001b[0;32mNone\u001b[0m \u001b[0;32melse\u001b[0m \u001b[0;34m\"\"\u001b[0m\u001b[0;34m)\u001b[0m\u001b[0;34m\u001b[0m\u001b[0;34m\u001b[0m\u001b[0m\n\u001b[1;32m   6896\u001b[0m   \u001b[0;31m# pylint: disable=protected-access\u001b[0m\u001b[0;34m\u001b[0m\u001b[0;34m\u001b[0m\u001b[0;34m\u001b[0m\u001b[0m\n\u001b[0;32m-> 6897\u001b[0;31m   \u001b[0msix\u001b[0m\u001b[0;34m.\u001b[0m\u001b[0mraise_from\u001b[0m\u001b[0;34m(\u001b[0m\u001b[0mcore\u001b[0m\u001b[0;34m.\u001b[0m\u001b[0m_status_to_exception\u001b[0m\u001b[0;34m(\u001b[0m\u001b[0me\u001b[0m\u001b[0;34m.\u001b[0m\u001b[0mcode\u001b[0m\u001b[0;34m,\u001b[0m \u001b[0mmessage\u001b[0m\u001b[0;34m)\u001b[0m\u001b[0;34m,\u001b[0m \u001b[0;32mNone\u001b[0m\u001b[0;34m)\u001b[0m\u001b[0;34m\u001b[0m\u001b[0;34m\u001b[0m\u001b[0m\n\u001b[0m\u001b[1;32m   6898\u001b[0m   \u001b[0;31m# pylint: enable=protected-access\u001b[0m\u001b[0;34m\u001b[0m\u001b[0;34m\u001b[0m\u001b[0;34m\u001b[0m\u001b[0m\n\u001b[1;32m   6899\u001b[0m \u001b[0;34m\u001b[0m\u001b[0m\n",
      "\u001b[0;32m/usr/local/lib/python3.7/dist-packages/six.py\u001b[0m in \u001b[0;36mraise_from\u001b[0;34m(value, from_value)\u001b[0m\n",
      "\u001b[0;31mInvalidArgumentError\u001b[0m: cannot compute TensorScatterUpdate as input #2(zero-based) was expected to be a float tensor but is a double tensor [Op:TensorScatterUpdate]"
     ]
    }
   ],
   "source": [
    "_convert_to_adjMatrix(list(dataset.take(1))[0])"
   ]
  },
  {
   "cell_type": "code",
   "execution_count": 238,
   "metadata": {},
   "outputs": [
    {
     "output_type": "stream",
     "name": "stdout",
     "text": [
      "tf.Tensor(\n[[[5 5 5 5]\n  [6 6 6 6]\n  [7 7 7 7]\n  [8 8 8 8]]\n\n [[0 0 0 0]\n  [0 0 0 0]\n  [0 0 0 0]\n  [0 0 0 0]]\n\n [[5 5 5 5]\n  [6 6 6 6]\n  [7 7 7 7]\n  [8 8 8 8]]\n\n [[0 0 0 0]\n  [0 0 0 0]\n  [0 0 0 0]\n  [0 0 0 0]]], shape=(4, 4, 4), dtype=int32)\n"
     ]
    }
   ],
   "source": [
    "indices = tf.constant([[0], [2]])\n",
    "updates = tf.constant([[[5, 5, 5, 5], [6, 6, 6, 6],\n",
    "                    [7, 7, 7, 7], [8, 8, 8, 8]],\n",
    "                    [[5, 5, 5, 5], [6, 6, 6, 6],\n",
    "                    [7, 7, 7, 7], [8, 8, 8, 8]]])\n",
    "shape = tf.constant([4, 4, 4])\n",
    "scatter = tf.scatter_nd(indices, updates, shape)\n",
    "print(scatter)"
   ]
  },
  {
   "cell_type": "code",
   "execution_count": 213,
   "metadata": {},
   "outputs": [
    {
     "output_type": "error",
     "ename": "InvalidArgumentError",
     "evalue": "Dimensions [1,3) of input[shape=[4,4,3]] must match dimensions [1,3) of updates[shape=[1,1,3]] [Op:ScatterNd]",
     "traceback": [
      "\u001b[0;31m---------------------------------------------------------------------------\u001b[0m",
      "\u001b[0;31mInvalidArgumentError\u001b[0m                      Traceback (most recent call last)",
      "\u001b[0;32m<ipython-input-213-a210d6462c91>\u001b[0m in \u001b[0;36m<module>\u001b[0;34m()\u001b[0m\n\u001b[1;32m      2\u001b[0m \u001b[0mupdates\u001b[0m \u001b[0;34m=\u001b[0m \u001b[0mtf\u001b[0m\u001b[0;34m.\u001b[0m\u001b[0mconstant\u001b[0m\u001b[0;34m(\u001b[0m\u001b[0;34m[\u001b[0m\u001b[0;34m[\u001b[0m\u001b[0;34m[\u001b[0m\u001b[0;36m1\u001b[0m\u001b[0;34m,\u001b[0m\u001b[0;36m2\u001b[0m\u001b[0;34m,\u001b[0m\u001b[0;36m3\u001b[0m\u001b[0;34m]\u001b[0m\u001b[0;34m]\u001b[0m\u001b[0;34m]\u001b[0m\u001b[0;34m)\u001b[0m\u001b[0;34m\u001b[0m\u001b[0;34m\u001b[0m\u001b[0m\n\u001b[1;32m      3\u001b[0m \u001b[0mshape\u001b[0m \u001b[0;34m=\u001b[0m \u001b[0;34m(\u001b[0m\u001b[0;36m4\u001b[0m\u001b[0;34m,\u001b[0m\u001b[0;36m4\u001b[0m\u001b[0;34m,\u001b[0m\u001b[0;36m3\u001b[0m\u001b[0;34m)\u001b[0m\u001b[0;34m\u001b[0m\u001b[0;34m\u001b[0m\u001b[0m\n\u001b[0;32m----> 4\u001b[0;31m \u001b[0mscatter\u001b[0m \u001b[0;34m=\u001b[0m \u001b[0mtf\u001b[0m\u001b[0;34m.\u001b[0m\u001b[0mscatter_nd\u001b[0m\u001b[0;34m(\u001b[0m\u001b[0mindices\u001b[0m\u001b[0;34m,\u001b[0m \u001b[0mupdates\u001b[0m\u001b[0;34m,\u001b[0m \u001b[0mshape\u001b[0m\u001b[0;34m)\u001b[0m\u001b[0;34m\u001b[0m\u001b[0;34m\u001b[0m\u001b[0m\n\u001b[0m\u001b[1;32m      5\u001b[0m \u001b[0mprint\u001b[0m\u001b[0;34m(\u001b[0m\u001b[0mscatter\u001b[0m\u001b[0;34m)\u001b[0m\u001b[0;34m\u001b[0m\u001b[0;34m\u001b[0m\u001b[0m\n",
      "\u001b[0;32m/usr/local/lib/python3.7/dist-packages/tensorflow/python/ops/gen_array_ops.py\u001b[0m in \u001b[0;36mscatter_nd\u001b[0;34m(indices, updates, shape, name)\u001b[0m\n\u001b[1;32m   9000\u001b[0m     \u001b[0;32mtry\u001b[0m\u001b[0;34m:\u001b[0m\u001b[0;34m\u001b[0m\u001b[0;34m\u001b[0m\u001b[0m\n\u001b[1;32m   9001\u001b[0m       return scatter_nd_eager_fallback(\n\u001b[0;32m-> 9002\u001b[0;31m           indices, updates, shape, name=name, ctx=_ctx)\n\u001b[0m\u001b[1;32m   9003\u001b[0m     \u001b[0;32mexcept\u001b[0m \u001b[0m_core\u001b[0m\u001b[0;34m.\u001b[0m\u001b[0m_SymbolicException\u001b[0m\u001b[0;34m:\u001b[0m\u001b[0;34m\u001b[0m\u001b[0;34m\u001b[0m\u001b[0m\n\u001b[1;32m   9004\u001b[0m       \u001b[0;32mpass\u001b[0m  \u001b[0;31m# Add nodes to the TensorFlow graph.\u001b[0m\u001b[0;34m\u001b[0m\u001b[0;34m\u001b[0m\u001b[0m\n",
      "\u001b[0;32m/usr/local/lib/python3.7/dist-packages/tensorflow/python/ops/gen_array_ops.py\u001b[0m in \u001b[0;36mscatter_nd_eager_fallback\u001b[0;34m(indices, updates, shape, name, ctx)\u001b[0m\n\u001b[1;32m   9043\u001b[0m   \u001b[0m_attrs\u001b[0m \u001b[0;34m=\u001b[0m \u001b[0;34m(\u001b[0m\u001b[0;34m\"T\"\u001b[0m\u001b[0;34m,\u001b[0m \u001b[0m_attr_T\u001b[0m\u001b[0;34m,\u001b[0m \u001b[0;34m\"Tindices\"\u001b[0m\u001b[0;34m,\u001b[0m \u001b[0m_attr_Tindices\u001b[0m\u001b[0;34m)\u001b[0m\u001b[0;34m\u001b[0m\u001b[0;34m\u001b[0m\u001b[0m\n\u001b[1;32m   9044\u001b[0m   _result = _execute.execute(b\"ScatterNd\", 1, inputs=_inputs_flat,\n\u001b[0;32m-> 9045\u001b[0;31m                              attrs=_attrs, ctx=ctx, name=name)\n\u001b[0m\u001b[1;32m   9046\u001b[0m   \u001b[0;32mif\u001b[0m \u001b[0m_execute\u001b[0m\u001b[0;34m.\u001b[0m\u001b[0mmust_record_gradient\u001b[0m\u001b[0;34m(\u001b[0m\u001b[0;34m)\u001b[0m\u001b[0;34m:\u001b[0m\u001b[0;34m\u001b[0m\u001b[0;34m\u001b[0m\u001b[0m\n\u001b[1;32m   9047\u001b[0m     _execute.record_gradient(\n",
      "\u001b[0;32m/usr/local/lib/python3.7/dist-packages/tensorflow/python/eager/execute.py\u001b[0m in \u001b[0;36mquick_execute\u001b[0;34m(op_name, num_outputs, inputs, attrs, ctx, name)\u001b[0m\n\u001b[1;32m     58\u001b[0m     \u001b[0mctx\u001b[0m\u001b[0;34m.\u001b[0m\u001b[0mensure_initialized\u001b[0m\u001b[0;34m(\u001b[0m\u001b[0;34m)\u001b[0m\u001b[0;34m\u001b[0m\u001b[0;34m\u001b[0m\u001b[0m\n\u001b[1;32m     59\u001b[0m     tensors = pywrap_tfe.TFE_Py_Execute(ctx._handle, device_name, op_name,\n\u001b[0;32m---> 60\u001b[0;31m                                         inputs, attrs, num_outputs)\n\u001b[0m\u001b[1;32m     61\u001b[0m   \u001b[0;32mexcept\u001b[0m \u001b[0mcore\u001b[0m\u001b[0;34m.\u001b[0m\u001b[0m_NotOkStatusException\u001b[0m \u001b[0;32mas\u001b[0m \u001b[0me\u001b[0m\u001b[0;34m:\u001b[0m\u001b[0;34m\u001b[0m\u001b[0;34m\u001b[0m\u001b[0m\n\u001b[1;32m     62\u001b[0m     \u001b[0;32mif\u001b[0m \u001b[0mname\u001b[0m \u001b[0;32mis\u001b[0m \u001b[0;32mnot\u001b[0m \u001b[0;32mNone\u001b[0m\u001b[0;34m:\u001b[0m\u001b[0;34m\u001b[0m\u001b[0;34m\u001b[0m\u001b[0m\n",
      "\u001b[0;31mInvalidArgumentError\u001b[0m: Dimensions [1,3) of input[shape=[4,4,3]] must match dimensions [1,3) of updates[shape=[1,1,3]] [Op:ScatterNd]"
     ]
    }
   ],
   "source": [
    "indices = tf.constant([[0]])\n",
    "updates = tf.constant([[[1,2,3]]])\n",
    "shape = (4,4,3)\n",
    "scatter = tf.scatter_nd(indices, updates, shape)\n",
    "print(scatter)"
   ]
  },
  {
   "cell_type": "code",
   "execution_count": 180,
   "metadata": {},
   "outputs": [
    {
     "output_type": "error",
     "ename": "ValueError",
     "evalue": "too many values to unpack (expected 2)",
     "traceback": [
      "\u001b[0;31m---------------------------------------------------------------------------\u001b[0m",
      "\u001b[0;31mValueError\u001b[0m                                Traceback (most recent call last)",
      "\u001b[0;32m<ipython-input-180-daa14388bfe3>\u001b[0m in \u001b[0;36m<module>\u001b[0;34m()\u001b[0m\n\u001b[1;32m      2\u001b[0m \u001b[0madj\u001b[0m \u001b[0;34m=\u001b[0m \u001b[0;34m[\u001b[0m\u001b[0;34m[\u001b[0m\u001b[0;36m1\u001b[0m\u001b[0;34m,\u001b[0m\u001b[0;36m2\u001b[0m\u001b[0;34m]\u001b[0m\u001b[0;34m]\u001b[0m\u001b[0;34m\u001b[0m\u001b[0;34m\u001b[0m\u001b[0m\n\u001b[1;32m      3\u001b[0m \u001b[0mdata\u001b[0m \u001b[0;34m=\u001b[0m \u001b[0;34m[\u001b[0m\u001b[0;36m2\u001b[0m\u001b[0;34m,\u001b[0m\u001b[0;36m3\u001b[0m\u001b[0;34m,\u001b[0m\u001b[0;36m4\u001b[0m\u001b[0;34m]\u001b[0m\u001b[0;34m\u001b[0m\u001b[0;34m\u001b[0m\u001b[0m\n\u001b[0;32m----> 4\u001b[0;31m \u001b[0msparse\u001b[0m\u001b[0;34m.\u001b[0m\u001b[0mcoo_matrix\u001b[0m\u001b[0;34m(\u001b[0m\u001b[0;34m(\u001b[0m\u001b[0;34m[\u001b[0m\u001b[0;34m[\u001b[0m\u001b[0;36m1\u001b[0m\u001b[0;34m,\u001b[0m\u001b[0;36m3\u001b[0m\u001b[0;34m,\u001b[0m\u001b[0;36m2\u001b[0m\u001b[0;34m]\u001b[0m\u001b[0;34m,\u001b[0m\u001b[0;34m[\u001b[0m\u001b[0;36m3\u001b[0m\u001b[0;34m,\u001b[0m\u001b[0;36m4\u001b[0m\u001b[0;34m,\u001b[0m\u001b[0;36m3\u001b[0m\u001b[0;34m]\u001b[0m\u001b[0;34m]\u001b[0m\u001b[0;34m,\u001b[0m \u001b[0;34m(\u001b[0m\u001b[0;34m[\u001b[0m\u001b[0;36m1\u001b[0m\u001b[0;34m,\u001b[0m\u001b[0;36m2\u001b[0m\u001b[0;34m]\u001b[0m\u001b[0;34m,\u001b[0m \u001b[0;34m[\u001b[0m\u001b[0;36m2\u001b[0m\u001b[0;34m,\u001b[0m\u001b[0;36m1\u001b[0m\u001b[0;34m]\u001b[0m\u001b[0;34m)\u001b[0m\u001b[0;34m)\u001b[0m\u001b[0;34m,\u001b[0m \u001b[0;34m(\u001b[0m\u001b[0;36m10\u001b[0m\u001b[0;34m,\u001b[0m \u001b[0;36m10\u001b[0m\u001b[0;34m,\u001b[0m\u001b[0;36m3\u001b[0m\u001b[0;34m)\u001b[0m\u001b[0;34m)\u001b[0m\u001b[0;34m\u001b[0m\u001b[0;34m\u001b[0m\u001b[0m\n\u001b[0m",
      "\u001b[0;32m/usr/local/lib/python3.7/dist-packages/scipy/sparse/coo.py\u001b[0m in \u001b[0;36m__init__\u001b[0;34m(self, arg1, shape, dtype, copy)\u001b[0m\n\u001b[1;32m    153\u001b[0m                 \u001b[0;32melse\u001b[0m\u001b[0;34m:\u001b[0m\u001b[0;34m\u001b[0m\u001b[0;34m\u001b[0m\u001b[0m\n\u001b[1;32m    154\u001b[0m                     \u001b[0;31m# Use 2 steps to ensure shape has length 2.\u001b[0m\u001b[0;34m\u001b[0m\u001b[0;34m\u001b[0m\u001b[0;34m\u001b[0m\u001b[0m\n\u001b[0;32m--> 155\u001b[0;31m                     \u001b[0mM\u001b[0m\u001b[0;34m,\u001b[0m \u001b[0mN\u001b[0m \u001b[0;34m=\u001b[0m \u001b[0mshape\u001b[0m\u001b[0;34m\u001b[0m\u001b[0;34m\u001b[0m\u001b[0m\n\u001b[0m\u001b[1;32m    156\u001b[0m                     \u001b[0mself\u001b[0m\u001b[0;34m.\u001b[0m\u001b[0m_shape\u001b[0m \u001b[0;34m=\u001b[0m \u001b[0mcheck_shape\u001b[0m\u001b[0;34m(\u001b[0m\u001b[0;34m(\u001b[0m\u001b[0mM\u001b[0m\u001b[0;34m,\u001b[0m \u001b[0mN\u001b[0m\u001b[0;34m)\u001b[0m\u001b[0;34m)\u001b[0m\u001b[0;34m\u001b[0m\u001b[0;34m\u001b[0m\u001b[0m\n\u001b[1;32m    157\u001b[0m \u001b[0;34m\u001b[0m\u001b[0m\n",
      "\u001b[0;31mValueError\u001b[0m: too many values to unpack (expected 2)"
     ]
    }
   ],
   "source": [
    "from scipy import sparse\n",
    "adj = [[1,2]]\n",
    "data = [2,3,4]\n",
    "sparse.coo_matrix(([[1,3,2],[3,4,3]], ([1,2], [2,1])), (10, 10,3))\n"
   ]
  },
  {
   "cell_type": "code",
   "execution_count": null,
   "metadata": {},
   "outputs": [],
   "source": []
  },
  {
   "cell_type": "code",
   "execution_count": 84,
   "metadata": {},
   "outputs": [
    {
     "output_type": "execute_result",
     "data": {
      "text/plain": [
       "tensor([[[[1., 1., 1.],\n",
       "          [1., 1., 1.]],\n",
       "\n",
       "         [[1., 1., 1.],\n",
       "          [1., 1., 1.]]]])"
      ]
     },
     "metadata": {},
     "execution_count": 84
    }
   ],
   "source": [
    "vh = torch.ones((1,2,2,3))\n",
    "g = torch.ones((1,2,2))\n",
    "g.unsqueeze(-1).expand_as(vh)"
   ]
  },
  {
   "cell_type": "code",
   "execution_count": 92,
   "metadata": {},
   "outputs": [
    {
     "output_type": "error",
     "ename": "InvalidArgumentError",
     "evalue": "Expected begin, end, and strides to be 1D equal size tensors, but got shapes [1,2,3], [1,2,3], and [1] instead. [Op:StridedSlice] name: strided_slice/",
     "traceback": [
      "\u001b[0;31m---------------------------------------------------------------------------\u001b[0m",
      "\u001b[0;31mInvalidArgumentError\u001b[0m                      Traceback (most recent call last)",
      "\u001b[0;32m<ipython-input-92-d0761141d7f8>\u001b[0m in \u001b[0;36m<module>\u001b[0;34m()\u001b[0m\n\u001b[0;32m----> 1\u001b[0;31m \u001b[0mtf\u001b[0m\u001b[0;34m.\u001b[0m\u001b[0mones\u001b[0m\u001b[0;34m(\u001b[0m\u001b[0;34m(\u001b[0m\u001b[0;36m2\u001b[0m\u001b[0;34m,\u001b[0m\u001b[0;36m3\u001b[0m\u001b[0;34m)\u001b[0m\u001b[0;34m)\u001b[0m\u001b[0;34m[\u001b[0m\u001b[0mtf\u001b[0m\u001b[0;34m.\u001b[0m\u001b[0mconstant\u001b[0m\u001b[0;34m(\u001b[0m\u001b[0;34m[\u001b[0m\u001b[0;34m[\u001b[0m\u001b[0;36m1\u001b[0m\u001b[0;34m,\u001b[0m\u001b[0;36m0\u001b[0m\u001b[0;34m,\u001b[0m\u001b[0;36m1\u001b[0m\u001b[0;34m]\u001b[0m\u001b[0;34m,\u001b[0m\u001b[0;34m[\u001b[0m\u001b[0;36m0\u001b[0m\u001b[0;34m,\u001b[0m\u001b[0;36m1\u001b[0m\u001b[0;34m,\u001b[0m\u001b[0;36m1\u001b[0m\u001b[0;34m]\u001b[0m\u001b[0;34m]\u001b[0m\u001b[0;34m)\u001b[0m\u001b[0;34m]\u001b[0m\u001b[0;34m\u001b[0m\u001b[0;34m\u001b[0m\u001b[0m\n\u001b[0m",
      "\u001b[0;32m/usr/local/lib/python3.7/dist-packages/tensorflow/python/util/dispatch.py\u001b[0m in \u001b[0;36mwrapper\u001b[0;34m(*args, **kwargs)\u001b[0m\n\u001b[1;32m    204\u001b[0m     \u001b[0;34m\"\"\"Call target, and fall back on dispatchers if there is a TypeError.\"\"\"\u001b[0m\u001b[0;34m\u001b[0m\u001b[0;34m\u001b[0m\u001b[0m\n\u001b[1;32m    205\u001b[0m     \u001b[0;32mtry\u001b[0m\u001b[0;34m:\u001b[0m\u001b[0;34m\u001b[0m\u001b[0;34m\u001b[0m\u001b[0m\n\u001b[0;32m--> 206\u001b[0;31m       \u001b[0;32mreturn\u001b[0m \u001b[0mtarget\u001b[0m\u001b[0;34m(\u001b[0m\u001b[0;34m*\u001b[0m\u001b[0margs\u001b[0m\u001b[0;34m,\u001b[0m \u001b[0;34m**\u001b[0m\u001b[0mkwargs\u001b[0m\u001b[0;34m)\u001b[0m\u001b[0;34m\u001b[0m\u001b[0;34m\u001b[0m\u001b[0m\n\u001b[0m\u001b[1;32m    207\u001b[0m     \u001b[0;32mexcept\u001b[0m \u001b[0;34m(\u001b[0m\u001b[0mTypeError\u001b[0m\u001b[0;34m,\u001b[0m \u001b[0mValueError\u001b[0m\u001b[0;34m)\u001b[0m\u001b[0;34m:\u001b[0m\u001b[0;34m\u001b[0m\u001b[0;34m\u001b[0m\u001b[0m\n\u001b[1;32m    208\u001b[0m       \u001b[0;31m# Note: convert_to_eager_tensor currently raises a ValueError, not a\u001b[0m\u001b[0;34m\u001b[0m\u001b[0;34m\u001b[0m\u001b[0;34m\u001b[0m\u001b[0m\n",
      "\u001b[0;32m/usr/local/lib/python3.7/dist-packages/tensorflow/python/ops/array_ops.py\u001b[0m in \u001b[0;36m_slice_helper\u001b[0;34m(tensor, slice_spec, var)\u001b[0m\n\u001b[1;32m   1049\u001b[0m         \u001b[0mellipsis_mask\u001b[0m\u001b[0;34m=\u001b[0m\u001b[0mellipsis_mask\u001b[0m\u001b[0;34m,\u001b[0m\u001b[0;34m\u001b[0m\u001b[0;34m\u001b[0m\u001b[0m\n\u001b[1;32m   1050\u001b[0m         \u001b[0mvar\u001b[0m\u001b[0;34m=\u001b[0m\u001b[0mvar\u001b[0m\u001b[0;34m,\u001b[0m\u001b[0;34m\u001b[0m\u001b[0;34m\u001b[0m\u001b[0m\n\u001b[0;32m-> 1051\u001b[0;31m         name=name)\n\u001b[0m\u001b[1;32m   1052\u001b[0m \u001b[0;34m\u001b[0m\u001b[0m\n\u001b[1;32m   1053\u001b[0m \u001b[0;34m\u001b[0m\u001b[0m\n",
      "\u001b[0;32m/usr/local/lib/python3.7/dist-packages/tensorflow/python/util/dispatch.py\u001b[0m in \u001b[0;36mwrapper\u001b[0;34m(*args, **kwargs)\u001b[0m\n\u001b[1;32m    204\u001b[0m     \u001b[0;34m\"\"\"Call target, and fall back on dispatchers if there is a TypeError.\"\"\"\u001b[0m\u001b[0;34m\u001b[0m\u001b[0;34m\u001b[0m\u001b[0m\n\u001b[1;32m    205\u001b[0m     \u001b[0;32mtry\u001b[0m\u001b[0;34m:\u001b[0m\u001b[0;34m\u001b[0m\u001b[0;34m\u001b[0m\u001b[0m\n\u001b[0;32m--> 206\u001b[0;31m       \u001b[0;32mreturn\u001b[0m \u001b[0mtarget\u001b[0m\u001b[0;34m(\u001b[0m\u001b[0;34m*\u001b[0m\u001b[0margs\u001b[0m\u001b[0;34m,\u001b[0m \u001b[0;34m**\u001b[0m\u001b[0mkwargs\u001b[0m\u001b[0;34m)\u001b[0m\u001b[0;34m\u001b[0m\u001b[0;34m\u001b[0m\u001b[0m\n\u001b[0m\u001b[1;32m    207\u001b[0m     \u001b[0;32mexcept\u001b[0m \u001b[0;34m(\u001b[0m\u001b[0mTypeError\u001b[0m\u001b[0;34m,\u001b[0m \u001b[0mValueError\u001b[0m\u001b[0;34m)\u001b[0m\u001b[0;34m:\u001b[0m\u001b[0;34m\u001b[0m\u001b[0;34m\u001b[0m\u001b[0m\n\u001b[1;32m    208\u001b[0m       \u001b[0;31m# Note: convert_to_eager_tensor currently raises a ValueError, not a\u001b[0m\u001b[0;34m\u001b[0m\u001b[0;34m\u001b[0m\u001b[0;34m\u001b[0m\u001b[0m\n",
      "\u001b[0;32m/usr/local/lib/python3.7/dist-packages/tensorflow/python/ops/array_ops.py\u001b[0m in \u001b[0;36mstrided_slice\u001b[0;34m(input_, begin, end, strides, begin_mask, end_mask, ellipsis_mask, new_axis_mask, shrink_axis_mask, var, name)\u001b[0m\n\u001b[1;32m   1221\u001b[0m       \u001b[0mellipsis_mask\u001b[0m\u001b[0;34m=\u001b[0m\u001b[0mellipsis_mask\u001b[0m\u001b[0;34m,\u001b[0m\u001b[0;34m\u001b[0m\u001b[0;34m\u001b[0m\u001b[0m\n\u001b[1;32m   1222\u001b[0m       \u001b[0mnew_axis_mask\u001b[0m\u001b[0;34m=\u001b[0m\u001b[0mnew_axis_mask\u001b[0m\u001b[0;34m,\u001b[0m\u001b[0;34m\u001b[0m\u001b[0;34m\u001b[0m\u001b[0m\n\u001b[0;32m-> 1223\u001b[0;31m       shrink_axis_mask=shrink_axis_mask)\n\u001b[0m\u001b[1;32m   1224\u001b[0m \u001b[0;34m\u001b[0m\u001b[0m\n\u001b[1;32m   1225\u001b[0m   \u001b[0mparent_name\u001b[0m \u001b[0;34m=\u001b[0m \u001b[0mname\u001b[0m\u001b[0;34m\u001b[0m\u001b[0;34m\u001b[0m\u001b[0m\n",
      "\u001b[0;32m/usr/local/lib/python3.7/dist-packages/tensorflow/python/ops/gen_array_ops.py\u001b[0m in \u001b[0;36mstrided_slice\u001b[0;34m(input, begin, end, strides, begin_mask, end_mask, ellipsis_mask, new_axis_mask, shrink_axis_mask, name)\u001b[0m\n\u001b[1;32m  10503\u001b[0m       \u001b[0;32mreturn\u001b[0m \u001b[0m_result\u001b[0m\u001b[0;34m\u001b[0m\u001b[0;34m\u001b[0m\u001b[0m\n\u001b[1;32m  10504\u001b[0m     \u001b[0;32mexcept\u001b[0m \u001b[0m_core\u001b[0m\u001b[0;34m.\u001b[0m\u001b[0m_NotOkStatusException\u001b[0m \u001b[0;32mas\u001b[0m \u001b[0me\u001b[0m\u001b[0;34m:\u001b[0m\u001b[0;34m\u001b[0m\u001b[0;34m\u001b[0m\u001b[0m\n\u001b[0;32m> 10505\u001b[0;31m       \u001b[0m_ops\u001b[0m\u001b[0;34m.\u001b[0m\u001b[0mraise_from_not_ok_status\u001b[0m\u001b[0;34m(\u001b[0m\u001b[0me\u001b[0m\u001b[0;34m,\u001b[0m \u001b[0mname\u001b[0m\u001b[0;34m)\u001b[0m\u001b[0;34m\u001b[0m\u001b[0;34m\u001b[0m\u001b[0m\n\u001b[0m\u001b[1;32m  10506\u001b[0m     \u001b[0;32mexcept\u001b[0m \u001b[0m_core\u001b[0m\u001b[0;34m.\u001b[0m\u001b[0m_FallbackException\u001b[0m\u001b[0;34m:\u001b[0m\u001b[0;34m\u001b[0m\u001b[0;34m\u001b[0m\u001b[0m\n\u001b[1;32m  10507\u001b[0m       \u001b[0;32mpass\u001b[0m\u001b[0;34m\u001b[0m\u001b[0;34m\u001b[0m\u001b[0m\n",
      "\u001b[0;32m/usr/local/lib/python3.7/dist-packages/tensorflow/python/framework/ops.py\u001b[0m in \u001b[0;36mraise_from_not_ok_status\u001b[0;34m(e, name)\u001b[0m\n\u001b[1;32m   6895\u001b[0m   \u001b[0mmessage\u001b[0m \u001b[0;34m=\u001b[0m \u001b[0me\u001b[0m\u001b[0;34m.\u001b[0m\u001b[0mmessage\u001b[0m \u001b[0;34m+\u001b[0m \u001b[0;34m(\u001b[0m\u001b[0;34m\" name: \"\u001b[0m \u001b[0;34m+\u001b[0m \u001b[0mname\u001b[0m \u001b[0;32mif\u001b[0m \u001b[0mname\u001b[0m \u001b[0;32mis\u001b[0m \u001b[0;32mnot\u001b[0m \u001b[0;32mNone\u001b[0m \u001b[0;32melse\u001b[0m \u001b[0;34m\"\"\u001b[0m\u001b[0;34m)\u001b[0m\u001b[0;34m\u001b[0m\u001b[0;34m\u001b[0m\u001b[0m\n\u001b[1;32m   6896\u001b[0m   \u001b[0;31m# pylint: disable=protected-access\u001b[0m\u001b[0;34m\u001b[0m\u001b[0;34m\u001b[0m\u001b[0;34m\u001b[0m\u001b[0m\n\u001b[0;32m-> 6897\u001b[0;31m   \u001b[0msix\u001b[0m\u001b[0;34m.\u001b[0m\u001b[0mraise_from\u001b[0m\u001b[0;34m(\u001b[0m\u001b[0mcore\u001b[0m\u001b[0;34m.\u001b[0m\u001b[0m_status_to_exception\u001b[0m\u001b[0;34m(\u001b[0m\u001b[0me\u001b[0m\u001b[0;34m.\u001b[0m\u001b[0mcode\u001b[0m\u001b[0;34m,\u001b[0m \u001b[0mmessage\u001b[0m\u001b[0;34m)\u001b[0m\u001b[0;34m,\u001b[0m \u001b[0;32mNone\u001b[0m\u001b[0;34m)\u001b[0m\u001b[0;34m\u001b[0m\u001b[0;34m\u001b[0m\u001b[0m\n\u001b[0m\u001b[1;32m   6898\u001b[0m   \u001b[0;31m# pylint: enable=protected-access\u001b[0m\u001b[0;34m\u001b[0m\u001b[0;34m\u001b[0m\u001b[0;34m\u001b[0m\u001b[0m\n\u001b[1;32m   6899\u001b[0m \u001b[0;34m\u001b[0m\u001b[0m\n",
      "\u001b[0;32m/usr/local/lib/python3.7/dist-packages/six.py\u001b[0m in \u001b[0;36mraise_from\u001b[0;34m(value, from_value)\u001b[0m\n",
      "\u001b[0;31mInvalidArgumentError\u001b[0m: Expected begin, end, and strides to be 1D equal size tensors, but got shapes [1,2,3], [1,2,3], and [1] instead. [Op:StridedSlice] name: strided_slice/"
     ]
    }
   ],
   "source": [
    "tf.ones((2,3))[tf.constant([[1,0,1],[0,1,1]])]"
   ]
  },
  {
   "cell_type": "code",
   "execution_count": 133,
   "metadata": {},
   "outputs": [
    {
     "output_type": "stream",
     "name": "stdout",
     "text": [
      "tensor([[2., 2., 2.],\n        [2., 2., 2.]])\ntensor([[ True, False,  True],\n        [False,  True, False]])\n"
     ]
    },
    {
     "output_type": "execute_result",
     "data": {
      "text/plain": [
       "tensor([[2., 0., 2.],\n",
       "        [0., 2., 0.]])"
      ]
     },
     "metadata": {},
     "execution_count": 133
    }
   ],
   "source": [
    "import numpy as np\n",
    "G = 2*torch.ones((2,3))\n",
    "print(G)\n",
    "mask = torch.tensor([[1,0,1],[0,1,0]], dtype=torch.bool)\n",
    "print(mask)\n",
    "G[~mask] = 0\n",
    "G"
   ]
  },
  {
   "cell_type": "code",
   "execution_count": 187,
   "metadata": {},
   "outputs": [
    {
     "output_type": "execute_result",
     "data": {
      "text/plain": [
       "<tf.Tensor: shape=(2, 3), dtype=float32, numpy=\n",
       "array([[1., 1., 1.],\n",
       "       [1., 1., 1.]], dtype=float32)>"
      ]
     },
     "metadata": {},
     "execution_count": 187
    }
   ],
   "source": [
    "tf.ones((2,3))"
   ]
  },
  {
   "cell_type": "code",
   "execution_count": 191,
   "metadata": {},
   "outputs": [
    {
     "output_type": "execute_result",
     "data": {
      "text/plain": [
       "array([[[0., 0., 0., 0.],\n",
       "        [0., 0., 0., 0.],\n",
       "        [1., 1., 1., 1.]],\n",
       "\n",
       "       [[0., 0., 0., 0.],\n",
       "        [0., 0., 0., 0.],\n",
       "        [0., 0., 0., 0.]],\n",
       "\n",
       "       [[1., 1., 1., 1.],\n",
       "        [0., 0., 0., 0.],\n",
       "        [0., 0., 0., 0.]]], dtype=float32)"
      ]
     },
     "metadata": {},
     "execution_count": 191
    }
   ],
   "source": [
    "tensor = tf.zeros((3,3,4))\n",
    "\n",
    "updates = tf.ones((2,4))\n",
    "\n",
    "indices = [[0, 2], [2,0]]\n",
    "\n",
    "tf.tensor_scatter_nd_update(tensor, indices, updates).numpy()"
   ]
  },
  {
   "cell_type": "code",
   "execution_count": 145,
   "metadata": {},
   "outputs": [
    {
     "output_type": "execute_result",
     "data": {
      "text/plain": [
       "torch.Size([2, 4])"
      ]
     },
     "metadata": {},
     "execution_count": 145
    }
   ],
   "source": [
    "torch.sum(torch.ones((2,3,4)),1).shape"
   ]
  },
  {
   "cell_type": "code",
   "execution_count": 140,
   "metadata": {},
   "outputs": [
    {
     "output_type": "execute_result",
     "data": {
      "text/plain": [
       "tensor([[[2],\n",
       "         [1]]])"
      ]
     },
     "metadata": {},
     "execution_count": 140
    }
   ],
   "source": [
    "graph = torch.tensor([[1,0,1],[0,1,0]], dtype=torch.long).unsqueeze(0)\n",
    "torch.sum(graph, dim=2).unsqueeze(-1)"
   ]
  },
  {
   "cell_type": "code",
   "execution_count": null,
   "metadata": {},
   "outputs": [],
   "source": [
    "tf.ones(2,3,)"
   ]
  },
  {
   "cell_type": "code",
   "execution_count": 124,
   "metadata": {},
   "outputs": [
    {
     "output_type": "execute_result",
     "data": {
      "text/plain": [
       "tensor([[ True, False, False],\n",
       "        [False,  True, False]])"
      ]
     },
     "metadata": {},
     "execution_count": 124
    }
   ],
   "source": [
    "torch.tensor([[1,0,0],[0,1,0]], dtype=torch.bool)"
   ]
  },
  {
   "cell_type": "code",
   "execution_count": 112,
   "metadata": {},
   "outputs": [
    {
     "output_type": "error",
     "ename": "TypeError",
     "evalue": "new() received an invalid combination of arguments - got (numpy.ndarray, dtype=str), but expected one of:\n * (*, torch.device device)\n      didn't match because some of the keywords were incorrect: dtype\n * (torch.Storage storage)\n * (Tensor other)\n * (tuple of ints size, *, torch.device device)\n * (object data, *, torch.device device)\n",
     "traceback": [
      "\u001b[0;31m---------------------------------------------------------------------------\u001b[0m",
      "\u001b[0;31mTypeError\u001b[0m                                 Traceback (most recent call last)",
      "\u001b[0;32m<ipython-input-112-1a1cf27b58aa>\u001b[0m in \u001b[0;36m<module>\u001b[0;34m()\u001b[0m\n\u001b[0;32m----> 1\u001b[0;31m \u001b[0mtorch\u001b[0m\u001b[0;34m.\u001b[0m\u001b[0mTensor\u001b[0m\u001b[0;34m(\u001b[0m\u001b[0mnp\u001b[0m\u001b[0;34m.\u001b[0m\u001b[0marray\u001b[0m\u001b[0;34m(\u001b[0m\u001b[0;34m[\u001b[0m\u001b[0;34m[\u001b[0m\u001b[0;36m1\u001b[0m\u001b[0;34m,\u001b[0m\u001b[0;36m0\u001b[0m\u001b[0;34m,\u001b[0m\u001b[0;36m0\u001b[0m\u001b[0;34m]\u001b[0m\u001b[0;34m,\u001b[0m\u001b[0;34m[\u001b[0m\u001b[0;36m0\u001b[0m\u001b[0;34m,\u001b[0m\u001b[0;36m1\u001b[0m\u001b[0;34m,\u001b[0m\u001b[0;36m0\u001b[0m\u001b[0;34m]\u001b[0m\u001b[0;34m]\u001b[0m\u001b[0;34m)\u001b[0m\u001b[0;34m,\u001b[0m \u001b[0mdtype\u001b[0m\u001b[0;34m=\u001b[0m\u001b[0;34m'long'\u001b[0m\u001b[0;34m)\u001b[0m\u001b[0;34m\u001b[0m\u001b[0;34m\u001b[0m\u001b[0m\n\u001b[0m",
      "\u001b[0;31mTypeError\u001b[0m: new() received an invalid combination of arguments - got (numpy.ndarray, dtype=str), but expected one of:\n * (*, torch.device device)\n      didn't match because some of the keywords were incorrect: dtype\n * (torch.Storage storage)\n * (Tensor other)\n * (tuple of ints size, *, torch.device device)\n * (object data, *, torch.device device)\n"
     ]
    }
   ],
   "source": [
    "torch.Tensor(np.array([[1,0,0],[0,1,0]]), dtype='long')"
   ]
  },
  {
   "cell_type": "code",
   "execution_count": 130,
   "metadata": {},
   "outputs": [
    {
     "output_type": "execute_result",
     "data": {
      "text/plain": [
       "TensorShape([23, 4])"
      ]
     },
     "metadata": {},
     "execution_count": 130
    }
   ],
   "source": [
    "Ah = tf.ones((5,3,4))\n",
    "\n",
    "s = list(Ah.shape)\n",
    "s[-1:-1] = [100]\n",
    "s\n",
    "tf.TensorShape([23,4])\n"
   ]
  },
  {
   "cell_type": "code",
   "execution_count": null,
   "metadata": {},
   "outputs": [],
   "source": [
    "from collections import defaultdict \n"
   ]
  },
  {
   "cell_type": "code",
   "execution_count": 115,
   "metadata": {},
   "outputs": [
    {
     "output_type": "execute_result",
     "data": {
      "text/plain": [
       "<tf.Tensor: shape=(5, 2, 2, 3), dtype=float32, numpy=\n",
       "array([[[[1., 1., 1.],\n",
       "         [1., 1., 1.]],\n",
       "\n",
       "        [[1., 1., 1.],\n",
       "         [1., 1., 1.]]],\n",
       "\n",
       "\n",
       "       [[[1., 1., 1.],\n",
       "         [1., 1., 1.]],\n",
       "\n",
       "        [[1., 1., 1.],\n",
       "         [1., 1., 1.]]],\n",
       "\n",
       "\n",
       "       [[[1., 1., 1.],\n",
       "         [1., 1., 1.]],\n",
       "\n",
       "        [[1., 1., 1.],\n",
       "         [1., 1., 1.]]],\n",
       "\n",
       "\n",
       "       [[[1., 1., 1.],\n",
       "         [1., 1., 1.]],\n",
       "\n",
       "        [[1., 1., 1.],\n",
       "         [1., 1., 1.]]],\n",
       "\n",
       "\n",
       "       [[[1., 1., 1.],\n",
       "         [1., 1., 1.]],\n",
       "\n",
       "        [[1., 1., 1.],\n",
       "         [1., 1., 1.]]]], dtype=float32)>"
      ]
     },
     "metadata": {},
     "execution_count": 115
    }
   ],
   "source": [
    "tf.ones((2,3)) #* tf.ones((2))\n",
    "\n",
    "tf.broadcast_to(\n",
    "    tf.expand_dims(tf.ones((2,2,3)), 0),\n",
    "     tf.TensorShape((5, 2, 2, 3))\n",
    ")\n",
    "\n",
    "\n"
   ]
  },
  {
   "cell_type": "code",
   "execution_count": null,
   "metadata": {},
   "outputs": [],
   "source": []
  },
  {
   "cell_type": "code",
   "execution_count": 62,
   "metadata": {},
   "outputs": [
    {
     "output_type": "execute_result",
     "data": {
      "text/plain": [
       "tensor([[[[1., 1., 1.],\n",
       "          [1., 1., 1.]],\n",
       "\n",
       "         [[1., 1., 1.],\n",
       "          [1., 1., 1.]]]])"
      ]
     },
     "metadata": {},
     "execution_count": 62
    }
   ],
   "source": [
    "import torch\n",
    "\n",
    "\n",
    "torch.ones((1,2,3)).unsqueeze(1).expand(-1,2,-1,-1)"
   ]
  },
  {
   "cell_type": "code",
   "execution_count": 6,
   "metadata": {},
   "outputs": [
    {
     "output_type": "execute_result",
     "data": {
      "text/plain": [
       "<tf.Tensor: shape=(1, 1, 3, 4), dtype=float32, numpy=\n",
       "array([[[[-0.6347897, -1.5240858, -0.2905345, -1.2611516],\n",
       "         [-0.6347897, -1.5240858, -0.2905345, -1.2611516],\n",
       "         [-0.6347897, -1.5240858, -0.2905345, -1.2611516]]]],\n",
       "      dtype=float32)>"
      ]
     },
     "metadata": {},
     "execution_count": 6
    }
   ],
   "source": [
    "#output\n",
    "tf.expand_dims(output,1)"
   ]
  },
  {
   "cell_type": "code",
   "execution_count": 7,
   "metadata": {},
   "outputs": [
    {
     "output_type": "execute_result",
     "data": {
      "text/plain": [
       "[<tf.Variable 'GGCN_Layer/node/U/kernel:0' shape=(2, 4) dtype=float32, numpy=\n",
       " array([[-0.7908015 , -0.31756973,  0.9770453 , -0.86365485],\n",
       "        [ 0.57385945,  0.3395264 ,  0.39369655, -0.9945414 ]],\n",
       "       dtype=float32)>,\n",
       " <tf.Variable 'GGCN_Layer/node/U/bias:0' shape=(4,) dtype=float32, numpy=array([0., 0., 0., 0.], dtype=float32)>,\n",
       " <tf.Variable 'GGCN_Layer/node/V/kernel:0' shape=(2, 4) dtype=float32, numpy=\n",
       " array([[-0.63925743,  0.42692327,  0.81665325, -0.58390784],\n",
       "        [ 0.33103204,  0.02955723, -0.995662  , -0.36471272]],\n",
       "       dtype=float32)>,\n",
       " <tf.Variable 'GGCN_Layer/node/V/bias:0' shape=(4,) dtype=float32, numpy=array([0., 0., 0., 0.], dtype=float32)>,\n",
       " <tf.Variable 'GGCN_Layer/edge/A/kernel:0' shape=(2, 4) dtype=float32, numpy=\n",
       " array([[-0.2605679 , -0.85975766,  0.5714941 , -0.54330873],\n",
       "        [-0.3742218 , -0.6643281 , -0.8620286 , -0.7178428 ]],\n",
       "       dtype=float32)>,\n",
       " <tf.Variable 'GGCN_Layer/edge/A/bias:0' shape=(4,) dtype=float32, numpy=array([0., 0., 0., 0.], dtype=float32)>,\n",
       " <tf.Variable 'GGCN_Layer/edge/B/kernel:0' shape=(2, 4) dtype=float32, numpy=\n",
       " array([[ 0.3364699 ,  0.01047206, -0.6221361 , -0.15831971],\n",
       "        [-0.6090131 , -0.8932948 , -0.46891856, -0.91232085]],\n",
       "       dtype=float32)>,\n",
       " <tf.Variable 'GGCN_Layer/edge/B/bias:0' shape=(4,) dtype=float32, numpy=array([0., 0., 0., 0.], dtype=float32)>,\n",
       " <tf.Variable 'GGCN_Layer/edge/C/kernel:0' shape=(2, 4) dtype=float32, numpy=\n",
       " array([[-0.97952056, -0.17818356,  0.6234498 ,  0.8398957 ],\n",
       "        [-0.9158859 , -0.29395628,  0.85565686, -0.911186  ]],\n",
       "       dtype=float32)>,\n",
       " <tf.Variable 'GGCN_Layer/edge/C/bias:0' shape=(4,) dtype=float32, numpy=array([0., 0., 0., 0.], dtype=float32)>,\n",
       " <tf.Variable 'GGCN_Layer/norm/node/gamma:0' shape=(4,) dtype=float32, numpy=array([1., 1., 1., 1.], dtype=float32)>,\n",
       " <tf.Variable 'GGCN_Layer/norm/node/beta:0' shape=(4,) dtype=float32, numpy=array([0., 0., 0., 0.], dtype=float32)>,\n",
       " <tf.Variable 'GGCN_Layer/norm/edge/gamma:0' shape=(4,) dtype=float32, numpy=array([1., 1., 1., 1.], dtype=float32)>,\n",
       " <tf.Variable 'GGCN_Layer/norm/edge/beta:0' shape=(4,) dtype=float32, numpy=array([0., 0., 0., 0.], dtype=float32)>]"
      ]
     },
     "metadata": {},
     "execution_count": 7
    }
   ],
   "source": [
    "ggcn.variables"
   ]
  },
  {
   "cell_type": "code",
   "execution_count": null,
   "metadata": {},
   "outputs": [],
   "source": []
  },
  {
   "cell_type": "code",
   "execution_count": 11,
   "metadata": {},
   "outputs": [],
   "source": [
    "        # self.w = self.add_weight(shape=(input_shape[-1], self.units),\n",
    "        #                          initializer='random_normal',\n",
    "        #                          trainable=True)\n",
    "        # self.b = self.add_weight(shape=(self.units,),\n",
    "        #                          initializer='random_normal',\n",
    "        #                          trainable=True)"
   ]
  },
  {
   "cell_type": "code",
   "execution_count": null,
   "metadata": {},
   "outputs": [],
   "source": []
  },
  {
   "cell_type": "code",
   "execution_count": null,
   "metadata": {},
   "outputs": [],
   "source": []
  },
  {
   "cell_type": "code",
   "execution_count": null,
   "metadata": {},
   "outputs": [],
   "source": []
  },
  {
   "cell_type": "code",
   "execution_count": null,
   "metadata": {},
   "outputs": [],
   "source": []
  },
  {
   "cell_type": "code",
   "execution_count": null,
   "metadata": {},
   "outputs": [],
   "source": []
  },
  {
   "cell_type": "code",
   "execution_count": null,
   "metadata": {},
   "outputs": [],
   "source": []
  },
  {
   "cell_type": "code",
   "execution_count": null,
   "metadata": {},
   "outputs": [],
   "source": []
  },
  {
   "cell_type": "code",
   "execution_count": null,
   "metadata": {},
   "outputs": [],
   "source": [
    "import networkx as nx\n",
    "import numpy as np\n",
    "import tensorflow as tf\n",
    "\n",
    "import itertools\n",
    "import functools\n",
    "\n",
    "from tensorflow.data import Dataset\n",
    "from tensorflow.python.data.ops.dataset_ops import FlatMapDataset"
   ]
  },
  {
   "cell_type": "code",
   "execution_count": null,
   "metadata": {},
   "outputs": [],
   "source": [
    "%load_ext autoreload\n",
    "%autoreload 2\n",
    "\n",
    "from msp.datasets import make_data, load_sample_data\n",
    "from msp.graphs import MSPGraph\n"
   ]
  },
  {
   "cell_type": "code",
   "execution_count": null,
   "metadata": {},
   "outputs": [],
   "source": [
    "dataset = make_data(1, msp_rand_size=(10,80))\n",
    "G = MSPGraph.from_dict(list(dataset.take(1))[0])"
   ]
  },
  {
   "cell_type": "code",
   "execution_count": null,
   "metadata": {},
   "outputs": [],
   "source": [
    "degrees = [val for (node, val) in G.degree() if val==0]\n",
    "\n",
    "import numpy as np\n",
    "np.random.randint(*(5,80), size=2).sum()"
   ]
  },
  {
   "cell_type": "code",
   "execution_count": null,
   "metadata": {},
   "outputs": [],
   "source": []
  },
  {
   "cell_type": "code",
   "execution_count": null,
   "metadata": {},
   "outputs": [],
   "source": [
    "G.alpha"
   ]
  },
  {
   "cell_type": "code",
   "execution_count": null,
   "metadata": {},
   "outputs": [],
   "source": [
    "alpha = G.alpha\n",
    "\n",
    "\n",
    "alpha_2 = ','.join(map(str, alpha.numpy().flatten()))\n",
    "\n",
    "alpha_3 = tf.constant(np.array(alpha_2.split(','), dtype='float').reshape(alpha.shape))"
   ]
  },
  {
   "cell_type": "code",
   "execution_count": null,
   "metadata": {},
   "outputs": [],
   "source": [
    "G.number_of_nodes()"
   ]
  },
  {
   "cell_type": "code",
   "execution_count": null,
   "metadata": {},
   "outputs": [],
   "source": [
    "G.writeAs('file.graphml', 'graphml')"
   ]
  },
  {
   "cell_type": "code",
   "execution_count": null,
   "metadata": {},
   "outputs": [],
   "source": [
    "G.number_of_nodes(), G.number_of_edges()"
   ]
  },
  {
   "cell_type": "code",
   "execution_count": null,
   "metadata": {},
   "outputs": [],
   "source": [
    "#G.edges"
   ]
  },
  {
   "cell_type": "code",
   "execution_count": null,
   "metadata": {},
   "outputs": [],
   "source": [
    "GG = nx.read_graphml('file.graphml')"
   ]
  },
  {
   "cell_type": "code",
   "execution_count": null,
   "metadata": {},
   "outputs": [],
   "source": [
    "GG.graph['alpha']"
   ]
  },
  {
   "cell_type": "code",
   "execution_count": null,
   "metadata": {},
   "outputs": [],
   "source": [
    "tf.data.experimental.save(dataset, 'msp/datasets/data/sample_msp_tf_1')"
   ]
  },
  {
   "cell_type": "code",
   "execution_count": null,
   "metadata": {},
   "outputs": [],
   "source": []
  },
  {
   "cell_type": "code",
   "execution_count": null,
   "metadata": {},
   "outputs": [],
   "source": [
    "dataset = load_sample_data()"
   ]
  },
  {
   "cell_type": "code",
   "execution_count": null,
   "metadata": {},
   "outputs": [],
   "source": [
    "from msp.graphs import MSPGraph\n",
    "G = MSPGraph.from_dict(list(dataset.take(1))[0])\n",
    "\n",
    "from networkx.drawing.nx_pydot import write_dot\n",
    "# pos = nx.nx_agraph.graphviz_layout(G)\n",
    "# nx.draw(G, pos=pos)\n",
    "write_dot(G, 'file.dot')"
   ]
  },
  {
   "cell_type": "code",
   "execution_count": null,
   "metadata": {},
   "outputs": [],
   "source": [
    "G.graph['alpha'] = 'Graph____Attributes'"
   ]
  },
  {
   "cell_type": "code",
   "execution_count": null,
   "metadata": {},
   "outputs": [],
   "source": [
    "nx.write_graphml_lxml(G, \"file.graphml\")"
   ]
  },
  {
   "cell_type": "code",
   "execution_count": null,
   "metadata": {},
   "outputs": [],
   "source": [
    "d = load_sample_data()"
   ]
  },
  {
   "cell_type": "code",
   "execution_count": null,
   "metadata": {},
   "outputs": [],
   "source": [
    "d"
   ]
  },
  {
   "cell_type": "code",
   "execution_count": null,
   "metadata": {},
   "outputs": [],
   "source": [
    "dataset"
   ]
  },
  {
   "cell_type": "code",
   "execution_count": null,
   "metadata": {},
   "outputs": [],
   "source": [
    "tf.data.experimental.save(dataset, 'data/sample_tf')"
   ]
  },
  {
   "cell_type": "code",
   "execution_count": null,
   "metadata": {},
   "outputs": [],
   "source": [
    "new_dataset = tf.data.experimental.load('data/sample_tf', compression='GZIP')"
   ]
  },
  {
   "cell_type": "code",
   "execution_count": null,
   "metadata": {},
   "outputs": [],
   "source": [
    "list(dataset.take(2))"
   ]
  },
  {
   "cell_type": "code",
   "execution_count": null,
   "metadata": {},
   "outputs": [],
   "source": [
    "list(new_dataset.take(5))"
   ]
  },
  {
   "cell_type": "code",
   "execution_count": null,
   "metadata": {},
   "outputs": [],
   "source": [
    "os.path.dirname(__file__)"
   ]
  },
  {
   "cell_type": "code",
   "execution_count": null,
   "metadata": {},
   "outputs": [],
   "source": [
    "from os.path import dirname\n",
    "dirname(__file__)"
   ]
  },
  {
   "cell_type": "code",
   "execution_count": null,
   "metadata": {},
   "outputs": [],
   "source": [
    "import os\n",
    "os.path.dirname(__file__) + os.path.basename(__file__)"
   ]
  },
  {
   "cell_type": "code",
   "execution_count": null,
   "metadata": {
    "tags": [
     "outputPrepend"
    ]
   },
   "outputs": [],
   "source": [
    "for i,j in zip(new_dataset,dataset):\n",
    "    print(i)\n",
    "    print(j)\n",
    "    print('=====')"
   ]
  },
  {
   "cell_type": "code",
   "execution_count": null,
   "metadata": {},
   "outputs": [],
   "source": []
  },
  {
   "cell_type": "code",
   "execution_count": null,
   "metadata": {},
   "outputs": [],
   "source": []
  },
  {
   "cell_type": "code",
   "execution_count": null,
   "metadata": {},
   "outputs": [],
   "source": []
  },
  {
   "cell_type": "code",
   "execution_count": null,
   "metadata": {},
   "outputs": [],
   "source": []
  },
  {
   "cell_type": "code",
   "execution_count": null,
   "metadata": {},
   "outputs": [],
   "source": []
  },
  {
   "cell_type": "code",
   "execution_count": null,
   "metadata": {},
   "outputs": [],
   "source": [
    "G = MSPGraph.from_dict(list(dataset.take(1))[0])\n",
    "G.number_of_nodes()"
   ]
  },
  {
   "cell_type": "code",
   "execution_count": null,
   "metadata": {},
   "outputs": [],
   "source": [
    "tf.data.Dataset(dataset)"
   ]
  },
  {
   "cell_type": "code",
   "execution_count": null,
   "metadata": {},
   "outputs": [],
   "source": []
  },
  {
   "cell_type": "code",
   "execution_count": null,
   "metadata": {},
   "outputs": [],
   "source": [
    "tf.data.Dataset.range(10)"
   ]
  },
  {
   "cell_type": "code",
   "execution_count": null,
   "metadata": {},
   "outputs": [],
   "source": []
  },
  {
   "cell_type": "code",
   "execution_count": null,
   "metadata": {},
   "outputs": [],
   "source": []
  },
  {
   "cell_type": "code",
   "execution_count": null,
   "metadata": {},
   "outputs": [],
   "source": [
    "tf.data.experimental.save(dataset, 'data/')"
   ]
  },
  {
   "cell_type": "code",
   "execution_count": null,
   "metadata": {},
   "outputs": [],
   "source": [
    "d = tf.data.experimental.load('data/', element_spec=None, compression=None, reader_func=None)"
   ]
  },
  {
   "cell_type": "code",
   "execution_count": null,
   "metadata": {},
   "outputs": [],
   "source": [
    "import tempfile\n",
    "path = 'data/' #os.path.join(tempfile.gettempdir(), \"saved_data\")\n",
    "# Save a dataset\n",
    "dataset = tf.data.Dataset.range(2)\n",
    "tf.data.experimental.save(dataset, path)\n",
    "new_dataset = tf.data.experimental.load(path)\n",
    "for elem in new_dataset:\n",
    "  print(elem)\n",
    "\n"
   ]
  },
  {
   "cell_type": "code",
   "execution_count": null,
   "metadata": {},
   "outputs": [],
   "source": [
    "new_dataset"
   ]
  },
  {
   "cell_type": "code",
   "execution_count": null,
   "metadata": {},
   "outputs": [],
   "source": [
    "import inspect\n",
    "\n",
    "print(inspect.getsource(tf.data.Dataset.from_generator))"
   ]
  },
  {
   "cell_type": "code",
   "execution_count": null,
   "metadata": {},
   "outputs": [],
   "source": [
    "dataset = make_data(1, msp_size=(20,80))\n",
    "G = MSPGraph.from_dict(list(dataset.take(1))[0])\n",
    "G.number_of_nodes()"
   ]
  },
  {
   "cell_type": "code",
   "execution_count": null,
   "metadata": {},
   "outputs": [],
   "source": [
    "dir(FlatMapDataset)"
   ]
  },
  {
   "cell_type": "code",
   "execution_count": null,
   "metadata": {},
   "outputs": [],
   "source": [
    "G.to_gexf()"
   ]
  },
  {
   "cell_type": "code",
   "execution_count": null,
   "metadata": {},
   "outputs": [],
   "source": [
    "node_features = G.node_features\n",
    "node_features"
   ]
  },
  {
   "cell_type": "code",
   "execution_count": null,
   "metadata": {},
   "outputs": [],
   "source": [
    "nodes = range(node_features.shape[0])\n",
    "\n",
    "node_feat_name = None    \n",
    "if node_feat_name is None:\n",
    "    node_feat_name = ['nfeature_'+str(i+1) for i in nodes]\n",
    "\n",
    "# dict(zip(node_feat_name,vec))\n",
    "node_for_adding = zip(\n",
    "    nodes,\n",
    "    map(lambda vec: dict(zip(node_feat_name,vec.numpy())), node_features)\n",
    ")\n",
    "list(node_for_adding)"
   ]
  },
  {
   "cell_type": "code",
   "execution_count": null,
   "metadata": {},
   "outputs": [],
   "source": []
  },
  {
   "cell_type": "code",
   "execution_count": null,
   "metadata": {},
   "outputs": [],
   "source": [
    "MSPGraph()"
   ]
  },
  {
   "cell_type": "code",
   "execution_count": null,
   "metadata": {},
   "outputs": [],
   "source": []
  },
  {
   "cell_type": "code",
   "execution_count": null,
   "metadata": {},
   "outputs": [],
   "source": []
  },
  {
   "cell_type": "code",
   "execution_count": null,
   "metadata": {},
   "outputs": [],
   "source": [
    "from msp.datasets import make_data, MSPGraph\n",
    "_generator = make_data(1, msp_size=(4,10))\n",
    "node_features, edge_features, alpha, edge_index, G = _generator(1)"
   ]
  },
  {
   "cell_type": "code",
   "execution_count": null,
   "metadata": {},
   "outputs": [],
   "source": [
    "nx.draw_networkx(G)"
   ]
  },
  {
   "cell_type": "code",
   "execution_count": null,
   "metadata": {},
   "outputs": [],
   "source": []
  },
  {
   "cell_type": "code",
   "execution_count": null,
   "metadata": {},
   "outputs": [],
   "source": [
    "G.edge_index"
   ]
  },
  {
   "cell_type": "code",
   "execution_count": null,
   "metadata": {},
   "outputs": [],
   "source": [
    "G2 = G.to_dict()"
   ]
  },
  {
   "cell_type": "code",
   "execution_count": null,
   "metadata": {},
   "outputs": [],
   "source": [
    "G2"
   ]
  },
  {
   "cell_type": "code",
   "execution_count": null,
   "metadata": {},
   "outputs": [],
   "source": [
    "MSPGraph.from_dict(G2).to_dict()"
   ]
  },
  {
   "cell_type": "code",
   "execution_count": null,
   "metadata": {},
   "outputs": [],
   "source": []
  },
  {
   "cell_type": "code",
   "execution_count": null,
   "metadata": {},
   "outputs": [],
   "source": []
  },
  {
   "cell_type": "code",
   "execution_count": null,
   "metadata": {},
   "outputs": [],
   "source": []
  },
  {
   "cell_type": "code",
   "execution_count": null,
   "metadata": {},
   "outputs": [],
   "source": [
    "node_features"
   ]
  },
  {
   "cell_type": "code",
   "execution_count": null,
   "metadata": {},
   "outputs": [],
   "source": [
    "G.node_features"
   ]
  },
  {
   "cell_type": "code",
   "execution_count": null,
   "metadata": {},
   "outputs": [],
   "source": [
    "edge_features"
   ]
  },
  {
   "cell_type": "code",
   "execution_count": null,
   "metadata": {},
   "outputs": [],
   "source": [
    "G.edge_features"
   ]
  },
  {
   "cell_type": "code",
   "execution_count": null,
   "metadata": {},
   "outputs": [],
   "source": [
    "edge_index"
   ]
  },
  {
   "cell_type": "code",
   "execution_count": null,
   "metadata": {},
   "outputs": [],
   "source": [
    "G.edge_index"
   ]
  },
  {
   "cell_type": "code",
   "execution_count": null,
   "metadata": {},
   "outputs": [],
   "source": [
    "G.alpha"
   ]
  },
  {
   "cell_type": "code",
   "execution_count": null,
   "metadata": {},
   "outputs": [],
   "source": [
    "alpha"
   ]
  },
  {
   "cell_type": "code",
   "execution_count": null,
   "metadata": {},
   "outputs": [],
   "source": [
    "from msp.datasets import MSPGraph\n",
    "G2 = MSPGraph.from_dict(G.to_dict())\n",
    "G2.to_dict()"
   ]
  },
  {
   "cell_type": "code",
   "execution_count": null,
   "metadata": {},
   "outputs": [],
   "source": []
  },
  {
   "cell_type": "code",
   "execution_count": null,
   "metadata": {},
   "outputs": [],
   "source": [
    "for i in G2.nodes(data=True)._nodes.values():\n",
    "    print(tf.constant([*i.values()]))\n",
    "    break"
   ]
  },
  {
   "cell_type": "code",
   "execution_count": null,
   "metadata": {},
   "outputs": [],
   "source": []
  },
  {
   "cell_type": "code",
   "execution_count": null,
   "metadata": {},
   "outputs": [],
   "source": []
  },
  {
   "cell_type": "code",
   "execution_count": null,
   "metadata": {},
   "outputs": [],
   "source": [
    "G.to_dict()"
   ]
  },
  {
   "cell_type": "code",
   "execution_count": null,
   "metadata": {},
   "outputs": [],
   "source": [
    "x = tf.constant([[[ 1,  2,  3],\n",
    "                  [ 4,  5,  6]],\n",
    "                 [[ 7,  8,  9],\n",
    "                  [10, 11, 12]]])\n",
    "np.array(np.array(x)).T"
   ]
  },
  {
   "cell_type": "code",
   "execution_count": null,
   "metadata": {},
   "outputs": [],
   "source": []
  },
  {
   "cell_type": "code",
   "execution_count": null,
   "metadata": {},
   "outputs": [],
   "source": []
  },
  {
   "cell_type": "code",
   "execution_count": null,
   "metadata": {},
   "outputs": [],
   "source": []
  },
  {
   "cell_type": "code",
   "execution_count": null,
   "metadata": {},
   "outputs": [],
   "source": []
  },
  {
   "cell_type": "code",
   "execution_count": null,
   "metadata": {},
   "outputs": [],
   "source": []
  },
  {
   "cell_type": "code",
   "execution_count": null,
   "metadata": {},
   "outputs": [],
   "source": [
    "_generator = make_data(1, msp_size=(2,5))\n",
    "node_features, alpha, edge_index, msp = _generator(1)"
   ]
  },
  {
   "cell_type": "code",
   "execution_count": null,
   "metadata": {},
   "outputs": [],
   "source": [
    "node_features"
   ]
  },
  {
   "cell_type": "code",
   "execution_count": null,
   "metadata": {},
   "outputs": [],
   "source": [
    "alpha"
   ]
  },
  {
   "cell_type": "code",
   "execution_count": null,
   "metadata": {},
   "outputs": [],
   "source": [
    "edge_index"
   ]
  },
  {
   "cell_type": "code",
   "execution_count": null,
   "metadata": {},
   "outputs": [],
   "source": [
    "from msp.utils import _is_connected"
   ]
  },
  {
   "cell_type": "code",
   "execution_count": null,
   "metadata": {},
   "outputs": [],
   "source": [
    "np.array(list(\n",
    "    filter(\n",
    "        functools.partial(_is_connected, node_features, alpha),\n",
    "        itertools.combinations(range(7), 2)\n",
    "    )\n",
    ")).T"
   ]
  },
  {
   "cell_type": "code",
   "execution_count": null,
   "metadata": {},
   "outputs": [],
   "source": [
    "g = list(itertools.combinations(range(7), 2))\n",
    "np.array(g).reshape(2,-1)"
   ]
  },
  {
   "cell_type": "code",
   "execution_count": null,
   "metadata": {},
   "outputs": [],
   "source": []
  },
  {
   "cell_type": "code",
   "execution_count": null,
   "metadata": {},
   "outputs": [],
   "source": []
  },
  {
   "cell_type": "code",
   "execution_count": null,
   "metadata": {},
   "outputs": [],
   "source": []
  },
  {
   "cell_type": "code",
   "execution_count": null,
   "metadata": {},
   "outputs": [],
   "source": []
  },
  {
   "cell_type": "code",
   "execution_count": null,
   "metadata": {},
   "outputs": [],
   "source": [
    "G = msp"
   ]
  },
  {
   "cell_type": "code",
   "execution_count": null,
   "metadata": {},
   "outputs": [],
   "source": [
    "G.number_of_nodes()\n",
    "G.number_of_edges()\n",
    "list(G.nodes)\n",
    "list(G.edges)\n",
    "list(G.adj[1])\n",
    "list(G.neighbors(1))\n",
    "G.degree[1]  \n",
    "G.edges([2, 4])\n",
    "G.degree([2, 3])\n",
    "G[3]\n",
    "nx.draw(G, with_labels=True, font_weight='bold')"
   ]
  },
  {
   "cell_type": "code",
   "execution_count": null,
   "metadata": {},
   "outputs": [],
   "source": [
    "G.edges"
   ]
  },
  {
   "cell_type": "code",
   "execution_count": null,
   "metadata": {},
   "outputs": [],
   "source": [
    "edge_index"
   ]
  },
  {
   "cell_type": "code",
   "execution_count": null,
   "metadata": {},
   "outputs": [],
   "source": [
    "G.nodes(data=True)[0]"
   ]
  },
  {
   "cell_type": "code",
   "execution_count": null,
   "metadata": {},
   "outputs": [],
   "source": []
  },
  {
   "cell_type": "code",
   "execution_count": null,
   "metadata": {},
   "outputs": [],
   "source": [
    "G"
   ]
  },
  {
   "cell_type": "code",
   "execution_count": null,
   "metadata": {},
   "outputs": [],
   "source": []
  },
  {
   "cell_type": "code",
   "execution_count": null,
   "metadata": {},
   "outputs": [],
   "source": []
  },
  {
   "cell_type": "code",
   "execution_count": null,
   "metadata": {},
   "outputs": [],
   "source": []
  },
  {
   "cell_type": "code",
   "execution_count": null,
   "metadata": {},
   "outputs": [],
   "source": [
    "_generator(1)"
   ]
  },
  {
   "cell_type": "code",
   "execution_count": null,
   "metadata": {},
   "outputs": [],
   "source": [
    "A = np.array([[1,2],[4,5]])\n",
    "list(map(lambda x,y: tuple(x)+(y,),  A, [{'af':'sdf'},{'af':'sdf'}]))"
   ]
  },
  {
   "cell_type": "code",
   "execution_count": null,
   "metadata": {},
   "outputs": [],
   "source": [
    "map(\n",
    "---> 51             lambda e_indx,attr: e_indx+(attr,),\n",
    "     52             edge_index.T,\n",
    "     53             map(lambda vec: dict(zip(edge_feat_name,vec)), edge_features)"
   ]
  },
  {
   "cell_type": "code",
   "execution_count": null,
   "metadata": {},
   "outputs": [],
   "source": []
  },
  {
   "cell_type": "code",
   "execution_count": null,
   "metadata": {},
   "outputs": [],
   "source": []
  },
  {
   "cell_type": "code",
   "execution_count": null,
   "metadata": {},
   "outputs": [],
   "source": [
    "tf.Tensor"
   ]
  },
  {
   "cell_type": "code",
   "execution_count": null,
   "metadata": {},
   "outputs": [],
   "source": [
    "B = tf.convert_to_tensor(A)\n",
    "if not isinstance(B, tf.Tensor):\n",
    "    print('asdfa')"
   ]
  },
  {
   "cell_type": "code",
   "execution_count": null,
   "metadata": {},
   "outputs": [],
   "source": [
    "tf.enable_eager_execution?\n",
    "A = np.random.rand(3,4)\n",
    "r = tf.convert_to_tensor(A)\n",
    "type(r)"
   ]
  },
  {
   "cell_type": "code",
   "execution_count": null,
   "metadata": {},
   "outputs": [],
   "source": [
    "import numpy as np\n",
    "\n",
    "def my_func(arg):\n",
    "  arg = tf.convert_to_tensor(arg, dtype=tf.float32)\n",
    "  return arg\n",
    "\n",
    "# The following calls are equivalent.\n",
    "\n",
    "value_1 = my_func(tf.constant([[1.0, 2.0], [3.0, 4.0]]))\n",
    "print(value_1, type(value_1))\n",
    "\n",
    "\n",
    "\n",
    "value_2 = my_func([[1.0, 2.0], [3.0, 4.0]])\n",
    "print(value_2)\n",
    "\n",
    "\n",
    "\n",
    "value_3 =  tf.convert_to_tensor(A)\n",
    "print(value_3)\n",
    "\n",
    "\n"
   ]
  },
  {
   "cell_type": "code",
   "execution_count": null,
   "metadata": {},
   "outputs": [],
   "source": []
  },
  {
   "cell_type": "code",
   "execution_count": null,
   "metadata": {},
   "outputs": [],
   "source": []
  },
  {
   "cell_type": "code",
   "execution_count": null,
   "metadata": {},
   "outputs": [],
   "source": []
  },
  {
   "cell_type": "code",
   "execution_count": null,
   "metadata": {},
   "outputs": [],
   "source": []
  },
  {
   "cell_type": "code",
   "execution_count": null,
   "metadata": {},
   "outputs": [],
   "source": []
  },
  {
   "cell_type": "code",
   "execution_count": null,
   "metadata": {},
   "outputs": [],
   "source": [
    "edge_features = sup(2, msp_size=(2,5))\n",
    "edge_features"
   ]
  },
  {
   "cell_type": "code",
   "execution_count": null,
   "metadata": {},
   "outputs": [],
   "source": [
    "edge_features == 1"
   ]
  },
  {
   "cell_type": "code",
   "execution_count": null,
   "metadata": {},
   "outputs": [],
   "source": [
    "edge_type"
   ]
  },
  {
   "cell_type": "code",
   "execution_count": null,
   "metadata": {},
   "outputs": [],
   "source": [
    "edge_index"
   ]
  },
  {
   "cell_type": "code",
   "execution_count": null,
   "metadata": {},
   "outputs": [],
   "source": [
    "node_features"
   ]
  },
  {
   "cell_type": "code",
   "execution_count": null,
   "metadata": {},
   "outputs": [],
   "source": []
  },
  {
   "cell_type": "code",
   "execution_count": null,
   "metadata": {
    "tags": []
   },
   "outputs": [],
   "source": [
    "sup(2, node_feat_size=5, edge_feat_size=3, msp_size=(3,12))"
   ]
  },
  {
   "cell_type": "code",
   "execution_count": null,
   "metadata": {},
   "outputs": [],
   "source": []
  },
  {
   "cell_type": "code",
   "execution_count": null,
   "metadata": {},
   "outputs": [],
   "source": []
  },
  {
   "cell_type": "code",
   "execution_count": null,
   "metadata": {},
   "outputs": [],
   "source": []
  },
  {
   "cell_type": "code",
   "execution_count": null,
   "metadata": {},
   "outputs": [],
   "source": [
    "sup(2)"
   ]
  },
  {
   "cell_type": "code",
   "execution_count": null,
   "metadata": {},
   "outputs": [],
   "source": []
  },
  {
   "cell_type": "code",
   "execution_count": null,
   "metadata": {},
   "outputs": [],
   "source": [
    "def f(c):\n",
    "    print('dd', c)\n",
    "    return c\n",
    "\n",
    "a,b,c = 0,1,1\n",
    "all((\n",
    "    a and\n",
    "    b and\n",
    "    f(c) == 0\n",
    ",)\n",
    "\n",
    ")\n",
    "\n"
   ]
  },
  {
   "cell_type": "code",
   "execution_count": null,
   "metadata": {},
   "outputs": [],
   "source": [
    "if not any([0,0]) or 0:\n",
    "    print('343')"
   ]
  },
  {
   "cell_type": "code",
   "execution_count": null,
   "metadata": {},
   "outputs": [],
   "source": [
    "iter(1,2,f(3))\n",
    "\n",
    "\n"
   ]
  },
  {
   "cell_type": "code",
   "execution_count": null,
   "metadata": {},
   "outputs": [],
   "source": []
  },
  {
   "cell_type": "code",
   "execution_count": null,
   "metadata": {},
   "outputs": [],
   "source": [
    "from msp.datasets import make_data"
   ]
  },
  {
   "cell_type": "code",
   "execution_count": null,
   "metadata": {},
   "outputs": [],
   "source": [
    "any([2,0])"
   ]
  },
  {
   "cell_type": "code",
   "execution_count": null,
   "metadata": {},
   "outputs": [],
   "source": [
    "d = make_data(2)\n",
    "d"
   ]
  },
  {
   "cell_type": "code",
   "execution_count": null,
   "metadata": {},
   "outputs": [],
   "source": [
    "list(d.take(1))"
   ]
  },
  {
   "cell_type": "code",
   "execution_count": null,
   "metadata": {},
   "outputs": [],
   "source": []
  },
  {
   "cell_type": "code",
   "execution_count": null,
   "metadata": {},
   "outputs": [],
   "source": []
  },
  {
   "cell_type": "code",
   "execution_count": null,
   "metadata": {},
   "outputs": [],
   "source": [
    "from msp import datasets"
   ]
  },
  {
   "cell_type": "code",
   "execution_count": null,
   "metadata": {},
   "outputs": [],
   "source": [
    "from msp.datasets import make_data"
   ]
  },
  {
   "cell_type": "code",
   "execution_count": null,
   "metadata": {},
   "outputs": [],
   "source": []
  },
  {
   "cell_type": "code",
   "execution_count": null,
   "metadata": {},
   "outputs": [],
   "source": []
  },
  {
   "cell_type": "code",
   "execution_count": null,
   "metadata": {},
   "outputs": [],
   "source": [
    "from msp.datasets import make_data"
   ]
  },
  {
   "cell_type": "code",
   "execution_count": null,
   "metadata": {},
   "outputs": [],
   "source": [
    "for i in make_data(2):\n",
    "    print(i)"
   ]
  },
  {
   "cell_type": "code",
   "execution_count": null,
   "metadata": {},
   "outputs": [],
   "source": [
    " make_data(2)"
   ]
  },
  {
   "cell_type": "code",
   "execution_count": null,
   "metadata": {},
   "outputs": [],
   "source": []
  },
  {
   "cell_type": "code",
   "execution_count": null,
   "metadata": {},
   "outputs": [],
   "source": []
  },
  {
   "cell_type": "code",
   "execution_count": null,
   "metadata": {},
   "outputs": [],
   "source": []
  },
  {
   "cell_type": "code",
   "execution_count": null,
   "metadata": {},
   "outputs": [],
   "source": []
  },
  {
   "cell_type": "code",
   "execution_count": null,
   "metadata": {},
   "outputs": [],
   "source": []
  },
  {
   "cell_type": "code",
   "execution_count": null,
   "metadata": {},
   "outputs": [],
   "source": []
  },
  {
   "cell_type": "code",
   "execution_count": null,
   "metadata": {},
   "outputs": [],
   "source": []
  },
  {
   "cell_type": "code",
   "execution_count": null,
   "metadata": {},
   "outputs": [],
   "source": []
  },
  {
   "cell_type": "code",
   "execution_count": null,
   "metadata": {},
   "outputs": [],
   "source": [
    "def fun(a, b):\n",
    "    print(a,b)\n",
    "    return a, b\n",
    "\n",
    "g = {'a':34, 'b':43}\n",
    "fun(**g)"
   ]
  },
  {
   "cell_type": "code",
   "execution_count": null,
   "metadata": {},
   "outputs": [],
   "source": [
    "from sklearn.utils import check_random_state\n",
    "seed = check_random_state(None)\n",
    "\n",
    "a = (1, 1000)\n",
    "n_machines, n_jobs = seed.randint(*a, size=2)\n",
    "n_machines, n_jobs, seed.randint(*a, size=2)"
   ]
  },
  {
   "cell_type": "code",
   "execution_count": null,
   "metadata": {},
   "outputs": [],
   "source": [
    "np.random.randint?"
   ]
  },
  {
   "cell_type": "code",
   "execution_count": null,
   "metadata": {},
   "outputs": [],
   "source": [
    "{'fadsf':3}()"
   ]
  },
  {
   "cell_type": "code",
   "execution_count": null,
   "metadata": {},
   "outputs": [],
   "source": [
    "edge_index = [(20,4)]\n",
    "at = [dict(a=90)]\n",
    "\n",
    "list(map(lambda x,y: x+(y,), edge_index, at))\n"
   ]
  },
  {
   "cell_type": "code",
   "execution_count": null,
   "metadata": {},
   "outputs": [],
   "source": [
    "          map(lambda edge: node_features[edge[0]][-1], edge_index)),\n",
    "          map(lambda edge: node_features[edge[1]][-1], edge_index))"
   ]
  },
  {
   "cell_type": "code",
   "execution_count": null,
   "metadata": {},
   "outputs": [],
   "source": [
    "\n",
    "\n",
    "\n",
    "list(zip(*edge_index,*edge_index[2], [dict(a=90)]))"
   ]
  },
  {
   "cell_type": "code",
   "execution_count": null,
   "metadata": {},
   "outputs": [],
   "source": [
    "F = np.random.rand(3,2)\n",
    "nodes = [20, 4, 5]\n",
    "\n",
    "\n",
    "l1 = zip(nodes, map(lambda vec: dict(zip(s,vec)), F))\n",
    "G = nx.Graph()\n",
    "G.add_nodes_from(l1)\n",
    "G.add_edges_from([(20,5,dict(a=893,b=90))])\n",
    "G.add_edges_from([(5,4,dict(a=893,b=90))])\n",
    "\n",
    "G.graph = {'fadf':32}\n",
    "\n",
    "nx.draw(G, with_labels=True)\n",
    "\n",
    "g = np.array(list(map(\n",
    "    lambda _dict: np.array([*_dict.values()]),\n",
    "    G.nodes(data=True)._nodes.values()\n",
    ")))\n",
    "g\n",
    "\n",
    "# G.edges, G.adj, list(G.adjacency())\n",
    "\n",
    "# G.edges(data=True)._adjdict.values()\n",
    "\n",
    "import operator\n",
    "\n",
    "np.array(list(map(\n",
    "    lambda e: np.array([*e[-1].values()]),\n",
    "    list(G.edges(data=True))\n",
    ")))"
   ]
  },
  {
   "cell_type": "code",
   "execution_count": null,
   "metadata": {},
   "outputs": [],
   "source": [
    "l2 = [(1, dict(size=11)), (2, {\"color\": \"blue\"})]\n",
    "l2"
   ]
  },
  {
   "cell_type": "code",
   "execution_count": null,
   "metadata": {},
   "outputs": [],
   "source": [
    "F = np.random.rand(3,2)\n",
    "nodes = [20, 4, 5]\n",
    "F = [11, 'blue']\n",
    "list(zip(nodes, map(lambda x: dict(da=x),F)))"
   ]
  },
  {
   "cell_type": "code",
   "execution_count": null,
   "metadata": {},
   "outputs": [],
   "source": [
    "G = nx.Graph(name=\"my graph\")\n",
    "G.add_nodes_from(l2)"
   ]
  },
  {
   "cell_type": "code",
   "execution_count": null,
   "metadata": {},
   "outputs": [],
   "source": [
    "nx.draw(G, with_labels=True)\n",
    "G.nodes(data=True)\n",
    "G.graph"
   ]
  },
  {
   "cell_type": "code",
   "execution_count": null,
   "metadata": {},
   "outputs": [],
   "source": [
    "import itertools "
   ]
  },
  {
   "cell_type": "code",
   "execution_count": null,
   "metadata": {},
   "outputs": [],
   "source": [
    "it.combinations([1,2,4], [1,2,4])"
   ]
  },
  {
   "cell_type": "code",
   "execution_count": null,
   "metadata": {},
   "outputs": [],
   "source": [
    "import operator\n",
    "a = [(0, 1), (0, 1), (0, 0), (1,0)]\n",
    "first, snd = zip(*a)\n",
    "r = np.logical_xor(first, list(map(lambda x: x[1], a))).reshape((-1,1))\n",
    "\n",
    "np.random.rand(4,2) * np.invert(r).astype('int')\n",
    "#list(map(operator.itemgetter(0),a))\n"
   ]
  },
  {
   "cell_type": "code",
   "execution_count": null,
   "metadata": {},
   "outputs": [],
   "source": [
    "alpha = np.random.randn(3,4)\n",
    "alpha"
   ]
  },
  {
   "cell_type": "code",
   "execution_count": null,
   "metadata": {},
   "outputs": [],
   "source": [
    "np."
   ]
  },
  {
   "cell_type": "code",
   "execution_count": null,
   "metadata": {},
   "outputs": [],
   "source": [
    "np.dot(alpha[0], alpha[1])"
   ]
  },
  {
   "cell_type": "code",
   "execution_count": null,
   "metadata": {},
   "outputs": [],
   "source": [
    "np.sum(alpha[0]*alpha[1])"
   ]
  },
  {
   "cell_type": "code",
   "execution_count": null,
   "metadata": {},
   "outputs": [],
   "source": [
    "not np.any([1,1,1])"
   ]
  },
  {
   "cell_type": "code",
   "execution_count": null,
   "metadata": {},
   "outputs": [],
   "source": [
    "def a() -> int:\n",
    "    return 0"
   ]
  },
  {
   "cell_type": "code",
   "execution_count": null,
   "metadata": {},
   "outputs": [],
   "source": []
  }
 ]
}