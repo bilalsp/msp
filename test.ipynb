{
 "metadata": {
  "orig_nbformat": 2,
  "kernelspec": {
   "name": "python3",
   "display_name": "Python 3.7.10 64-bit"
  }
 },
 "nbformat": 4,
 "nbformat_minor": 2,
 "cells": [
  {
   "source": [
    "# Modules: Datasets and Graphs"
   ],
   "cell_type": "markdown",
   "metadata": {}
  },
  {
   "cell_type": "code",
   "execution_count": null,
   "metadata": {},
   "outputs": [],
   "source": [
    "import tensorflow as tf\n",
    "from msp.datasets import make_data, load_sample_data\n",
    "from msp.graphs import MSPGraph\n",
    "\n",
    "%load_ext autoreload\n",
    "%autoreload 2"
   ]
  },
  {
   "cell_type": "code",
   "execution_count": 31,
   "metadata": {},
   "outputs": [],
   "source": [
    "dataset = make_data(500, msp_rand_size=(2,30), random_state=2021)\n",
    "tf.data.experimental.save(dataset, 'msp/datasets/data/sample_tf_rand_2021')"
   ]
  },
  {
   "cell_type": "code",
   "execution_count": 34,
   "metadata": {},
   "outputs": [],
   "source": [
    "dataset = load_sample_data()"
   ]
  },
  {
   "cell_type": "code",
   "execution_count": 35,
   "metadata": {},
   "outputs": [
    {
     "output_type": "stream",
     "name": "stdout",
     "text": [
      "MSPGraph(45_759)\n",
      "MSPGraph(42_690)\n",
      "MSPGraph(33_150)\n",
      "MSPGraph(20_172)\n",
      "MSPGraph(35_364)\n",
      "MSPGraph(37_413)\n",
      "MSPGraph(10_44)\n",
      "MSPGraph(14_46)\n",
      "MSPGraph(28_287)\n",
      "MSPGraph(12_54)\n",
      "MSPGraph(42_483)\n",
      "MSPGraph(26_295)\n",
      "MSPGraph(47_675)\n",
      "MSPGraph(22_140)\n",
      "MSPGraph(20_37)\n",
      "MSPGraph(21_39)\n",
      "MSPGraph(37_495)\n",
      "MSPGraph(48_875)\n",
      "MSPGraph(34_483)\n",
      "MSPGraph(25_222)\n",
      "MSPGraph(24_242)\n",
      "MSPGraph(22_191)\n",
      "MSPGraph(18_132)\n",
      "MSPGraph(35_516)\n",
      "MSPGraph(24_156)\n",
      "MSPGraph(40_429)\n",
      "MSPGraph(34_523)\n",
      "MSPGraph(32_435)\n",
      "MSPGraph(42_770)\n",
      "MSPGraph(24_234)\n",
      "MSPGraph(42_455)\n",
      "MSPGraph(22_176)\n",
      "MSPGraph(34_183)\n",
      "MSPGraph(37_456)\n",
      "MSPGraph(23_198)\n",
      "MSPGraph(31_114)\n",
      "MSPGraph(31_59)\n",
      "MSPGraph(34_308)\n",
      "MSPGraph(43_552)\n",
      "MSPGraph(47_756)\n",
      "MSPGraph(24_230)\n",
      "MSPGraph(41_649)\n",
      "MSPGraph(27_180)\n",
      "MSPGraph(21_193)\n",
      "MSPGraph(29_378)\n",
      "MSPGraph(18_62)\n",
      "MSPGraph(23_133)\n",
      "MSPGraph(38_493)\n",
      "MSPGraph(40_627)\n",
      "MSPGraph(30_393)\n",
      "MSPGraph(29_367)\n",
      "MSPGraph(40_609)\n",
      "MSPGraph(31_406)\n",
      "MSPGraph(37_621)\n",
      "MSPGraph(19_80)\n",
      "MSPGraph(31_416)\n",
      "MSPGraph(42_741)\n",
      "MSPGraph(46_864)\n",
      "MSPGraph(41_752)\n",
      "MSPGraph(47_850)\n",
      "MSPGraph(41_544)\n",
      "MSPGraph(37_513)\n",
      "MSPGraph(17_114)\n",
      "MSPGraph(33_297)\n",
      "MSPGraph(24_220)\n",
      "MSPGraph(20_112)\n",
      "MSPGraph(33_490)\n",
      "MSPGraph(45_870)\n",
      "MSPGraph(25_234)\n",
      "MSPGraph(26_289)\n",
      "MSPGraph(52_1073)\n",
      "MSPGraph(23_231)\n",
      "MSPGraph(27_308)\n",
      "MSPGraph(12_60)\n",
      "MSPGraph(49_876)\n",
      "MSPGraph(31_417)\n",
      "MSPGraph(35_385)\n",
      "MSPGraph(36_585)\n",
      "MSPGraph(44_825)\n",
      "MSPGraph(12_56)\n",
      "MSPGraph(34_470)\n",
      "MSPGraph(46_629)\n",
      "MSPGraph(31_405)\n",
      "MSPGraph(20_124)\n",
      "MSPGraph(28_287)\n",
      "MSPGraph(11_42)\n",
      "MSPGraph(13_73)\n",
      "MSPGraph(41_729)\n",
      "MSPGraph(20_183)\n",
      "MSPGraph(12_45)\n",
      "MSPGraph(50_819)\n",
      "MSPGraph(40_570)\n",
      "MSPGraph(23_229)\n",
      "MSPGraph(39_441)\n",
      "MSPGraph(30_282)\n",
      "MSPGraph(19_35)\n",
      "MSPGraph(40_527)\n",
      "MSPGraph(29_301)\n",
      "MSPGraph(30_57)\n",
      "MSPGraph(10_17)\n",
      "MSPGraph(30_392)\n",
      "MSPGraph(19_165)\n",
      "MSPGraph(31_390)\n",
      "MSPGraph(33_318)\n",
      "MSPGraph(32_343)\n",
      "MSPGraph(40_480)\n",
      "MSPGraph(51_1022)\n",
      "MSPGraph(47_910)\n",
      "MSPGraph(25_222)\n",
      "MSPGraph(39_693)\n",
      "MSPGraph(16_75)\n",
      "MSPGraph(6_12)\n",
      "MSPGraph(32_118)\n",
      "MSPGraph(36_354)\n",
      "MSPGraph(46_825)\n",
      "MSPGraph(15_77)\n",
      "MSPGraph(30_330)\n",
      "MSPGraph(21_90)\n",
      "MSPGraph(47_928)\n",
      "MSPGraph(33_177)\n",
      "MSPGraph(35_504)\n",
      "MSPGraph(37_546)\n",
      "MSPGraph(42_510)\n",
      "MSPGraph(43_783)\n",
      "MSPGraph(48_750)\n",
      "MSPGraph(32_265)\n",
      "MSPGraph(22_140)\n",
      "MSPGraph(42_510)\n",
      "MSPGraph(20_153)\n",
      "MSPGraph(26_205)\n",
      "MSPGraph(47_805)\n",
      "MSPGraph(28_330)\n",
      "MSPGraph(22_184)\n",
      "MSPGraph(7_18)\n",
      "MSPGraph(21_74)\n",
      "MSPGraph(18_48)\n",
      "MSPGraph(27_306)\n",
      "MSPGraph(35_552)\n",
      "MSPGraph(15_93)\n",
      "MSPGraph(28_272)\n",
      "MSPGraph(23_228)\n",
      "MSPGraph(25_284)\n",
      "MSPGraph(43_732)\n",
      "MSPGraph(29_153)\n",
      "MSPGraph(45_780)\n",
      "MSPGraph(35_342)\n",
      "MSPGraph(19_143)\n",
      "MSPGraph(21_191)\n",
      "MSPGraph(17_70)\n",
      "MSPGraph(43_732)\n",
      "MSPGraph(31_428)\n",
      "MSPGraph(21_74)\n",
      "MSPGraph(13_23)\n",
      "MSPGraph(25_236)\n",
      "MSPGraph(46_684)\n",
      "MSPGraph(6_14)\n",
      "MSPGraph(53_1102)\n",
      "MSPGraph(36_525)\n",
      "MSPGraph(42_770)\n",
      "MSPGraph(29_253)\n",
      "MSPGraph(39_570)\n",
      "MSPGraph(32_343)\n",
      "MSPGraph(18_124)\n",
      "MSPGraph(10_41)\n",
      "MSPGraph(44_670)\n",
      "MSPGraph(46_710)\n",
      "MSPGraph(32_220)\n",
      "MSPGraph(22_140)\n",
      "MSPGraph(31_410)\n",
      "MSPGraph(25_278)\n",
      "MSPGraph(12_58)\n",
      "MSPGraph(49_798)\n",
      "MSPGraph(37_341)\n",
      "MSPGraph(58_1247)\n",
      "MSPGraph(48_957)\n",
      "MSPGraph(46_710)\n",
      "MSPGraph(29_253)\n",
      "MSPGraph(35_217)\n",
      "MSPGraph(18_62)\n",
      "MSPGraph(19_135)\n",
      "MSPGraph(32_220)\n",
      "MSPGraph(45_690)\n",
      "MSPGraph(31_87)\n",
      "MSPGraph(31_212)\n",
      "MSPGraph(47_675)\n",
      "MSPGraph(39_551)\n",
      "MSPGraph(18_130)\n",
      "MSPGraph(20_176)\n",
      "MSPGraph(32_306)\n",
      "MSPGraph(21_189)\n",
      "MSPGraph(35_527)\n",
      "MSPGraph(14_36)\n",
      "MSPGraph(34_261)\n",
      "MSPGraph(47_928)\n",
      "MSPGraph(27_285)\n",
      "MSPGraph(22_126)\n",
      "MSPGraph(26_285)\n",
      "MSPGraph(47_891)\n",
      "MSPGraph(20_85)\n",
      "MSPGraph(35_364)\n",
      "MSPGraph(31_430)\n",
      "MSPGraph(4_5)\n",
      "MSPGraph(35_517)\n",
      "MSPGraph(30_393)\n",
      "MSPGraph(27_51)\n",
      "MSPGraph(19_66)\n",
      "MSPGraph(17_100)\n",
      "MSPGraph(39_648)\n",
      "MSPGraph(34_499)\n",
      "MSPGraph(35_295)\n",
      "MSPGraph(9_30)\n",
      "MSPGraph(33_437)\n",
      "MSPGraph(35_555)\n",
      "MSPGraph(26_135)\n",
      "MSPGraph(33_318)\n",
      "MSPGraph(44_826)\n",
      "MSPGraph(45_690)\n",
      "MSPGraph(28_207)\n",
      "MSPGraph(14_70)\n",
      "MSPGraph(53_972)\n",
      "MSPGraph(25_262)\n",
      "MSPGraph(34_371)\n",
      "MSPGraph(14_36)\n",
      "MSPGraph(28_273)\n",
      "MSPGraph(19_162)\n",
      "MSPGraph(29_373)\n",
      "MSPGraph(36_573)\n",
      "MSPGraph(27_313)\n",
      "MSPGraph(28_168)\n",
      "MSPGraph(35_424)\n",
      "MSPGraph(33_487)\n",
      "MSPGraph(26_205)\n",
      "MSPGraph(25_209)\n",
      "MSPGraph(35_424)\n",
      "MSPGraph(45_665)\n",
      "MSPGraph(13_42)\n",
      "MSPGraph(30_110)\n",
      "MSPGraph(49_900)\n",
      "MSPGraph(33_501)\n",
      "MSPGraph(16_42)\n",
      "MSPGraph(21_194)\n",
      "MSPGraph(52_1026)\n",
      "MSPGraph(15_50)\n",
      "MSPGraph(16_112)\n",
      "MSPGraph(9_21)\n",
      "MSPGraph(45_819)\n",
      "MSPGraph(22_218)\n",
      "MSPGraph(34_261)\n",
      "MSPGraph(33_497)\n",
      "MSPGraph(37_390)\n",
      "MSPGraph(27_231)\n",
      "MSPGraph(29_55)\n",
      "MSPGraph(5_9)\n",
      "MSPGraph(28_353)\n",
      "MSPGraph(16_109)\n",
      "MSPGraph(17_107)\n",
      "MSPGraph(19_51)\n",
      "MSPGraph(48_938)\n",
      "MSPGraph(20_135)\n",
      "MSPGraph(23_162)\n",
      "MSPGraph(30_391)\n",
      "MSPGraph(42_770)\n",
      "MSPGraph(26_247)\n",
      "MSPGraph(38_612)\n",
      "MSPGraph(40_644)\n",
      "MSPGraph(48_875)\n",
      "MSPGraph(12_63)\n",
      "MSPGraph(45_737)\n",
      "MSPGraph(18_138)\n",
      "MSPGraph(36_573)\n",
      "MSPGraph(46_657)\n",
      "MSPGraph(36_563)\n",
      "MSPGraph(43_713)\n",
      "MSPGraph(26_269)\n",
      "MSPGraph(20_37)\n",
      "MSPGraph(36_224)\n",
      "MSPGraph(36_539)\n",
      "MSPGraph(19_135)\n",
      "MSPGraph(24_140)\n",
      "MSPGraph(43_650)\n",
      "MSPGraph(45_759)\n",
      "MSPGraph(32_376)\n",
      "MSPGraph(13_23)\n",
      "MSPGraph(31_387)\n",
      "MSPGraph(25_69)\n",
      "MSPGraph(33_228)\n",
      "MSPGraph(7_11)\n",
      "MSPGraph(10_29)\n",
      "MSPGraph(44_775)\n",
      "MSPGraph(19_126)\n",
      "MSPGraph(38_567)\n",
      "MSPGraph(5_7)\n",
      "MSPGraph(22_198)\n",
      "MSPGraph(37_435)\n",
      "MSPGraph(40_570)\n",
      "MSPGraph(55_1160)\n",
      "MSPGraph(6_14)\n",
      "MSPGraph(56_1134)\n",
      "MSPGraph(21_174)\n",
      "MSPGraph(27_141)\n",
      "MSPGraph(24_237)\n",
      "MSPGraph(30_375)\n",
      "MSPGraph(49_798)\n",
      "MSPGraph(11_43)\n",
      "MSPGraph(43_650)\n",
      "MSPGraph(33_484)\n",
      "MSPGraph(23_224)\n",
      "MSPGraph(39_551)\n",
      "MSPGraph(10_23)\n",
      "MSPGraph(14_25)\n",
      "MSPGraph(27_75)\n",
      "MSPGraph(32_360)\n",
      "MSPGraph(24_244)\n",
      "MSPGraph(44_810)\n",
      "MSPGraph(27_273)\n",
      "MSPGraph(25_263)\n",
      "MSPGraph(31_437)\n",
      "MSPGraph(24_156)\n",
      "MSPGraph(21_90)\n",
      "MSPGraph(39_621)\n",
      "MSPGraph(28_273)\n",
      "MSPGraph(43_497)\n",
      "MSPGraph(7_18)\n",
      "MSPGraph(35_217)\n",
      "MSPGraph(34_529)\n",
      "MSPGraph(30_356)\n",
      "MSPGraph(37_611)\n",
      "MSPGraph(29_355)\n",
      "MSPGraph(32_439)\n",
      "MSPGraph(44_568)\n",
      "MSPGraph(22_214)\n",
      "MSPGraph(6_14)\n",
      "MSPGraph(41_752)\n",
      "MSPGraph(31_395)\n",
      "MSPGraph(21_192)\n",
      "MSPGraph(40_455)\n",
      "MSPGraph(50_949)\n",
      "MSPGraph(47_871)\n",
      "MSPGraph(27_285)\n",
      "MSPGraph(29_301)\n",
      "MSPGraph(52_920)\n",
      "MSPGraph(43_767)\n",
      "MSPGraph(30_110)\n",
      "MSPGraph(36_586)\n",
      "MSPGraph(52_975)\n",
      "MSPGraph(34_183)\n",
      "MSPGraph(30_330)\n",
      "MSPGraph(38_403)\n",
      "MSPGraph(18_137)\n",
      "MSPGraph(40_455)\n",
      "MSPGraph(36_509)\n",
      "MSPGraph(23_148)\n",
      "MSPGraph(47_928)\n",
      "MSPGraph(47_703)\n",
      "MSPGraph(13_23)\n",
      "MSPGraph(32_398)\n",
      "MSPGraph(11_27)\n",
      "MSPGraph(25_90)\n",
      "MSPGraph(37_627)\n",
      "MSPGraph(13_50)\n",
      "MSPGraph(19_105)\n",
      "MSPGraph(6_9)\n",
      "MSPGraph(26_247)\n",
      "MSPGraph(52_1050)\n",
      "MSPGraph(42_585)\n",
      "MSPGraph(29_81)\n",
      "MSPGraph(36_420)\n",
      "MSPGraph(26_115)\n",
      "MSPGraph(42_630)\n",
      "MSPGraph(17_91)\n",
      "MSPGraph(28_287)\n",
      "MSPGraph(33_423)\n",
      "MSPGraph(35_490)\n",
      "MSPGraph(45_759)\n",
      "MSPGraph(31_212)\n",
      "MSPGraph(31_275)\n",
      "MSPGraph(45_584)\n",
      "MSPGraph(27_313)\n",
      "MSPGraph(10_41)\n",
      "MSPGraph(27_98)\n",
      "MSPGraph(32_404)\n",
      "MSPGraph(21_57)\n",
      "MSPGraph(30_264)\n",
      "MSPGraph(19_66)\n",
      "MSPGraph(20_37)\n",
      "MSPGraph(29_301)\n",
      "MSPGraph(8_24)\n",
      "MSPGraph(39_510)\n",
      "MSPGraph(18_33)\n",
      "MSPGraph(19_35)\n",
      "MSPGraph(51_950)\n",
      "MSPGraph(41_649)\n",
      "MSPGraph(48_722)\n",
      "MSPGraph(29_175)\n",
      "MSPGraph(25_275)\n",
      "MSPGraph(29_364)\n",
      "MSPGraph(36_330)\n",
      "MSPGraph(46_710)\n",
      "MSPGraph(28_342)\n",
      "MSPGraph(25_90)\n",
      "MSPGraph(29_328)\n",
      "MSPGraph(33_318)\n",
      "MSPGraph(42_536)\n",
      "MSPGraph(41_728)\n",
      "MSPGraph(29_384)\n",
      "MSPGraph(12_56)\n",
      "MSPGraph(29_339)\n",
      "MSPGraph(24_45)\n",
      "MSPGraph(55_1160)\n",
      "MSPGraph(24_156)\n",
      "MSPGraph(25_233)\n",
      "MSPGraph(36_224)\n",
      "MSPGraph(15_84)\n",
      "MSPGraph(38_645)\n",
      "MSPGraph(37_546)\n",
      "MSPGraph(22_213)\n",
      "MSPGraph(29_235)\n",
      "MSPGraph(26_287)\n",
      "MSPGraph(12_49)\n",
      "MSPGraph(28_353)\n",
      "MSPGraph(34_390)\n",
      "MSPGraph(22_200)\n",
      "MSPGraph(37_288)\n",
      "MSPGraph(31_426)\n",
      "MSPGraph(15_84)\n",
      "MSPGraph(33_483)\n",
      "MSPGraph(48_956)\n",
      "MSPGraph(55_1107)\n",
      "MSPGraph(31_374)\n",
      "MSPGraph(24_252)\n",
      "MSPGraph(7_11)\n",
      "MSPGraph(20_168)\n",
      "MSPGraph(41_544)\n",
      "MSPGraph(19_66)\n",
      "MSPGraph(20_147)\n",
      "MSPGraph(47_703)\n",
      "MSPGraph(39_441)\n",
      "MSPGraph(39_682)\n",
      "MSPGraph(41_667)\n",
      "MSPGraph(38_637)\n",
      "MSPGraph(31_294)\n",
      "MSPGraph(29_175)\n",
      "MSPGraph(45_819)\n",
      "MSPGraph(37_513)\n",
      "MSPGraph(31_294)\n",
      "MSPGraph(28_273)\n",
      "MSPGraph(46_657)\n",
      "MSPGraph(42_630)\n",
      "MSPGraph(24_239)\n",
      "MSPGraph(22_60)\n",
      "MSPGraph(18_130)\n",
      "MSPGraph(10_41)\n",
      "MSPGraph(40_697)\n",
      "MSPGraph(42_690)\n",
      "MSPGraph(44_693)\n",
      "MSPGraph(33_177)\n",
      "MSPGraph(25_164)\n",
      "MSPGraph(8_23)\n",
      "MSPGraph(39_390)\n",
      "MSPGraph(40_570)\n",
      "MSPGraph(23_117)\n",
      "MSPGraph(51_869)\n",
      "MSPGraph(32_286)\n",
      "MSPGraph(42_510)\n",
      "MSPGraph(21_179)\n",
      "MSPGraph(22_202)\n",
      "MSPGraph(27_180)\n",
      "MSPGraph(37_574)\n",
      "MSPGraph(31_255)\n",
      "MSPGraph(35_558)\n",
      "MSPGraph(33_436)\n",
      "MSPGraph(17_81)\n",
      "MSPGraph(15_88)\n",
      "MSPGraph(27_295)\n",
      "MSPGraph(36_279)\n",
      "MSPGraph(23_213)\n",
      "MSPGraph(41_610)\n",
      "MSPGraph(30_357)\n",
      "MSPGraph(34_390)\n",
      "MSPGraph(46_899)\n",
      "MSPGraph(21_74)\n",
      "MSPGraph(48_777)\n",
      "MSPGraph(28_225)\n",
      "MSPGraph(40_549)\n",
      "MSPGraph(25_47)\n",
      "MSPGraph(37_559)\n",
      "MSPGraph(30_204)\n",
      "MSPGraph(34_425)\n",
      "MSPGraph(44_809)\n",
      "MSPGraph(40_674)\n",
      "MSPGraph(39_636)\n",
      "MSPGraph(23_187)\n",
      "MSPGraph(6_9)\n",
      "MSPGraph(13_41)\n",
      "MSPGraph(41_520)\n",
      "MSPGraph(42_690)\n",
      "MSPGraph(56_1134)\n",
      "MSPGraph(13_42)\n",
      "MSPGraph(32_429)\n",
      "MSPGraph(36_224)\n"
     ]
    }
   ],
   "source": [
    "for sample in dataset:\n",
    "    G = MSPGraph.from_dict(sample)\n",
    "    file_name = \"MSPGraph({}_{})\".format(G.number_of_nodes(),G.number_of_edges())\n",
    "    G.writeAs('msp/datasets/data/sample_graphml_rand_2021/{}.graphml'.format(file_name), 'graphml')"
   ]
  },
  {
   "cell_type": "code",
   "execution_count": null,
   "metadata": {},
   "outputs": [],
   "source": []
  },
  {
   "cell_type": "code",
   "execution_count": null,
   "metadata": {},
   "outputs": [],
   "source": []
  },
  {
   "cell_type": "code",
   "execution_count": null,
   "metadata": {},
   "outputs": [],
   "source": []
  },
  {
   "cell_type": "code",
   "execution_count": null,
   "metadata": {},
   "outputs": [],
   "source": []
  },
  {
   "cell_type": "code",
   "execution_count": null,
   "metadata": {},
   "outputs": [],
   "source": []
  },
  {
   "cell_type": "code",
   "execution_count": null,
   "metadata": {},
   "outputs": [],
   "source": []
  },
  {
   "cell_type": "code",
   "execution_count": null,
   "metadata": {},
   "outputs": [],
   "source": [
    "import networkx as nx\n",
    "import numpy as np\n",
    "import tensorflow as tf\n",
    "\n",
    "import itertools\n",
    "import functools\n",
    "\n",
    "from tensorflow.data import Dataset\n",
    "from tensorflow.python.data.ops.dataset_ops import FlatMapDataset"
   ]
  },
  {
   "cell_type": "code",
   "execution_count": null,
   "metadata": {},
   "outputs": [],
   "source": [
    "%load_ext autoreload\n",
    "%autoreload 2\n",
    "\n",
    "from msp.datasets import make_data, load_sample_data\n",
    "from msp.graphs import MSPGraph\n"
   ]
  },
  {
   "cell_type": "code",
   "execution_count": null,
   "metadata": {},
   "outputs": [],
   "source": [
    "dataset = make_data(1, msp_rand_size=(10,80))\n",
    "G = MSPGraph.from_dict(list(dataset.take(1))[0])"
   ]
  },
  {
   "cell_type": "code",
   "execution_count": null,
   "metadata": {},
   "outputs": [],
   "source": [
    "degrees = [val for (node, val) in G.degree() if val==0]\n",
    "\n",
    "import numpy as np\n",
    "np.random.randint(*(5,80), size=2).sum()"
   ]
  },
  {
   "cell_type": "code",
   "execution_count": null,
   "metadata": {},
   "outputs": [],
   "source": []
  },
  {
   "cell_type": "code",
   "execution_count": null,
   "metadata": {},
   "outputs": [],
   "source": [
    "G.alpha"
   ]
  },
  {
   "cell_type": "code",
   "execution_count": null,
   "metadata": {},
   "outputs": [],
   "source": [
    "alpha = G.alpha\n",
    "\n",
    "\n",
    "alpha_2 = ','.join(map(str, alpha.numpy().flatten()))\n",
    "\n",
    "alpha_3 = tf.constant(np.array(alpha_2.split(','), dtype='float').reshape(alpha.shape))"
   ]
  },
  {
   "cell_type": "code",
   "execution_count": null,
   "metadata": {},
   "outputs": [],
   "source": [
    "G.number_of_nodes()"
   ]
  },
  {
   "cell_type": "code",
   "execution_count": null,
   "metadata": {},
   "outputs": [],
   "source": [
    "G.writeAs('file.graphml', 'graphml')"
   ]
  },
  {
   "cell_type": "code",
   "execution_count": null,
   "metadata": {},
   "outputs": [],
   "source": [
    "G.number_of_nodes(), G.number_of_edges()"
   ]
  },
  {
   "cell_type": "code",
   "execution_count": null,
   "metadata": {},
   "outputs": [],
   "source": [
    "#G.edges"
   ]
  },
  {
   "cell_type": "code",
   "execution_count": null,
   "metadata": {},
   "outputs": [],
   "source": [
    "GG = nx.read_graphml('file.graphml')"
   ]
  },
  {
   "cell_type": "code",
   "execution_count": null,
   "metadata": {},
   "outputs": [],
   "source": [
    "GG.graph['alpha']"
   ]
  },
  {
   "cell_type": "code",
   "execution_count": null,
   "metadata": {},
   "outputs": [],
   "source": [
    "tf.data.experimental.save(dataset, 'msp/datasets/data/sample_msp_tf_1')"
   ]
  },
  {
   "cell_type": "code",
   "execution_count": null,
   "metadata": {},
   "outputs": [],
   "source": []
  },
  {
   "cell_type": "code",
   "execution_count": null,
   "metadata": {},
   "outputs": [],
   "source": [
    "dataset = load_sample_data()"
   ]
  },
  {
   "cell_type": "code",
   "execution_count": null,
   "metadata": {},
   "outputs": [],
   "source": [
    "from msp.graphs import MSPGraph\n",
    "G = MSPGraph.from_dict(list(dataset.take(1))[0])\n",
    "\n",
    "from networkx.drawing.nx_pydot import write_dot\n",
    "# pos = nx.nx_agraph.graphviz_layout(G)\n",
    "# nx.draw(G, pos=pos)\n",
    "write_dot(G, 'file.dot')"
   ]
  },
  {
   "cell_type": "code",
   "execution_count": null,
   "metadata": {},
   "outputs": [],
   "source": [
    "G.graph['alpha'] = 'Graph____Attributes'"
   ]
  },
  {
   "cell_type": "code",
   "execution_count": null,
   "metadata": {},
   "outputs": [],
   "source": [
    "nx.write_graphml_lxml(G, \"file.graphml\")"
   ]
  },
  {
   "cell_type": "code",
   "execution_count": null,
   "metadata": {},
   "outputs": [],
   "source": [
    "d = load_sample_data()"
   ]
  },
  {
   "cell_type": "code",
   "execution_count": null,
   "metadata": {},
   "outputs": [],
   "source": [
    "d"
   ]
  },
  {
   "cell_type": "code",
   "execution_count": null,
   "metadata": {},
   "outputs": [],
   "source": [
    "dataset"
   ]
  },
  {
   "cell_type": "code",
   "execution_count": null,
   "metadata": {},
   "outputs": [],
   "source": [
    "tf.data.experimental.save(dataset, 'data/sample_tf')"
   ]
  },
  {
   "cell_type": "code",
   "execution_count": null,
   "metadata": {},
   "outputs": [],
   "source": [
    "new_dataset = tf.data.experimental.load('data/sample_tf', compression='GZIP')"
   ]
  },
  {
   "cell_type": "code",
   "execution_count": null,
   "metadata": {},
   "outputs": [],
   "source": [
    "list(dataset.take(2))"
   ]
  },
  {
   "cell_type": "code",
   "execution_count": null,
   "metadata": {},
   "outputs": [],
   "source": [
    "list(new_dataset.take(5))"
   ]
  },
  {
   "cell_type": "code",
   "execution_count": null,
   "metadata": {},
   "outputs": [],
   "source": [
    "os.path.dirname(__file__)"
   ]
  },
  {
   "cell_type": "code",
   "execution_count": null,
   "metadata": {},
   "outputs": [],
   "source": [
    "from os.path import dirname\n",
    "dirname(__file__)"
   ]
  },
  {
   "cell_type": "code",
   "execution_count": null,
   "metadata": {},
   "outputs": [],
   "source": [
    "import os\n",
    "os.path.dirname(__file__) + os.path.basename(__file__)"
   ]
  },
  {
   "cell_type": "code",
   "execution_count": null,
   "metadata": {
    "tags": [
     "outputPrepend"
    ]
   },
   "outputs": [],
   "source": [
    "for i,j in zip(new_dataset,dataset):\n",
    "    print(i)\n",
    "    print(j)\n",
    "    print('=====')"
   ]
  },
  {
   "cell_type": "code",
   "execution_count": null,
   "metadata": {},
   "outputs": [],
   "source": []
  },
  {
   "cell_type": "code",
   "execution_count": null,
   "metadata": {},
   "outputs": [],
   "source": []
  },
  {
   "cell_type": "code",
   "execution_count": null,
   "metadata": {},
   "outputs": [],
   "source": []
  },
  {
   "cell_type": "code",
   "execution_count": null,
   "metadata": {},
   "outputs": [],
   "source": []
  },
  {
   "cell_type": "code",
   "execution_count": null,
   "metadata": {},
   "outputs": [],
   "source": []
  },
  {
   "cell_type": "code",
   "execution_count": null,
   "metadata": {},
   "outputs": [],
   "source": [
    "G = MSPGraph.from_dict(list(dataset.take(1))[0])\n",
    "G.number_of_nodes()"
   ]
  },
  {
   "cell_type": "code",
   "execution_count": null,
   "metadata": {},
   "outputs": [],
   "source": [
    "tf.data.Dataset(dataset)"
   ]
  },
  {
   "cell_type": "code",
   "execution_count": null,
   "metadata": {},
   "outputs": [],
   "source": []
  },
  {
   "cell_type": "code",
   "execution_count": null,
   "metadata": {},
   "outputs": [],
   "source": [
    "tf.data.Dataset.range(10)"
   ]
  },
  {
   "cell_type": "code",
   "execution_count": null,
   "metadata": {},
   "outputs": [],
   "source": []
  },
  {
   "cell_type": "code",
   "execution_count": null,
   "metadata": {},
   "outputs": [],
   "source": []
  },
  {
   "cell_type": "code",
   "execution_count": null,
   "metadata": {},
   "outputs": [],
   "source": [
    "tf.data.experimental.save(dataset, 'data/')"
   ]
  },
  {
   "cell_type": "code",
   "execution_count": null,
   "metadata": {},
   "outputs": [],
   "source": [
    "d = tf.data.experimental.load('data/', element_spec=None, compression=None, reader_func=None)"
   ]
  },
  {
   "cell_type": "code",
   "execution_count": null,
   "metadata": {},
   "outputs": [],
   "source": [
    "import tempfile\n",
    "path = 'data/' #os.path.join(tempfile.gettempdir(), \"saved_data\")\n",
    "# Save a dataset\n",
    "dataset = tf.data.Dataset.range(2)\n",
    "tf.data.experimental.save(dataset, path)\n",
    "new_dataset = tf.data.experimental.load(path)\n",
    "for elem in new_dataset:\n",
    "  print(elem)\n",
    "\n"
   ]
  },
  {
   "cell_type": "code",
   "execution_count": null,
   "metadata": {},
   "outputs": [],
   "source": [
    "new_dataset"
   ]
  },
  {
   "cell_type": "code",
   "execution_count": null,
   "metadata": {},
   "outputs": [],
   "source": [
    "import inspect\n",
    "\n",
    "print(inspect.getsource(tf.data.Dataset.from_generator))"
   ]
  },
  {
   "cell_type": "code",
   "execution_count": null,
   "metadata": {},
   "outputs": [],
   "source": [
    "dataset = make_data(1, msp_size=(20,80))\n",
    "G = MSPGraph.from_dict(list(dataset.take(1))[0])\n",
    "G.number_of_nodes()"
   ]
  },
  {
   "cell_type": "code",
   "execution_count": null,
   "metadata": {},
   "outputs": [],
   "source": [
    "dir(FlatMapDataset)"
   ]
  },
  {
   "cell_type": "code",
   "execution_count": null,
   "metadata": {},
   "outputs": [],
   "source": [
    "G.to_gexf()"
   ]
  },
  {
   "cell_type": "code",
   "execution_count": null,
   "metadata": {},
   "outputs": [],
   "source": [
    "node_features = G.node_features\n",
    "node_features"
   ]
  },
  {
   "cell_type": "code",
   "execution_count": null,
   "metadata": {},
   "outputs": [],
   "source": [
    "nodes = range(node_features.shape[0])\n",
    "\n",
    "node_feat_name = None    \n",
    "if node_feat_name is None:\n",
    "    node_feat_name = ['nfeature_'+str(i+1) for i in nodes]\n",
    "\n",
    "# dict(zip(node_feat_name,vec))\n",
    "node_for_adding = zip(\n",
    "    nodes,\n",
    "    map(lambda vec: dict(zip(node_feat_name,vec.numpy())), node_features)\n",
    ")\n",
    "list(node_for_adding)"
   ]
  },
  {
   "cell_type": "code",
   "execution_count": null,
   "metadata": {},
   "outputs": [],
   "source": []
  },
  {
   "cell_type": "code",
   "execution_count": null,
   "metadata": {},
   "outputs": [],
   "source": [
    "MSPGraph()"
   ]
  },
  {
   "cell_type": "code",
   "execution_count": null,
   "metadata": {},
   "outputs": [],
   "source": []
  },
  {
   "cell_type": "code",
   "execution_count": null,
   "metadata": {},
   "outputs": [],
   "source": []
  },
  {
   "cell_type": "code",
   "execution_count": null,
   "metadata": {},
   "outputs": [],
   "source": [
    "from msp.datasets import make_data, MSPGraph\n",
    "_generator = make_data(1, msp_size=(4,10))\n",
    "node_features, edge_features, alpha, edge_index, G = _generator(1)"
   ]
  },
  {
   "cell_type": "code",
   "execution_count": null,
   "metadata": {},
   "outputs": [],
   "source": [
    "nx.draw_networkx(G)"
   ]
  },
  {
   "cell_type": "code",
   "execution_count": null,
   "metadata": {},
   "outputs": [],
   "source": []
  },
  {
   "cell_type": "code",
   "execution_count": null,
   "metadata": {},
   "outputs": [],
   "source": [
    "G.edge_index"
   ]
  },
  {
   "cell_type": "code",
   "execution_count": null,
   "metadata": {},
   "outputs": [],
   "source": [
    "G2 = G.to_dict()"
   ]
  },
  {
   "cell_type": "code",
   "execution_count": null,
   "metadata": {},
   "outputs": [],
   "source": [
    "G2"
   ]
  },
  {
   "cell_type": "code",
   "execution_count": null,
   "metadata": {},
   "outputs": [],
   "source": [
    "MSPGraph.from_dict(G2).to_dict()"
   ]
  },
  {
   "cell_type": "code",
   "execution_count": null,
   "metadata": {},
   "outputs": [],
   "source": []
  },
  {
   "cell_type": "code",
   "execution_count": null,
   "metadata": {},
   "outputs": [],
   "source": []
  },
  {
   "cell_type": "code",
   "execution_count": null,
   "metadata": {},
   "outputs": [],
   "source": []
  },
  {
   "cell_type": "code",
   "execution_count": null,
   "metadata": {},
   "outputs": [],
   "source": [
    "node_features"
   ]
  },
  {
   "cell_type": "code",
   "execution_count": null,
   "metadata": {},
   "outputs": [],
   "source": [
    "G.node_features"
   ]
  },
  {
   "cell_type": "code",
   "execution_count": null,
   "metadata": {},
   "outputs": [],
   "source": [
    "edge_features"
   ]
  },
  {
   "cell_type": "code",
   "execution_count": null,
   "metadata": {},
   "outputs": [],
   "source": [
    "G.edge_features"
   ]
  },
  {
   "cell_type": "code",
   "execution_count": null,
   "metadata": {},
   "outputs": [],
   "source": [
    "edge_index"
   ]
  },
  {
   "cell_type": "code",
   "execution_count": null,
   "metadata": {},
   "outputs": [],
   "source": [
    "G.edge_index"
   ]
  },
  {
   "cell_type": "code",
   "execution_count": null,
   "metadata": {},
   "outputs": [],
   "source": [
    "G.alpha"
   ]
  },
  {
   "cell_type": "code",
   "execution_count": null,
   "metadata": {},
   "outputs": [],
   "source": [
    "alpha"
   ]
  },
  {
   "cell_type": "code",
   "execution_count": null,
   "metadata": {},
   "outputs": [],
   "source": [
    "from msp.datasets import MSPGraph\n",
    "G2 = MSPGraph.from_dict(G.to_dict())\n",
    "G2.to_dict()"
   ]
  },
  {
   "cell_type": "code",
   "execution_count": null,
   "metadata": {},
   "outputs": [],
   "source": []
  },
  {
   "cell_type": "code",
   "execution_count": null,
   "metadata": {},
   "outputs": [],
   "source": [
    "for i in G2.nodes(data=True)._nodes.values():\n",
    "    print(tf.constant([*i.values()]))\n",
    "    break"
   ]
  },
  {
   "cell_type": "code",
   "execution_count": null,
   "metadata": {},
   "outputs": [],
   "source": []
  },
  {
   "cell_type": "code",
   "execution_count": null,
   "metadata": {},
   "outputs": [],
   "source": []
  },
  {
   "cell_type": "code",
   "execution_count": null,
   "metadata": {},
   "outputs": [],
   "source": [
    "G.to_dict()"
   ]
  },
  {
   "cell_type": "code",
   "execution_count": null,
   "metadata": {},
   "outputs": [],
   "source": [
    "x = tf.constant([[[ 1,  2,  3],\n",
    "                  [ 4,  5,  6]],\n",
    "                 [[ 7,  8,  9],\n",
    "                  [10, 11, 12]]])\n",
    "np.array(np.array(x)).T"
   ]
  },
  {
   "cell_type": "code",
   "execution_count": null,
   "metadata": {},
   "outputs": [],
   "source": []
  },
  {
   "cell_type": "code",
   "execution_count": null,
   "metadata": {},
   "outputs": [],
   "source": []
  },
  {
   "cell_type": "code",
   "execution_count": null,
   "metadata": {},
   "outputs": [],
   "source": []
  },
  {
   "cell_type": "code",
   "execution_count": null,
   "metadata": {},
   "outputs": [],
   "source": []
  },
  {
   "cell_type": "code",
   "execution_count": null,
   "metadata": {},
   "outputs": [],
   "source": []
  },
  {
   "cell_type": "code",
   "execution_count": null,
   "metadata": {},
   "outputs": [],
   "source": [
    "_generator = make_data(1, msp_size=(2,5))\n",
    "node_features, alpha, edge_index, msp = _generator(1)"
   ]
  },
  {
   "cell_type": "code",
   "execution_count": null,
   "metadata": {},
   "outputs": [],
   "source": [
    "node_features"
   ]
  },
  {
   "cell_type": "code",
   "execution_count": null,
   "metadata": {},
   "outputs": [],
   "source": [
    "alpha"
   ]
  },
  {
   "cell_type": "code",
   "execution_count": null,
   "metadata": {},
   "outputs": [],
   "source": [
    "edge_index"
   ]
  },
  {
   "cell_type": "code",
   "execution_count": null,
   "metadata": {},
   "outputs": [],
   "source": [
    "from msp.utils import _is_connected"
   ]
  },
  {
   "cell_type": "code",
   "execution_count": null,
   "metadata": {},
   "outputs": [],
   "source": [
    "np.array(list(\n",
    "    filter(\n",
    "        functools.partial(_is_connected, node_features, alpha),\n",
    "        itertools.combinations(range(7), 2)\n",
    "    )\n",
    ")).T"
   ]
  },
  {
   "cell_type": "code",
   "execution_count": null,
   "metadata": {},
   "outputs": [],
   "source": [
    "g = list(itertools.combinations(range(7), 2))\n",
    "np.array(g).reshape(2,-1)"
   ]
  },
  {
   "cell_type": "code",
   "execution_count": null,
   "metadata": {},
   "outputs": [],
   "source": []
  },
  {
   "cell_type": "code",
   "execution_count": null,
   "metadata": {},
   "outputs": [],
   "source": []
  },
  {
   "cell_type": "code",
   "execution_count": null,
   "metadata": {},
   "outputs": [],
   "source": []
  },
  {
   "cell_type": "code",
   "execution_count": null,
   "metadata": {},
   "outputs": [],
   "source": []
  },
  {
   "cell_type": "code",
   "execution_count": null,
   "metadata": {},
   "outputs": [],
   "source": [
    "G = msp"
   ]
  },
  {
   "cell_type": "code",
   "execution_count": null,
   "metadata": {},
   "outputs": [],
   "source": [
    "G.number_of_nodes()\n",
    "G.number_of_edges()\n",
    "list(G.nodes)\n",
    "list(G.edges)\n",
    "list(G.adj[1])\n",
    "list(G.neighbors(1))\n",
    "G.degree[1]  \n",
    "G.edges([2, 4])\n",
    "G.degree([2, 3])\n",
    "G[3]\n",
    "nx.draw(G, with_labels=True, font_weight='bold')"
   ]
  },
  {
   "cell_type": "code",
   "execution_count": null,
   "metadata": {},
   "outputs": [],
   "source": [
    "G.edges"
   ]
  },
  {
   "cell_type": "code",
   "execution_count": null,
   "metadata": {},
   "outputs": [],
   "source": [
    "edge_index"
   ]
  },
  {
   "cell_type": "code",
   "execution_count": null,
   "metadata": {},
   "outputs": [],
   "source": [
    "G.nodes(data=True)[0]"
   ]
  },
  {
   "cell_type": "code",
   "execution_count": null,
   "metadata": {},
   "outputs": [],
   "source": []
  },
  {
   "cell_type": "code",
   "execution_count": null,
   "metadata": {},
   "outputs": [],
   "source": [
    "G"
   ]
  },
  {
   "cell_type": "code",
   "execution_count": null,
   "metadata": {},
   "outputs": [],
   "source": []
  },
  {
   "cell_type": "code",
   "execution_count": null,
   "metadata": {},
   "outputs": [],
   "source": []
  },
  {
   "cell_type": "code",
   "execution_count": null,
   "metadata": {},
   "outputs": [],
   "source": []
  },
  {
   "cell_type": "code",
   "execution_count": null,
   "metadata": {},
   "outputs": [],
   "source": [
    "_generator(1)"
   ]
  },
  {
   "cell_type": "code",
   "execution_count": null,
   "metadata": {},
   "outputs": [],
   "source": [
    "A = np.array([[1,2],[4,5]])\n",
    "list(map(lambda x,y: tuple(x)+(y,),  A, [{'af':'sdf'},{'af':'sdf'}]))"
   ]
  },
  {
   "cell_type": "code",
   "execution_count": null,
   "metadata": {},
   "outputs": [],
   "source": [
    "map(\n",
    "---> 51             lambda e_indx,attr: e_indx+(attr,),\n",
    "     52             edge_index.T,\n",
    "     53             map(lambda vec: dict(zip(edge_feat_name,vec)), edge_features)"
   ]
  },
  {
   "cell_type": "code",
   "execution_count": null,
   "metadata": {},
   "outputs": [],
   "source": []
  },
  {
   "cell_type": "code",
   "execution_count": null,
   "metadata": {},
   "outputs": [],
   "source": []
  },
  {
   "cell_type": "code",
   "execution_count": null,
   "metadata": {},
   "outputs": [],
   "source": [
    "tf.Tensor"
   ]
  },
  {
   "cell_type": "code",
   "execution_count": null,
   "metadata": {},
   "outputs": [],
   "source": [
    "B = tf.convert_to_tensor(A)\n",
    "if not isinstance(B, tf.Tensor):\n",
    "    print('asdfa')"
   ]
  },
  {
   "cell_type": "code",
   "execution_count": null,
   "metadata": {},
   "outputs": [],
   "source": [
    "tf.enable_eager_execution?\n",
    "A = np.random.rand(3,4)\n",
    "r = tf.convert_to_tensor(A)\n",
    "type(r)"
   ]
  },
  {
   "cell_type": "code",
   "execution_count": null,
   "metadata": {},
   "outputs": [],
   "source": [
    "import numpy as np\n",
    "\n",
    "def my_func(arg):\n",
    "  arg = tf.convert_to_tensor(arg, dtype=tf.float32)\n",
    "  return arg\n",
    "\n",
    "# The following calls are equivalent.\n",
    "\n",
    "value_1 = my_func(tf.constant([[1.0, 2.0], [3.0, 4.0]]))\n",
    "print(value_1, type(value_1))\n",
    "\n",
    "\n",
    "\n",
    "value_2 = my_func([[1.0, 2.0], [3.0, 4.0]])\n",
    "print(value_2)\n",
    "\n",
    "\n",
    "\n",
    "value_3 =  tf.convert_to_tensor(A)\n",
    "print(value_3)\n",
    "\n",
    "\n"
   ]
  },
  {
   "cell_type": "code",
   "execution_count": null,
   "metadata": {},
   "outputs": [],
   "source": []
  },
  {
   "cell_type": "code",
   "execution_count": null,
   "metadata": {},
   "outputs": [],
   "source": []
  },
  {
   "cell_type": "code",
   "execution_count": null,
   "metadata": {},
   "outputs": [],
   "source": []
  },
  {
   "cell_type": "code",
   "execution_count": null,
   "metadata": {},
   "outputs": [],
   "source": []
  },
  {
   "cell_type": "code",
   "execution_count": null,
   "metadata": {},
   "outputs": [],
   "source": []
  },
  {
   "cell_type": "code",
   "execution_count": null,
   "metadata": {},
   "outputs": [],
   "source": [
    "edge_features = sup(2, msp_size=(2,5))\n",
    "edge_features"
   ]
  },
  {
   "cell_type": "code",
   "execution_count": null,
   "metadata": {},
   "outputs": [],
   "source": [
    "edge_features == 1"
   ]
  },
  {
   "cell_type": "code",
   "execution_count": null,
   "metadata": {},
   "outputs": [],
   "source": [
    "edge_type"
   ]
  },
  {
   "cell_type": "code",
   "execution_count": null,
   "metadata": {},
   "outputs": [],
   "source": [
    "edge_index"
   ]
  },
  {
   "cell_type": "code",
   "execution_count": null,
   "metadata": {},
   "outputs": [],
   "source": [
    "node_features"
   ]
  },
  {
   "cell_type": "code",
   "execution_count": null,
   "metadata": {},
   "outputs": [],
   "source": []
  },
  {
   "cell_type": "code",
   "execution_count": null,
   "metadata": {
    "tags": []
   },
   "outputs": [],
   "source": [
    "sup(2, node_feat_size=5, edge_feat_size=3, msp_size=(3,12))"
   ]
  },
  {
   "cell_type": "code",
   "execution_count": null,
   "metadata": {},
   "outputs": [],
   "source": []
  },
  {
   "cell_type": "code",
   "execution_count": null,
   "metadata": {},
   "outputs": [],
   "source": []
  },
  {
   "cell_type": "code",
   "execution_count": null,
   "metadata": {},
   "outputs": [],
   "source": []
  },
  {
   "cell_type": "code",
   "execution_count": null,
   "metadata": {},
   "outputs": [],
   "source": [
    "sup(2)"
   ]
  },
  {
   "cell_type": "code",
   "execution_count": null,
   "metadata": {},
   "outputs": [],
   "source": []
  },
  {
   "cell_type": "code",
   "execution_count": null,
   "metadata": {},
   "outputs": [],
   "source": [
    "def f(c):\n",
    "    print('dd', c)\n",
    "    return c\n",
    "\n",
    "a,b,c = 0,1,1\n",
    "all((\n",
    "    a and\n",
    "    b and\n",
    "    f(c) == 0\n",
    ",)\n",
    "\n",
    ")\n",
    "\n"
   ]
  },
  {
   "cell_type": "code",
   "execution_count": null,
   "metadata": {},
   "outputs": [],
   "source": [
    "if not any([0,0]) or 0:\n",
    "    print('343')"
   ]
  },
  {
   "cell_type": "code",
   "execution_count": null,
   "metadata": {},
   "outputs": [],
   "source": [
    "iter(1,2,f(3))\n",
    "\n",
    "\n"
   ]
  },
  {
   "cell_type": "code",
   "execution_count": null,
   "metadata": {},
   "outputs": [],
   "source": []
  },
  {
   "cell_type": "code",
   "execution_count": null,
   "metadata": {},
   "outputs": [],
   "source": [
    "from msp.datasets import make_data"
   ]
  },
  {
   "cell_type": "code",
   "execution_count": null,
   "metadata": {},
   "outputs": [],
   "source": [
    "any([2,0])"
   ]
  },
  {
   "cell_type": "code",
   "execution_count": null,
   "metadata": {},
   "outputs": [],
   "source": [
    "d = make_data(2)\n",
    "d"
   ]
  },
  {
   "cell_type": "code",
   "execution_count": null,
   "metadata": {},
   "outputs": [],
   "source": [
    "list(d.take(1))"
   ]
  },
  {
   "cell_type": "code",
   "execution_count": null,
   "metadata": {},
   "outputs": [],
   "source": []
  },
  {
   "cell_type": "code",
   "execution_count": null,
   "metadata": {},
   "outputs": [],
   "source": []
  },
  {
   "cell_type": "code",
   "execution_count": null,
   "metadata": {},
   "outputs": [],
   "source": [
    "from msp import datasets"
   ]
  },
  {
   "cell_type": "code",
   "execution_count": null,
   "metadata": {},
   "outputs": [],
   "source": [
    "from msp.datasets import make_data"
   ]
  },
  {
   "cell_type": "code",
   "execution_count": null,
   "metadata": {},
   "outputs": [],
   "source": []
  },
  {
   "cell_type": "code",
   "execution_count": null,
   "metadata": {},
   "outputs": [],
   "source": []
  },
  {
   "cell_type": "code",
   "execution_count": null,
   "metadata": {},
   "outputs": [],
   "source": [
    "from msp.datasets import make_data"
   ]
  },
  {
   "cell_type": "code",
   "execution_count": null,
   "metadata": {},
   "outputs": [],
   "source": [
    "for i in make_data(2):\n",
    "    print(i)"
   ]
  },
  {
   "cell_type": "code",
   "execution_count": null,
   "metadata": {},
   "outputs": [],
   "source": [
    " make_data(2)"
   ]
  },
  {
   "cell_type": "code",
   "execution_count": null,
   "metadata": {},
   "outputs": [],
   "source": []
  },
  {
   "cell_type": "code",
   "execution_count": null,
   "metadata": {},
   "outputs": [],
   "source": []
  },
  {
   "cell_type": "code",
   "execution_count": null,
   "metadata": {},
   "outputs": [],
   "source": []
  },
  {
   "cell_type": "code",
   "execution_count": null,
   "metadata": {},
   "outputs": [],
   "source": []
  },
  {
   "cell_type": "code",
   "execution_count": null,
   "metadata": {},
   "outputs": [],
   "source": []
  },
  {
   "cell_type": "code",
   "execution_count": null,
   "metadata": {},
   "outputs": [],
   "source": []
  },
  {
   "cell_type": "code",
   "execution_count": null,
   "metadata": {},
   "outputs": [],
   "source": []
  },
  {
   "cell_type": "code",
   "execution_count": null,
   "metadata": {},
   "outputs": [],
   "source": []
  },
  {
   "cell_type": "code",
   "execution_count": null,
   "metadata": {},
   "outputs": [],
   "source": [
    "def fun(a, b):\n",
    "    print(a,b)\n",
    "    return a, b\n",
    "\n",
    "g = {'a':34, 'b':43}\n",
    "fun(**g)"
   ]
  },
  {
   "cell_type": "code",
   "execution_count": null,
   "metadata": {},
   "outputs": [],
   "source": [
    "from sklearn.utils import check_random_state\n",
    "seed = check_random_state(None)\n",
    "\n",
    "a = (1, 1000)\n",
    "n_machines, n_jobs = seed.randint(*a, size=2)\n",
    "n_machines, n_jobs, seed.randint(*a, size=2)"
   ]
  },
  {
   "cell_type": "code",
   "execution_count": null,
   "metadata": {},
   "outputs": [],
   "source": [
    "np.random.randint?"
   ]
  },
  {
   "cell_type": "code",
   "execution_count": null,
   "metadata": {},
   "outputs": [],
   "source": [
    "{'fadsf':3}()"
   ]
  },
  {
   "cell_type": "code",
   "execution_count": null,
   "metadata": {},
   "outputs": [],
   "source": [
    "edge_index = [(20,4)]\n",
    "at = [dict(a=90)]\n",
    "\n",
    "list(map(lambda x,y: x+(y,), edge_index, at))\n"
   ]
  },
  {
   "cell_type": "code",
   "execution_count": null,
   "metadata": {},
   "outputs": [],
   "source": [
    "          map(lambda edge: node_features[edge[0]][-1], edge_index)),\n",
    "          map(lambda edge: node_features[edge[1]][-1], edge_index))"
   ]
  },
  {
   "cell_type": "code",
   "execution_count": null,
   "metadata": {},
   "outputs": [],
   "source": [
    "\n",
    "\n",
    "\n",
    "list(zip(*edge_index,*edge_index[2], [dict(a=90)]))"
   ]
  },
  {
   "cell_type": "code",
   "execution_count": null,
   "metadata": {},
   "outputs": [],
   "source": [
    "F = np.random.rand(3,2)\n",
    "nodes = [20, 4, 5]\n",
    "\n",
    "\n",
    "l1 = zip(nodes, map(lambda vec: dict(zip(s,vec)), F))\n",
    "G = nx.Graph()\n",
    "G.add_nodes_from(l1)\n",
    "G.add_edges_from([(20,5,dict(a=893,b=90))])\n",
    "G.add_edges_from([(5,4,dict(a=893,b=90))])\n",
    "\n",
    "G.graph = {'fadf':32}\n",
    "\n",
    "nx.draw(G, with_labels=True)\n",
    "\n",
    "g = np.array(list(map(\n",
    "    lambda _dict: np.array([*_dict.values()]),\n",
    "    G.nodes(data=True)._nodes.values()\n",
    ")))\n",
    "g\n",
    "\n",
    "# G.edges, G.adj, list(G.adjacency())\n",
    "\n",
    "# G.edges(data=True)._adjdict.values()\n",
    "\n",
    "import operator\n",
    "\n",
    "np.array(list(map(\n",
    "    lambda e: np.array([*e[-1].values()]),\n",
    "    list(G.edges(data=True))\n",
    ")))"
   ]
  },
  {
   "cell_type": "code",
   "execution_count": null,
   "metadata": {},
   "outputs": [],
   "source": [
    "l2 = [(1, dict(size=11)), (2, {\"color\": \"blue\"})]\n",
    "l2"
   ]
  },
  {
   "cell_type": "code",
   "execution_count": null,
   "metadata": {},
   "outputs": [],
   "source": [
    "F = np.random.rand(3,2)\n",
    "nodes = [20, 4, 5]\n",
    "F = [11, 'blue']\n",
    "list(zip(nodes, map(lambda x: dict(da=x),F)))"
   ]
  },
  {
   "cell_type": "code",
   "execution_count": null,
   "metadata": {},
   "outputs": [],
   "source": [
    "G = nx.Graph(name=\"my graph\")\n",
    "G.add_nodes_from(l2)"
   ]
  },
  {
   "cell_type": "code",
   "execution_count": null,
   "metadata": {},
   "outputs": [],
   "source": [
    "nx.draw(G, with_labels=True)\n",
    "G.nodes(data=True)\n",
    "G.graph"
   ]
  },
  {
   "cell_type": "code",
   "execution_count": null,
   "metadata": {},
   "outputs": [],
   "source": [
    "import itertools "
   ]
  },
  {
   "cell_type": "code",
   "execution_count": null,
   "metadata": {},
   "outputs": [],
   "source": [
    "it.combinations([1,2,4], [1,2,4])"
   ]
  },
  {
   "cell_type": "code",
   "execution_count": null,
   "metadata": {},
   "outputs": [],
   "source": [
    "import operator\n",
    "a = [(0, 1), (0, 1), (0, 0), (1,0)]\n",
    "first, snd = zip(*a)\n",
    "r = np.logical_xor(first, list(map(lambda x: x[1], a))).reshape((-1,1))\n",
    "\n",
    "np.random.rand(4,2) * np.invert(r).astype('int')\n",
    "#list(map(operator.itemgetter(0),a))\n"
   ]
  },
  {
   "cell_type": "code",
   "execution_count": null,
   "metadata": {},
   "outputs": [],
   "source": [
    "alpha = np.random.randn(3,4)\n",
    "alpha"
   ]
  },
  {
   "cell_type": "code",
   "execution_count": null,
   "metadata": {},
   "outputs": [],
   "source": [
    "np."
   ]
  },
  {
   "cell_type": "code",
   "execution_count": null,
   "metadata": {},
   "outputs": [],
   "source": [
    "np.dot(alpha[0], alpha[1])"
   ]
  },
  {
   "cell_type": "code",
   "execution_count": null,
   "metadata": {},
   "outputs": [],
   "source": [
    "np.sum(alpha[0]*alpha[1])"
   ]
  },
  {
   "cell_type": "code",
   "execution_count": null,
   "metadata": {},
   "outputs": [],
   "source": [
    "not np.any([1,1,1])"
   ]
  },
  {
   "cell_type": "code",
   "execution_count": null,
   "metadata": {},
   "outputs": [],
   "source": [
    "def a() -> int:\n",
    "    return 0"
   ]
  },
  {
   "cell_type": "code",
   "execution_count": null,
   "metadata": {},
   "outputs": [],
   "source": []
  }
 ]
}